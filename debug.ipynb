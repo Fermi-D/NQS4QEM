{
 "cells": [
  {
   "cell_type": "code",
   "execution_count": 1,
   "id": "197b0583-88d1-41fe-b3da-5f0658e50c0f",
   "metadata": {},
   "outputs": [],
   "source": [
    "from qulacs.gate import X, Y, Z, H, T"
   ]
  },
  {
   "cell_type": "code",
   "execution_count": 2,
   "id": "678c59ba-68f7-46a5-b42e-862e93f8acb4",
   "metadata": {},
   "outputs": [
    {
     "ename": "AttributeError",
     "evalue": "'builtin_function_or_method' object has no attribute 'get_matrix'",
     "output_type": "error",
     "traceback": [
      "\u001b[0;31m---------------------------------------------------------------------------\u001b[0m",
      "\u001b[0;31mAttributeError\u001b[0m                            Traceback (most recent call last)",
      "Input \u001b[0;32mIn [2]\u001b[0m, in \u001b[0;36m<cell line: 1>\u001b[0;34m()\u001b[0m\n\u001b[0;32m----> 1\u001b[0m \u001b[43mX\u001b[49m\u001b[38;5;241;43m.\u001b[39;49m\u001b[43mget_matrix\u001b[49m()\n",
      "\u001b[0;31mAttributeError\u001b[0m: 'builtin_function_or_method' object has no attribute 'get_matrix'"
     ]
    }
   ],
   "source": [
    "X.get_matrix()"
   ]
  },
  {
   "cell_type": "code",
   "execution_count": 3,
   "id": "cef877cb-0f58-47c3-b80f-219ecae127e1",
   "metadata": {},
   "outputs": [
    {
     "data": {
      "text/plain": [
       "3.141592653589793"
      ]
     },
     "execution_count": 3,
     "metadata": {},
     "output_type": "execute_result"
    }
   ],
   "source": [
    "import numpy as np\n",
    "np.pi"
   ]
  },
  {
   "cell_type": "code",
   "execution_count": 1,
   "id": "89485074-ccca-4de0-ab48-f54bf1924e86",
   "metadata": {},
   "outputs": [
    {
     "data": {
      "text/plain": [
       "array([[0, 0, 0, 1],\n",
       "       [0, 0, 1, 0],\n",
       "       [0, 1, 0, 0],\n",
       "       [1, 0, 0, 0]])"
      ]
     },
     "execution_count": 1,
     "metadata": {},
     "output_type": "execute_result"
    }
   ],
   "source": [
    "import numpy as np\n",
    "def X(n_qubit, target_qubit_idx):\n",
    "    local_X = np.array([[0,1],[1,0]])\n",
    "    if target_qubit_idx==0:\n",
    "        mat = local_X\n",
    "    else:\n",
    "        mat = I\n",
    "    for i in range(n_qubit-1):\n",
    "        if i==target_qubit_idx:\n",
    "            mat = np.kron(mat, local_X)\n",
    "        else:\n",
    "            mat = np.kron(mat, I)\n",
    "            \n",
    "    return mat\n",
    "\n",
    "X(2,0)"
   ]
  },
  {
   "cell_type": "code",
   "execution_count": 6,
   "id": "3037d781-f72b-4810-957f-41ce15d86f19",
   "metadata": {},
   "outputs": [
    {
     "data": {
      "text/plain": [
       "array([[1, 0, 0, 0],\n",
       "       [0, 1, 0, 0],\n",
       "       [0, 0, 0, 1],\n",
       "       [0, 0, 1, 0]])"
      ]
     },
     "execution_count": 6,
     "metadata": {},
     "output_type": "execute_result"
    }
   ],
   "source": [
    "CNOT_12 = np.array([[1,0,0,0],\n",
    "                    [0,1,0,0],\n",
    "                    [0,0,0,1],\n",
    "                    [0,0,1,0]])\n",
    "\n",
    "CNOT_21 = np.array([[0,1,0,0],\n",
    "                    [1,0,0,0],\n",
    "                    [0,0,1,0],\n",
    "                    [0,0,0,1]])\n",
    "\n",
    "SWAP = CNOT_21 @ CNOT_12 @ CNOT_21\n",
    "SWAP"
   ]
  },
  {
   "cell_type": "code",
   "execution_count": 7,
   "id": "78a7bd90-0b3a-433a-a9da-74af39dbdeb8",
   "metadata": {},
   "outputs": [],
   "source": [
    "for i in range(0):\n",
    "    print(i)"
   ]
  },
  {
   "cell_type": "code",
   "execution_count": 2,
   "id": "fdeb9eb0-db6f-466e-b3d7-eb8bf7068a48",
   "metadata": {},
   "outputs": [],
   "source": [
    "def X(n_qubit, target_qubit_idx):\n",
    "    I = np.eye(2)\n",
    "    local_X = np.array([[0,1],[1,0]])\n",
    "    if target_qubit_idx==0:\n",
    "        mat = local_X\n",
    "    else:\n",
    "        mat = I\n",
    "    for i in range(n_qubit-1):\n",
    "        if i+1==target_qubit_idx:\n",
    "            mat = np.kron(mat, local_X)\n",
    "        else:\n",
    "            mat = np.kron(mat, I)\n",
    "            \n",
    "    return mat\n",
    "\n",
    "def CX(n_qubit, control_qubit_idx, target_qubit_idx):\n",
    "    I = np.eye(2)\n",
    "    ket_0 = np.array([[1],[0]]) \n",
    "    ket_1 = np.array([[0],[1]])\n",
    "    \n",
    "    mat_00 = ket_0 @ ket_0.T.conjugate() ### |0><0|\n",
    "    mat_11 = ket_1 @ ket_1.T.conjugate() ### |1><1|\n",
    "    \n",
    "    eye_tensor = I\n",
    "    \n",
    "    for i in range(n_qubit-2):\n",
    "        eye_tensor = np.kron(eye_tensor, I)\n",
    "    \n",
    "    if control_qubit_idx < target_qubit_idx:\n",
    "        ### |0><0|　\\otimes I \\otimes ... \\otimes I\n",
    "        cx_mat_term1 = np.kron(mat_00, eye_tensor)\n",
    "        ### |1><1| \\otimes I ... \\otimes X ...\n",
    "        cx_mat_term2 = np.kron(mat_11, X(n_qubit-1, target_qubit_idx-1))\n",
    "        \n",
    "    if control_qubit_idx > target_qubit_idx:\n",
    "        ### I \\otimes ... \\otimes I \\otimes |0><0|\n",
    "        cx_mat_term1 = np.kron(eye_tensor, mat_00)\n",
    "        ### ... \\otimes X ... \\otimes |1><1|\n",
    "        cx_mat_term2 = np.kron(X(n_qubit-1, target_qubit_idx), mat_11)\n",
    "    \n",
    "    mat = cx_mat_term1 + cx_mat_term2\n",
    "    \n",
    "    return mat"
   ]
  },
  {
   "cell_type": "code",
   "execution_count": 4,
   "id": "b3c7b63b-3873-40fb-b284-cce77f583dd8",
   "metadata": {},
   "outputs": [
    {
     "data": {
      "text/plain": [
       "array([[1., 0., 0., 0.],\n",
       "       [0., 1., 0., 0.],\n",
       "       [0., 0., 0., 1.],\n",
       "       [0., 0., 1., 0.]])"
      ]
     },
     "execution_count": 4,
     "metadata": {},
     "output_type": "execute_result"
    }
   ],
   "source": [
    "CX(2,0,1)"
   ]
  },
  {
   "cell_type": "code",
   "execution_count": 6,
   "id": "928d246d-1f31-4dff-9f5f-5701d5ffcc88",
   "metadata": {},
   "outputs": [
    {
     "data": {
      "text/plain": [
       "array([[1., 0., 0., 0., 0., 0., 0., 0.],\n",
       "       [0., 0., 0., 0., 0., 1., 0., 0.],\n",
       "       [0., 0., 1., 0., 0., 0., 0., 0.],\n",
       "       [0., 0., 0., 0., 0., 0., 0., 1.],\n",
       "       [0., 0., 0., 0., 1., 0., 0., 0.],\n",
       "       [0., 1., 0., 0., 0., 0., 0., 0.],\n",
       "       [0., 0., 0., 0., 0., 0., 1., 0.],\n",
       "       [0., 0., 0., 1., 0., 0., 0., 0.]])"
      ]
     },
     "execution_count": 6,
     "metadata": {},
     "output_type": "execute_result"
    }
   ],
   "source": [
    "CX(3,2,0)"
   ]
  },
  {
   "cell_type": "code",
   "execution_count": 7,
   "id": "7da6f34f-59a4-45d8-84d3-5f6d6b0a3094",
   "metadata": {},
   "outputs": [],
   "source": [
    "def X(n_qubit, target_qubit_idx):\n",
    "    I = np.eye(2)\n",
    "    local_X = np.array([[0,1],[1,0]])\n",
    "    if target_qubit_idx==0:\n",
    "        mat = local_X\n",
    "    else:\n",
    "        mat = I\n",
    "    for i in range(n_qubit-1):\n",
    "        if i+1==target_qubit_idx:\n",
    "            mat = np.kron(mat, local_X)\n",
    "        else:\n",
    "            mat = np.kron(mat, I)\n",
    "            \n",
    "    return mat\n",
    "\n",
    "def CX(n_qubit, control_qubit_idx, target_qubit_idx):\n",
    "    I = np.eye(2)\n",
    "    ket_0 = np.array([[1],[0]]) \n",
    "    ket_1 = np.array([[0],[1]])\n",
    "    \n",
    "    mat_00 = ket_0 @ ket_0.T.conjugate() ### |0><0|\n",
    "    mat_11 = ket_1 @ ket_1.T.conjugate() ### |1><1|\n",
    "    \n",
    "    eye_tensor = I\n",
    "    \n",
    "    for i in range(n_qubit-2):\n",
    "        eye_tensor = np.kron(eye_tensor, I)\n",
    "    \n",
    "    if control_qubit_idx < target_qubit_idx:\n",
    "        ### |0><0|　\\otimes I \\otimes ... \\otimes I\n",
    "        cx_mat_term1 = np.kron(mat_00, eye_tensor)\n",
    "        ### |1><1| \\otimes I ... \\otimes X ...\n",
    "        cx_mat_term2 = np.kron(mat_11, X(n_qubit-1, target_qubit_idx-1))\n",
    "        \n",
    "    if control_qubit_idx > target_qubit_idx:\n",
    "        ### I \\otimes ... \\otimes I \\otimes |0><0|\n",
    "        cx_mat_term1 = np.kron(eye_tensor, mat_00)\n",
    "        ### ... \\otimes X ... \\otimes |1><1|\n",
    "        cx_mat_term2 = np.kron(X(n_qubit-1, target_qubit_idx), mat_11)\n",
    "    \n",
    "    mat = cx_mat_term1 + cx_mat_term2\n",
    "    \n",
    "    return mat\n",
    "\n",
    "def SWAP(n_qubit, qubit_idx_1, qubit_idx_2):\n",
    "    mat = CX(n_qubit, qubit_idx_1, qubit_idx_2) @ CX(n_qubit, qubit_idx_2, qubit_idx_1)\n",
    "    mat = mat @ CX(n_qubit, qubit_idx_1, qubit_idx_2)\n",
    "    \n",
    "    return mat"
   ]
  },
  {
   "cell_type": "code",
   "execution_count": 13,
   "id": "3d7ab672-dd4c-4a8a-b282-c13989562f17",
   "metadata": {},
   "outputs": [
    {
     "data": {
      "text/plain": [
       "array([[1., 0., 0., 0.],\n",
       "       [0., 0., 1., 0.],\n",
       "       [0., 1., 0., 0.],\n",
       "       [0., 0., 0., 1.]])"
      ]
     },
     "execution_count": 13,
     "metadata": {},
     "output_type": "execute_result"
    }
   ],
   "source": [
    "SWAP(2, 0, 1)"
   ]
  },
  {
   "cell_type": "code",
   "execution_count": null,
   "id": "fa7e3a29-cc4e-4c86-9cf7-c9bda9cca178",
   "metadata": {},
   "outputs": [],
   "source": []
  }
 ],
 "metadata": {
  "kernelspec": {
   "display_name": "Python 3 (ipykernel)",
   "language": "python",
   "name": "python3"
  },
  "language_info": {
   "codemirror_mode": {
    "name": "ipython",
    "version": 3
   },
   "file_extension": ".py",
   "mimetype": "text/x-python",
   "name": "python",
   "nbconvert_exporter": "python",
   "pygments_lexer": "ipython3",
   "version": "3.9.10"
  }
 },
 "nbformat": 4,
 "nbformat_minor": 5
}

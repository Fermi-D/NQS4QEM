{
 "cells": [
  {
   "cell_type": "markdown",
   "id": "00ac0251-cd07-45a5-97a4-5fdda74fbd54",
   "metadata": {},
   "source": [
    "### params setting"
   ]
  },
  {
   "cell_type": "code",
   "execution_count": 142,
   "id": "48985559-13ee-45ff-89f5-0424132d9e41",
   "metadata": {},
   "outputs": [],
   "source": [
    "import os\n",
    "import random\n",
    "import warnings\n",
    "import numpy as np\n",
    "import pandas as pd\n",
    "import matplotlib.pyplot as plt\n",
    "import seaborn as sns\n",
    "import yaml\n",
    "\n",
    "import torch\n",
    "from qucumber.nn_states import DensityMatrix\n",
    "from qucumber.nn_states import ComplexWaveFunction\n",
    "from qucumber.callbacks import MetricEvaluator\n",
    "import qucumber.utils.unitaries as unitaries\n",
    "import qucumber.utils.training_statistics as ts\n",
    "import qucumber.utils.cplx as cplx\n",
    "import qucumber.utils.data as data\n",
    "from qucumber.observables import ObservableBase, to_pm1\n",
    "from qucumber.observables.pauli import flip_spin\n",
    "import qucumber\n",
    "\n",
    "from qulacs.gate import Pauli\n",
    "\n",
    "with open('./params_setting_template.yaml', 'r') as yml:\n",
    "    params = yaml.safe_load(yml)\n",
    "    \n",
    "# quantum circuit parameter\n",
    "n_qubit = params[\"circuit_info\"][\"n_qubit\"]\n",
    "n_data = params[\"circuit_info\"][\"n_data\"]\n",
    "each_n_shot = int(n_data / 3**n_qubit)\n",
    "state_name = params[\"circuit_info\"][\"state_name\"]\n",
    "noise_model = params[\"circuit_info\"][\"noise_model\"]\n",
    "error_rate = params[\"circuit_info\"][\"error_rate\"]\n",
    "# RBM architecture parameter\n",
    "n_visible_unit = params[\"architecture_info\"][\"n_visible_unit\"]\n",
    "n_hidden_unit = params[\"architecture_info\"][\"n_hidden_unit\"] \n",
    "n_aux_unit = params[\"architecture_info\"][\"n_aux_unit\"]\n",
    "# train parameter\n",
    "lr = params[\"train_info\"][\"lr\"]\n",
    "pbs = params[\"train_info\"][\"positive_batch_size\"]\n",
    "nbs = params[\"train_info\"][\"negative_batch_size\"]\n",
    "n_gibbs_step = params[\"train_info\"][\"n_gibbs_step\"]\n",
    "period = 1\n",
    "epochs = params[\"train_info\"][\"n_epoch\"]\n",
    "lr_drop_epoch = params[\"train_info\"][\"lr_drop_epoch\"]\n",
    "lr_drop_factor = params[\"train_info\"][\"lr_drop_factor\"]\n",
    "seed = params[\"train_info\"][\"seed\"]\n",
    "# sampling parameter\n",
    "n_sampling = params[\"sampling_info\"][\"n_sample\"]\n",
    "n_copy = params[\"sampling_info\"][\"n_copy\"]\n",
    "# data path info\n",
    "data_path = f\"./data/{noise_model}/{100*error_rate}%/\"\n",
    "\n",
    "# settings\n",
    "## warnings\n",
    "warnings.simplefilter('ignore')\n",
    "\n",
    "## seaborn layout\n",
    "sns.set()\n",
    "sns.set_style(\"white\")\n",
    "\n",
    "## seed\n",
    "def seed_settings(seed=42):\n",
    "    random.seed(seed)\n",
    "    os.environ['PYTHONHASHSEED'] = str(seed)\n",
    "    np.random.seed(seed)\n",
    "    torch.manual_seed(seed)\n",
    "    qucumber.set_random_seed(seed, cpu=True, gpu=False)\n",
    "\n",
    "seed_settings(seed=seed)"
   ]
  },
  {
   "cell_type": "code",
   "execution_count": 140,
   "id": "38570e0a-8a84-4b63-bdda-6d773b5a5c04",
   "metadata": {},
   "outputs": [
    {
     "name": "stdout",
     "output_type": "stream",
     "text": [
      "./data/depolarizing/1.0%/\n"
     ]
    }
   ],
   "source": [
    "print(data_path)"
   ]
  },
  {
   "cell_type": "markdown",
   "id": "ef74216a-b7c3-476b-840b-121aeaf329f5",
   "metadata": {},
   "source": [
    "### quantum_gate.py"
   ]
  },
  {
   "cell_type": "code",
   "execution_count": 62,
   "id": "678c59ba-68f7-46a5-b42e-862e93f8acb4",
   "metadata": {},
   "outputs": [
    {
     "data": {
      "text/plain": [
       "'\\ndef toffoli(n_qubit, control_qubit_idx_1, control_qubit_idx_2, target_qubit_idx):\\n'"
      ]
     },
     "execution_count": 62,
     "metadata": {},
     "output_type": "execute_result"
    }
   ],
   "source": [
    "# 1-qubit gate\n",
    "## pauli X\n",
    "def X(n_qubit, target_qubit_idx):\n",
    "    I = np.eye(2)\n",
    "    local_X = np.array([[0,1],[1,0]])\n",
    "    if target_qubit_idx==0:\n",
    "        mat = local_X\n",
    "    else:\n",
    "        mat = I\n",
    "    for i in range(n_qubit-1):\n",
    "        if i+1==target_qubit_idx:\n",
    "            mat = np.kron(mat, local_X)\n",
    "        else:\n",
    "            mat = np.kron(mat, I)\n",
    "            \n",
    "    return mat\n",
    "\n",
    "## pauli Y\n",
    "def Y(n_qubit, target_qubit_idx):\n",
    "    I = np.eye(2)\n",
    "    local_Y = np.array([[0,-1j], [1j,0]])\n",
    "    if target_qubit_idx==0:\n",
    "        mat = local_Y\n",
    "    else:\n",
    "        mat = I\n",
    "    for i in range(n_qubit-1):\n",
    "        if i+1==target_qubit_idx:\n",
    "            mat = np.kron(mat, local_Y)\n",
    "        else:\n",
    "            mat = np.kron(mat, I)\n",
    "            \n",
    "    return mat\n",
    "\n",
    "## pauli Z\n",
    "def Z(n_qubit, target_qubit_idx):\n",
    "    I = np.eye(2)\n",
    "    local_Z = np.array([[1,0], [0,-1]])\n",
    "    if target_qubit_idx==0:\n",
    "        mat = local_Z\n",
    "    else:\n",
    "        mat = I\n",
    "    for i in range(n_qubit-1):\n",
    "        if i+1==target_qubit_idx:\n",
    "            mat = np.kron(mat, local_Z)\n",
    "        else:\n",
    "            mat = np.kron(mat, I)\n",
    "            \n",
    "    return mat\n",
    "\n",
    "## Hadamard gate\n",
    "def H(n_qubit, target_qubit_idx):\n",
    "    I = np.eye(2)\n",
    "    local_H = np.array([[1,1], [1,-1]]) / np.sqrt(2)\n",
    "    if target_qubit_idx==0:\n",
    "        mat = local_H\n",
    "    else:\n",
    "        mat = I\n",
    "    for i in range(n_qubit-1):\n",
    "        if i+1==target_qubit_idx:\n",
    "            mat = np.kron(mat, local_H)\n",
    "        else:\n",
    "            mat = np.kron(mat, I)\n",
    "            \n",
    "    return mat\n",
    "\n",
    "## S gate\n",
    "def S(n_qubit, target_qubit_idx):\n",
    "    I = np.eye(2)\n",
    "    local_S = np.array([[1,0], [0,1j]])\n",
    "    if target_qubit_idx==0:\n",
    "        mat = local_S\n",
    "    else:\n",
    "        mat = I\n",
    "    for i in range(n_qubit-1):\n",
    "        if i+1==target_qubit_idx:\n",
    "            mat = np.kron(mat, local_S)\n",
    "        else:\n",
    "            mat = np.kron(mat, I)\n",
    "            \n",
    "    return mat\n",
    "\n",
    "## T gate\n",
    "def T(n_qubit, target_qubit_idx):\n",
    "    I = np.eye(2)\n",
    "    local_T = np.array([[1,0], [0,-np.exp(1j*np.pi/4)]])\n",
    "    if target_qubit_idx==0:\n",
    "        mat = local_T\n",
    "    else:\n",
    "        mat = I\n",
    "    for i in range(n_qubit-1):\n",
    "        if i+1==target_qubit_idx:\n",
    "            mat = np.kron(mat, local_T)\n",
    "        else:\n",
    "            mat = np.kron(mat, I)\n",
    "            \n",
    "    return mat\n",
    "\n",
    "## Rx gate\n",
    "def Rx(n_qubit, target_qubit_idx, theta):\n",
    "    I = np.eye(2)\n",
    "    local_Rx = np.array([[np.cos(theta/2),-1j*np.sin(theta/2)], [-1j*np.sin(theta/2),np.cos(theta/2)]])\n",
    "    if target_qubit_idx==0:\n",
    "        mat = local_Rx\n",
    "    else:\n",
    "        mat = I\n",
    "    for i in range(n_qubit-1):\n",
    "        if i+1==target_qubit_idx:\n",
    "            mat = np.kron(mat, local_Rx)\n",
    "        else:\n",
    "            mat = np.kron(mat, I)\n",
    "            \n",
    "    return mat\n",
    "\n",
    "## Ry gate\n",
    "def Ry(n_qubit, target_qubit_idx, theta):\n",
    "    I = np.eye(2)\n",
    "    local_Ry = np.array([[np.cos(theta/2),-np.sin(theta/2)], [-np.sin(theta/2),np.cos(theta/2)]])\n",
    "    if target_qubit_idx==0:\n",
    "        mat = local_Ry\n",
    "    else:\n",
    "        mat = I\n",
    "    for i in range(n_qubit-1):\n",
    "        if i+1==target_qubit_idx:\n",
    "            mat = np.kron(mat, local_Ry)\n",
    "        else:\n",
    "            mat = np.kron(mat, I)\n",
    "            \n",
    "    return mat\n",
    "\n",
    "## Rz gate\n",
    "def Rz(n_qubit, target_qubit_idx, theta):\n",
    "    I = np.eye(2)\n",
    "    local_Rz = np.array([[np.exp(-1j*theta/2),0], [0,np.cos(1j*theta/2)]])\n",
    "    if target_qubit_idx==0:\n",
    "        mat = local_Rz\n",
    "    else:\n",
    "        mat = I\n",
    "    for i in range(n_qubit-1):\n",
    "        if i+1==target_qubit_idx:\n",
    "            mat = np.kron(mat, local_Rz)\n",
    "        else:\n",
    "            mat = np.kron(mat, I)\n",
    "            \n",
    "    return mat\n",
    "\n",
    "# 2-qubit gate\n",
    "## CX gate\n",
    "def CX(n_qubit, control_qubit_idx, target_qubit_idx):\n",
    "    I = np.eye(2)\n",
    "    ket_0 = np.array([[1],[0]]) \n",
    "    ket_1 = np.array([[0],[1]])\n",
    "    \n",
    "    mat_00 = ket_0 @ ket_0.T.conjugate() ### |0><0|\n",
    "    mat_11 = ket_1 @ ket_1.T.conjugate() ### |1><1|\n",
    "    \n",
    "    eye_tensor = I\n",
    "    \n",
    "    for i in range(n_qubit-2):\n",
    "        eye_tensor = np.kron(eye_tensor, I)\n",
    "    \n",
    "    if control_qubit_idx < target_qubit_idx:\n",
    "        ### |0><0|　\\otimes I \\otimes ... \\otimes I\n",
    "        cx_mat_term1 = np.kron(mat_00, eye_tensor)\n",
    "        ### |1><1| \\otimes I ... \\otimes X ...\n",
    "        cx_mat_term2 = np.kron(mat_11, X(n_qubit-1, target_qubit_idx-1))\n",
    "        \n",
    "    if control_qubit_idx > target_qubit_idx:\n",
    "        ### I \\otimes ... \\otimes I \\otimes |0><0|\n",
    "        cx_mat_term1 = np.kron(eye_tensor, mat_00)\n",
    "        ### ... \\otimes X ... \\otimes |1><1|\n",
    "        cx_mat_term2 = np.kron(X(n_qubit-1, target_qubit_idx), mat_11)\n",
    "    \n",
    "    mat = cx_mat_term1 + cx_mat_term2\n",
    "    \n",
    "    return mat\n",
    "\n",
    "## CY gate\n",
    "def CY(n_qubit, control_qubit_idx, target_qubit_idx):\n",
    "    I = np.eye(2)\n",
    "    ket_0 = np.array([[1],[0]]) \n",
    "    ket_1 = np.array([[0],[1]])\n",
    "    \n",
    "    mat_00 = ket_0 @ ket_0.T.conjugate() ### |0><0|\n",
    "    mat_11 = ket_1 @ ket_1.T.conjugate() ### |1><1|\n",
    "    \n",
    "    eye_tensor = I\n",
    "    \n",
    "    for i in range(n_qubit-2):\n",
    "        eye_tensor = np.kron(eye_tensor, I)\n",
    "    \n",
    "    if control_qubit_idx < target_qubit_idx:\n",
    "        ### |0><0|　\\otimes I \\otimes ... \\otimes I\n",
    "        cx_mat_term1 = np.kron(mat_00, eye_tensor)\n",
    "        ### |1><1| \\otimes ... \\otimes Y ...\n",
    "        cx_mat_term2 = np.kron(mat_11, Y(n_qubit-1, target_qubit_idx-1))\n",
    "        \n",
    "    if control_qubit_idx > target_qubit_idx:\n",
    "        ### I \\otimes ... \\otimes I \\otimes |0><0|\n",
    "        cx_mat_term1 = np.kron(eye_tensor, mat_00)\n",
    "        ### ... \\otimes Y ... \\otimes |1><1|\n",
    "        cx_mat_term2 = np.kron(Y(n_qubit-1, target_qubit_idx), mat_11)\n",
    "    \n",
    "    mat = cx_mat_term1 + cx_mat_term2\n",
    "    \n",
    "    return mat\n",
    "\n",
    "## CZ gate\n",
    "def CZ(n_qubit, control_qubit_idx, target_qubit_idx):\n",
    "    I = np.eye(2)\n",
    "    ket_0 = np.array([[1],[0]]) \n",
    "    ket_1 = np.array([[0],[1]])\n",
    "    \n",
    "    mat_00 = ket_0 @ ket_0.T.conjugate() ### |0><0|\n",
    "    mat_11 = ket_1 @ ket_1.T.conjugate() ### |1><1|\n",
    "    \n",
    "    eye_tensor = I\n",
    "    \n",
    "    for i in range(n_qubit-2):\n",
    "        eye_tensor = np.kron(eye_tensor, I)\n",
    "    \n",
    "    if control_qubit_idx < target_qubit_idx:\n",
    "        ### |0><0|　\\otimes I \\otimes ... \\otimes I\n",
    "        cx_mat_term1 = np.kron(mat_00, eye_tensor)\n",
    "        ### |1><1| \\otimes I ... \\otimes Z ...\n",
    "        cx_mat_term2 = np.kron(mat_11, Z(n_qubit-1, target_qubit_idx-1))\n",
    "        \n",
    "    if control_qubit_idx > target_qubit_idx:\n",
    "        ### I \\otimes ... \\otimes I \\otimes |0><0|\n",
    "        cx_mat_term1 = np.kron(eye_tensor, mat_00)\n",
    "        ### ... \\otimes Z ... \\otimes |1><1|\n",
    "        cx_mat_term2 = np.kron(Z(n_qubit-1, target_qubit_idx), mat_11)\n",
    "    \n",
    "    mat = cx_mat_term1 + cx_mat_term2\n",
    "    \n",
    "    return mat\n",
    "\n",
    "## CH gate\n",
    "def CH(n_qubit, control_qubit_idx, target_qubit_idx):\n",
    "    I = np.eye(2)\n",
    "    ket_0 = np.array([[1],[0]]) \n",
    "    ket_1 = np.array([[0],[1]])\n",
    "    \n",
    "    mat_00 = ket_0 @ ket_0.T.conjugate() ### |0><0|\n",
    "    mat_11 = ket_1 @ ket_1.T.conjugate() ### |1><1|\n",
    "    \n",
    "    eye_tensor = I\n",
    "    \n",
    "    for i in range(n_qubit-2):\n",
    "        eye_tensor = np.kron(eye_tensor, I)\n",
    "    \n",
    "    if control_qubit_idx < target_qubit_idx:\n",
    "        ### |0><0|　\\otimes I \\otimes ... \\otimes I\n",
    "        cx_mat_term1 = np.kron(mat_00, eye_tensor)\n",
    "        ### |1><1| \\otimes I ... \\otimes H ...\n",
    "        cx_mat_term2 = np.kron(mat_11, H(n_qubit-1, target_qubit_idx-1))\n",
    "        \n",
    "    if control_qubit_idx > target_qubit_idx:\n",
    "        ### I \\otimes ... \\otimes I \\otimes |0><0|\n",
    "        cx_mat_term1 = np.kron(eye_tensor, mat_00)\n",
    "        ### ... \\otimes H ... \\otimes |1><1|\n",
    "        cx_mat_term2 = np.kron(H(n_qubit-1, target_qubit_idx), mat_11)\n",
    "    \n",
    "    mat = cx_mat_term1 + cx_mat_term2\n",
    "    \n",
    "    return mat\n",
    "\n",
    "## CRx gate\n",
    "def CRx(n_qubit, control_qubit_idx, target_qubit_idx, theta):\n",
    "    I = np.eye(2)\n",
    "    ket_0 = np.array([[1],[0]]) \n",
    "    ket_1 = np.array([[0],[1]])\n",
    "    \n",
    "    mat_00 = ket_0 @ ket_0.T.conjugate() ### |0><0|\n",
    "    mat_11 = ket_1 @ ket_1.T.conjugate() ### |1><1|\n",
    "    \n",
    "    eye_tensor = I\n",
    "    \n",
    "    for i in range(n_qubit-2):\n",
    "        eye_tensor = np.kron(eye_tensor, I)\n",
    "    \n",
    "    if control_qubit_idx < target_qubit_idx:\n",
    "        ### |0><0|　\\otimes I \\otimes ... \\otimes I\n",
    "        cx_mat_term1 = np.kron(mat_00, eye_tensor)\n",
    "        ### |1><1| \\otimes I ... \\otimes Rx ...\n",
    "        cx_mat_term2 = np.kron(mat_11, Rx(n_qubit-1, target_qubit_idx-1, theta))\n",
    "        \n",
    "    if control_qubit_idx > target_qubit_idx:\n",
    "        ### I \\otimes ... \\otimes I \\otimes |0><0|\n",
    "        cx_mat_term1 = np.kron(eye_tensor, mat_00)\n",
    "        ### ... \\otimes Rx ... \\otimes |1><1|\n",
    "        cx_mat_term2 = np.kron(Rx(n_qubit-1, target_qubit_idx, theta), mat_11)\n",
    "    \n",
    "    mat = cx_mat_term1 + cx_mat_term2\n",
    "    \n",
    "    return mat\n",
    "\n",
    "## CRy gate\n",
    "def CRy(n_qubit, control_qubit_idx, target_qubit_idx, theta):\n",
    "    I = np.eye(2)\n",
    "    ket_0 = np.array([[1],[0]]) \n",
    "    ket_1 = np.array([[0],[1]])\n",
    "    \n",
    "    mat_00 = ket_0 @ ket_0.T.conjugate() ### |0><0|\n",
    "    mat_11 = ket_1 @ ket_1.T.conjugate() ### |1><1|\n",
    "    \n",
    "    eye_tensor = I\n",
    "    \n",
    "    for i in range(n_qubit-2):\n",
    "        eye_tensor = np.kron(eye_tensor, I)\n",
    "    \n",
    "    if control_qubit_idx < target_qubit_idx:\n",
    "        ### |0><0|　\\otimes I \\otimes ... \\otimes I\n",
    "        cx_mat_term1 = np.kron(mat_00, eye_tensor)\n",
    "        ### |1><1| \\otimes I ... \\otimes Ry ...\n",
    "        cx_mat_term2 = np.kron(mat_11, Ry(n_qubit-1, target_qubit_idx-1, theta))\n",
    "        \n",
    "    if control_qubit_idx > target_qubit_idx:\n",
    "        ### I \\otimes ... \\otimes I \\otimes |0><0|\n",
    "        cx_mat_term1 = np.kron(eye_tensor, mat_00)\n",
    "        ### ... \\otimes Ry ... \\otimes |1><1|\n",
    "        cx_mat_term2 = np.kron(Ry(n_qubit-1, target_qubit_idx, theta), mat_11)\n",
    "    \n",
    "    mat = cx_mat_term1 + cx_mat_term2\n",
    "    \n",
    "    return mat\n",
    "\n",
    "## CRz gate\n",
    "def CRz(n_qubit, control_qubit_idx, target_qubit_idx, theta):\n",
    "    I = np.eye(2)\n",
    "    ket_0 = np.array([[1],[0]]) \n",
    "    ket_1 = np.array([[0],[1]])\n",
    "    \n",
    "    mat_00 = ket_0 @ ket_0.T.conjugate() ### |0><0|\n",
    "    mat_11 = ket_1 @ ket_1.T.conjugate() ### |1><1|\n",
    "    \n",
    "    eye_tensor = I\n",
    "    \n",
    "    for i in range(n_qubit-2):\n",
    "        eye_tensor = np.kron(eye_tensor, I)\n",
    "    \n",
    "    if control_qubit_idx < target_qubit_idx:\n",
    "        ### |0><0|　\\otimes I \\otimes ... \\otimes I\n",
    "        cx_mat_term1 = np.kron(mat_00, eye_tensor)\n",
    "        ### |1><1| \\otimes I ... \\otimes Rz ...\n",
    "        cx_mat_term2 = np.kron(mat_11, Rz(n_qubit-1, target_qubit_idx-1, theta))\n",
    "        \n",
    "    if control_qubit_idx > target_qubit_idx:\n",
    "        ### I \\otimes ... \\otimes I \\otimes |0><0|\n",
    "        cx_mat_term1 = np.kron(eye_tensor, mat_00)\n",
    "        ### ... \\otimes Rz ... \\otimes |1><1|\n",
    "        cx_mat_term2 = np.kron(Rz(n_qubit-1, target_qubit_idx, theta), mat_11)\n",
    "    \n",
    "    mat = cx_mat_term1 + cx_mat_term2\n",
    "    \n",
    "    return mat\n",
    "\n",
    "## SWAP gate\n",
    "def SWAP(n_qubit, qubit_idx_1, qubit_idx_2):\n",
    "    mat = CX(n_qubit, qubit_idx_1, qubit_idx_2) @ CX(n_qubit, qubit_idx_2, qubit_idx_1)\n",
    "    mat = mat @ CX(n_qubit, qubit_idx_1, qubit_idx_2)\n",
    "    \n",
    "    return mat\n",
    "\n",
    "# 3-qubit gate\n",
    "## toffoli gate\n",
    "\"\"\"\n",
    "def toffoli(n_qubit, control_qubit_idx_1, control_qubit_idx_2, target_qubit_idx):\n",
    "\"\"\""
   ]
  },
  {
   "cell_type": "markdown",
   "id": "37128ee9-ca05-45b8-9170-38aeaa825dbf",
   "metadata": {},
   "source": [
    "### error_model.py"
   ]
  },
  {
   "cell_type": "code",
   "execution_count": 7,
   "id": "89485074-ccca-4de0-ab48-f54bf1924e86",
   "metadata": {},
   "outputs": [],
   "source": [
    "def depolarizing(state, n_qubit, error_rate, target_qubit_idx):\n",
    "    I = np.eye(2)\n",
    "    coff_I = (1-error_rate)*I\n",
    "    \n",
    "    if target_qubit_idx==0:\n",
    "        mat = coff_I\n",
    "    else:\n",
    "        mat = I\n",
    "    for i in range(n_qubit-1):\n",
    "        if i+1==target_qubit_idx:\n",
    "            mat = np.kron(mat, coff_I)\n",
    "        else:\n",
    "            mat = np.kron(mat, I)\n",
    "            \n",
    "    depolarizing_term1 = mat @ state\n",
    "    depolarizing_term2 = X(n_qubit, target_qubit_idx)@state@X(n_qubit, target_qubit_idx) + Y(n_qubit, target_qubit_idx)@state@Y(n_qubit, target_qubit_idx) + Z(n_qubit, target_qubit_idx)@state@Z(n_qubit, target_qubit_idx)\n",
    "    \n",
    "    return depolarizing_term1 + (error_rate/3)*depolarizing_term2\n",
    "    \n",
    "def unitary(state, n_qubit, theta, target_qubit_idx):\n",
    "    \n",
    "    return Rx(n_qubit, target_qubit_idx, theta) @ state @ Rx(n_qubit, target_qubit_idx, theta).T.conjugate()"
   ]
  },
  {
   "cell_type": "markdown",
   "id": "4ad270c0-1906-4131-9cab-9bcace3b128d",
   "metadata": {},
   "source": [
    "### target_circuit.py"
   ]
  },
  {
   "cell_type": "code",
   "execution_count": 126,
   "id": "5ddd31a3-2e2f-4249-9c97-7b8f91dbe46c",
   "metadata": {},
   "outputs": [
    {
     "data": {
      "text/plain": [
       "'\\ndef random_circuit():\\n\\ndef ising_model()\\n'"
      ]
     },
     "execution_count": 126,
     "metadata": {},
     "output_type": "execute_result"
    }
   ],
   "source": [
    "def init_state(n_qubit, state_name):\n",
    "    ket_0 = np.array([[1],[0]]) \n",
    "    init_state = ket_0\n",
    "    \n",
    "    for i in range(2**(n_qubit-1)-1):\n",
    "        init_state = np.append(init_state, np.array([[0],[0]]), axis=0) # |00...0>\n",
    "    \n",
    "    if state_name == \"density_matrix\":\n",
    "        init_state_vec = init_state\n",
    "        init_state = init_state_vec @ init_state_vec.T.conjugate() # |00...0><00...0|\n",
    "    \n",
    "    return init_state\n",
    "\n",
    "def Bell(n_qubit, state_name, error_model, error_rate):\n",
    "    if state_name == \"state_vector\":\n",
    "        if error_model == \"ideal\":\n",
    "            state = init_state(n_qubit, state_name)\n",
    "            state = H(n_qubit,0) @ state\n",
    "            state = CX(n_qubit,0,1) @ state\n",
    "    \n",
    "    if state_name == \"density_matrix\":\n",
    "        if error_model == \"ideal\":\n",
    "            state = init_state(n_qubit, state_name)\n",
    "            state = H(n_qubit,0) @ state @ H(n_qubit,0).T.conjugate()\n",
    "            state = CX(n_qubit,0,1) @ state @ CX(n_qubit,0,1).T.conjugate()\n",
    "        \n",
    "        if error_model == \"depolarizing\":\n",
    "            state = init_state(n_qubit, state_name)\n",
    "            state = H(n_qubit,0) @ state @ H(n_qubit,0).T.conjugate()\n",
    "            state = depolarizing(state, n_qubit, error_rate, 0)\n",
    "            state = CX(n_qubit,0,1) @ state @ CX(n_qubit,0,1).T.conjugate()\n",
    "            state = depolarizing(state, n_qubit, error_rate, 0)\n",
    "            state = depolarizing(state, n_qubit, error_rate, 1)\n",
    "        \n",
    "        if error_model == \"unitary\":\n",
    "            state = init_state(n_qubit, state_name)\n",
    "            state = H(n_qubit,0) @ state @ H(n_qubit,0).T.conjugate()\n",
    "            state = unitary(state, n_qubit, np.sqrt(error_rate), 0)\n",
    "            state = CX(n_qubit,0,1) @ state @ CX(n_qubit,0,1).T.conjugate()\n",
    "            state = unitary(state, n_qubit, np.sqrt(error_rate), 0)\n",
    "            state = unitary(state, n_qubit, np.sqrt(error_rate), 1)\n",
    "            \n",
    "        if error_model == \"depolarizing&unitary\":\n",
    "            state = init_state(n_qubit, state_name)\n",
    "            state = H(n_qubit,0) @ state @ H(n_qubit,0).T.conjugate()\n",
    "            state = depolarizing(state, n_qubit, error_rate, 0)\n",
    "            state = unitary(state, n_qubit, np.sqrt(error_rate), 0)\n",
    "            state = CX(n_qubit,0,1) @ state @ CX(n_qubit,0,1).T.conjugate()\n",
    "            state = depolarizing(state, n_qubit, error_rate, 0)\n",
    "            state = depolarizing(state, n_qubit, error_rate, 1)\n",
    "            state = unitary(state, n_qubit, np.sqrt(error_rate), 0)\n",
    "            state = unitary(state, n_qubit, np.sqrt(error_rate), 1)\n",
    "            \n",
    "    return state\n",
    "\n",
    "def GHZ(n_qubit, state_name, error_model, error_rate):\n",
    "    if state_name == \"state_vector\":\n",
    "        if error_model == \"ideal\":\n",
    "            state = init_state(n_qubit, state_name)\n",
    "            state = H(n_qubit, 0) @ state\n",
    "            for i in range(n_qubit-1):\n",
    "                state = CX(n_qubit, 0, i+1) @ state\n",
    "        \n",
    "    if state_name == \"density_matrix\":\n",
    "        if error_model == \"ideal\":\n",
    "            state = init_state(n_qubit, state_name)\n",
    "            state = H(n_qubit,0) @ state @ H(n_qubit,0).T.conjugate()\n",
    "        \n",
    "            for i in range(n_qubit-1):\n",
    "                state = CX(n_qubit,0,i+1) @ state @ CX(n_qubit,0,i+1).T.conjugate()\n",
    "        \n",
    "        if error_model == \"depolarizing\":\n",
    "            state = init_state(n_qubit, state_name)\n",
    "            state = H(n_qubit,0) @ state @ H(n_qubit,0).T.conjugate()\n",
    "            state = depolarizing(state, n_qubit, error_rate, 0)\n",
    "            \n",
    "            for i in range(n_qubit-1):\n",
    "                state = CX(n_qubit,0,i+1) @ state @ CX(n_qubit,0,i+1).T.conjugate()\n",
    "                state = depolarizing(state, n_qubit, error_rate, 0)\n",
    "                state = depolarizing(state, n_qubit, error_rate, i+1)\n",
    "        \n",
    "        if error_model == \"unitary\":\n",
    "            state = init_state(n_qubit, state_name)\n",
    "            state = H(n_qubit,0) @ state @ H(n_qubit,0).T.conjugate()\n",
    "            state = unitary(state, n_qubit, np.sqrt(error_rate), 0)\n",
    "            \n",
    "            for i in range(n_qubit-1):\n",
    "                state = CX(n_qubit,0,i+1) @ state @ CX(n_qubit,0,i+1).T.conjugate()\n",
    "                state = unitary(state, n_qubit, np.sqrt(error_rate), 0)\n",
    "                state = unitary(state, n_qubit, np.sqrt(error_rate), i+1)\n",
    "        \n",
    "        if error_model == \"depolarizing&unitary\":\n",
    "            state = init_state(n_qubit, state_name)\n",
    "            state = H(n_qubit,0) @ state @ H(n_qubit,0).T.conjugate()\n",
    "            state = depolarizing(state, n_qubit, error_rate, 0)\n",
    "            state = unitary(state, n_qubit, np.sqrt(error_rate), 0)\n",
    "            \n",
    "            for i in range(n_qubit-1):\n",
    "                state = CX(n_qubit,0,i+1) @ state @ CX(n_qubit,0,i+1).T.conjugate()\n",
    "                state = depolarizing(state, n_qubit, error_rate, 0)\n",
    "                state = unitary(state, n_qubit, np.sqrt(error_rate), 0)\n",
    "                state = depolarizing(state, n_qubit, error_rate, i+1)\n",
    "                state = unitary(state, n_qubit, np.sqrt(error_rate), i+1)\n",
    "            \n",
    "    return state\n",
    "    \n",
    "\"\"\"\n",
    "def random_circuit():\n",
    "\n",
    "def ising_model()\n",
    "\"\"\""
   ]
  },
  {
   "cell_type": "markdown",
   "id": "19047e91-c812-48dd-bd2f-02eb3ec5f5f0",
   "metadata": {},
   "source": [
    "### projection_operator.py"
   ]
  },
  {
   "cell_type": "code",
   "execution_count": 160,
   "id": "3037d781-f72b-4810-957f-41ce15d86f19",
   "metadata": {},
   "outputs": [],
   "source": [
    "def X_basis(n_qubit, target_idx, classical_bit):\n",
    "    I = np.eye(2**n_qubit)\n",
    "    P = X(n_qubit, target_idx)\n",
    "    \n",
    "    if bit_prob == \"0\":\n",
    "        operator = (I+P) / 2\n",
    "    if bit_prob == \"1\":\n",
    "        operator = (I-P) / 2\n",
    "    \n",
    "    return operator\n",
    "\n",
    "def Y_basis(n_qubit, target_idx, classical_bit):\n",
    "    I = np.eye(2**n_qubit)\n",
    "    P = Y(n_qubit, target_idx)\n",
    "    \n",
    "    if bit_prob == \"0\":\n",
    "        operator = (I+P) / 2\n",
    "    if bit_prob == \"1\":\n",
    "        operator = (I-P) / 2\n",
    "    \n",
    "    return operator\n",
    "\n",
    "def Z_basis(n_qubit, target_idx, classical_bit):\n",
    "    I = np.eye(2**n_qubit)\n",
    "    P = Z(n_qubit, target_idx)\n",
    "    \n",
    "    if bit_prob == \"0\":\n",
    "        operator = (I+P) / 2\n",
    "    if bit_prob == \"1\":\n",
    "        operator = (I-P) / 2\n",
    "    \n",
    "    return operator"
   ]
  },
  {
   "cell_type": "markdown",
   "id": "66908819-30d3-4767-b92f-1b41224749fc",
   "metadata": {},
   "source": [
    "### measurement.py"
   ]
  },
  {
   "cell_type": "code",
   "execution_count": 236,
   "id": "78a7bd90-0b3a-433a-a9da-74af39dbdeb8",
   "metadata": {},
   "outputs": [],
   "source": [
    "def pauli(n_qubit, state_name, error_model, pauli_str_list):\n",
    "    target_qubit_idx_list = np.arange(n_qubit)\n",
    "    pauli_meas_dict = {\"X\":X_basis, \"Y\":Y_basis, \"Z\":Z_basis}\n",
    "    measurement_label_list = []\n",
    "    measurement_result_list = []\n",
    "    \n",
    "    rho_0 = Bell(n_qubit, state_name, error_model, error_rate)\n",
    "    rho_1 = Bell(n_qubit, state_name, error_model, error_rate)\n",
    "    \n",
    "    for target_qubit_idx, pauli_str in zip(target_qubit_idx_list, pauli_str_list):\n",
    "        print(f\"target_qubit_idx : {target_qubit_idx}\")\n",
    "        print(f\"pauli_str : {pauli_str}\")\n",
    "        operator0, operator1 = pauli_meas_dict[pauli_str](n_qubit, target_qubit_idx)\n",
    "        \n",
    "        print(f\"M0 : {operator0}\")\n",
    "        print(f\"M1 : {operator1}\")\n",
    "        print(f\"rho0 : {rho_0}\")\n",
    "        print(f\"rho1 : {rho_1}\")\n",
    "        \n",
    "        p0 = np.real(np.trace(operator0 @ rho_0))\n",
    "        p1 = np.real(np.trace(operator1 @ rho_1))\n",
    "        \n",
    "        print(f\"p0 : {p0}\")\n",
    "        print(f\"p1 : {p1}\")\n",
    "        \n",
    "        rho_0 = (operator0@rho_0@operator0)/ np.trace(operator0@operator0@rho_0)\n",
    "        rho_1 = (operator1@rho_1@operator1) / np.trace(operator1@operator1@rho_1)\n",
    "        \n",
    "        measurement_label_list.append(pauli_str)\n",
    "        measurement_result_list.append(np.random.choice([\"0\",\"1\"], p=[p0,p1]))\n",
    "        \n",
    "    return measurement_label_list, measurement_result_list"
   ]
  },
  {
   "cell_type": "code",
   "execution_count": 237,
   "id": "9f80eb0a-6cae-45ac-b72c-2027ff8d1403",
   "metadata": {},
   "outputs": [
    {
     "name": "stdout",
     "output_type": "stream",
     "text": [
      "target_qubit_idx : 0\n",
      "pauli_str : Z\n",
      "M0 : [[1. 0. 0. 0.]\n",
      " [0. 1. 0. 0.]\n",
      " [0. 0. 0. 0.]\n",
      " [0. 0. 0. 0.]]\n",
      "M1 : [[0. 0. 0. 0.]\n",
      " [0. 0. 0. 0.]\n",
      " [0. 0. 1. 0.]\n",
      " [0. 0. 0. 1.]]\n",
      "rho0 : [[0.49337778+0.j 0.        +0.j 0.        +0.j 0.48026548+0.j]\n",
      " [0.        +0.j 0.00662222+0.j 0.        +0.j 0.        +0.j]\n",
      " [0.        +0.j 0.        +0.j 0.00662222+0.j 0.        +0.j]\n",
      " [0.48026548+0.j 0.        +0.j 0.        +0.j 0.49337778+0.j]]\n",
      "rho1 : [[0.49337778+0.j 0.        +0.j 0.        +0.j 0.48026548+0.j]\n",
      " [0.        +0.j 0.00662222+0.j 0.        +0.j 0.        +0.j]\n",
      " [0.        +0.j 0.        +0.j 0.00662222+0.j 0.        +0.j]\n",
      " [0.48026548+0.j 0.        +0.j 0.        +0.j 0.49337778+0.j]]\n",
      "p0 : 0.49999999999999983\n",
      "p1 : 0.49999999999999983\n",
      "target_qubit_idx : 1\n",
      "pauli_str : Z\n",
      "M0 : [[1. 0. 0. 0.]\n",
      " [0. 0. 0. 0.]\n",
      " [0. 0. 1. 0.]\n",
      " [0. 0. 0. 0.]]\n",
      "M1 : [[0. 0. 0. 0.]\n",
      " [0. 1. 0. 0.]\n",
      " [0. 0. 0. 0.]\n",
      " [0. 0. 0. 1.]]\n",
      "rho0 : [[0.98675556+0.j 0.        +0.j 0.        +0.j 0.        +0.j]\n",
      " [0.        +0.j 0.01324444+0.j 0.        +0.j 0.        +0.j]\n",
      " [0.        +0.j 0.        +0.j 0.        +0.j 0.        +0.j]\n",
      " [0.        +0.j 0.        +0.j 0.        +0.j 0.        +0.j]]\n",
      "rho1 : [[0.        +0.j 0.        +0.j 0.        +0.j 0.        +0.j]\n",
      " [0.        +0.j 0.        +0.j 0.        +0.j 0.        +0.j]\n",
      " [0.        +0.j 0.        +0.j 0.01324444+0.j 0.        +0.j]\n",
      " [0.        +0.j 0.        +0.j 0.        +0.j 0.98675556+0.j]]\n",
      "p0 : 0.9867555555555557\n",
      "p1 : 0.9867555555555557\n"
     ]
    },
    {
     "ename": "ValueError",
     "evalue": "probabilities do not sum to 1",
     "output_type": "error",
     "traceback": [
      "\u001b[0;31m---------------------------------------------------------------------------\u001b[0m",
      "\u001b[0;31mValueError\u001b[0m                                Traceback (most recent call last)",
      "Input \u001b[0;32mIn [237]\u001b[0m, in \u001b[0;36m<cell line: 1>\u001b[0;34m()\u001b[0m\n\u001b[0;32m----> 1\u001b[0m label_list, measurement_result_list \u001b[38;5;241m=\u001b[39m \u001b[43mpauli\u001b[49m\u001b[43m(\u001b[49m\u001b[43mn_qubit\u001b[49m\u001b[43m,\u001b[49m\u001b[43m \u001b[49m\u001b[38;5;124;43m\"\u001b[39;49m\u001b[38;5;124;43mdensity_matrix\u001b[39;49m\u001b[38;5;124;43m\"\u001b[39;49m\u001b[43m,\u001b[49m\u001b[43m \u001b[49m\u001b[38;5;124;43m\"\u001b[39;49m\u001b[38;5;124;43mdepolarizing\u001b[39;49m\u001b[38;5;124;43m\"\u001b[39;49m\u001b[43m,\u001b[49m\u001b[43m \u001b[49m\u001b[43m[\u001b[49m\u001b[38;5;124;43m\"\u001b[39;49m\u001b[38;5;124;43mZ\u001b[39;49m\u001b[38;5;124;43m\"\u001b[39;49m\u001b[43m,\u001b[49m\u001b[43m \u001b[49m\u001b[38;5;124;43m\"\u001b[39;49m\u001b[38;5;124;43mZ\u001b[39;49m\u001b[38;5;124;43m\"\u001b[39;49m\u001b[43m]\u001b[49m\u001b[43m)\u001b[49m\n\u001b[1;32m      2\u001b[0m label_list\n",
      "Input \u001b[0;32mIn [236]\u001b[0m, in \u001b[0;36mpauli\u001b[0;34m(n_qubit, state_name, error_model, pauli_str_list)\u001b[0m\n\u001b[1;32m     27\u001b[0m     rho_1 \u001b[38;5;241m=\u001b[39m (operator1\u001b[38;5;129m@rho_1\u001b[39m\u001b[38;5;129m@operator1\u001b[39m) \u001b[38;5;241m/\u001b[39m np\u001b[38;5;241m.\u001b[39mtrace(operator1\u001b[38;5;129m@operator1\u001b[39m\u001b[38;5;129m@rho_1\u001b[39m)\n\u001b[1;32m     29\u001b[0m     measurement_label_list\u001b[38;5;241m.\u001b[39mappend(pauli_str)\n\u001b[0;32m---> 30\u001b[0m     measurement_result_list\u001b[38;5;241m.\u001b[39mappend(\u001b[43mnp\u001b[49m\u001b[38;5;241;43m.\u001b[39;49m\u001b[43mrandom\u001b[49m\u001b[38;5;241;43m.\u001b[39;49m\u001b[43mchoice\u001b[49m\u001b[43m(\u001b[49m\u001b[43m[\u001b[49m\u001b[38;5;124;43m\"\u001b[39;49m\u001b[38;5;124;43m0\u001b[39;49m\u001b[38;5;124;43m\"\u001b[39;49m\u001b[43m,\u001b[49m\u001b[38;5;124;43m\"\u001b[39;49m\u001b[38;5;124;43m1\u001b[39;49m\u001b[38;5;124;43m\"\u001b[39;49m\u001b[43m]\u001b[49m\u001b[43m,\u001b[49m\u001b[43m \u001b[49m\u001b[43mp\u001b[49m\u001b[38;5;241;43m=\u001b[39;49m\u001b[43m[\u001b[49m\u001b[43mp0\u001b[49m\u001b[43m,\u001b[49m\u001b[43mp1\u001b[49m\u001b[43m]\u001b[49m\u001b[43m)\u001b[49m)\n\u001b[1;32m     32\u001b[0m \u001b[38;5;28;01mreturn\u001b[39;00m measurement_label_list, measurement_result_list\n",
      "File \u001b[0;32mmtrand.pyx:939\u001b[0m, in \u001b[0;36mnumpy.random.mtrand.RandomState.choice\u001b[0;34m()\u001b[0m\n",
      "\u001b[0;31mValueError\u001b[0m: probabilities do not sum to 1"
     ]
    }
   ],
   "source": [
    "label_list, measurement_result_list = pauli(n_qubit, \"density_matrix\", \"depolarizing\", [\"Z\", \"Z\"])\n",
    "label_list"
   ]
  },
  {
   "cell_type": "code",
   "execution_count": null,
   "id": "52026fc3-a0d9-435e-bee4-770b83b5a93c",
   "metadata": {},
   "outputs": [],
   "source": [
    "def pauli(n_qubit, state_name, error_model, pauli_str_list):\n",
    "    target_qubit_idx_list = np.arange(n_qubit)\n",
    "    pauli_meas_dict = {\"X\":X_basis, \"Y\":Y_basis, \"Z\":Z_basis}\n",
    "    \n",
    "    measurement_label_list = []\n",
    "    measurement_result_list = []\n",
    "    \n",
    "    rho_0 = Bell(n_qubit, state_name, error_model, error_rate)\n",
    "    for target_qubit_idx, pauli_str in zip(target_qubit_idx_list, pauli_str_list):\n",
    "        for\n",
    "    "
   ]
  },
  {
   "cell_type": "markdown",
   "id": "72ac2c98-e4c9-4bd1-9102-937404d1e2d6",
   "metadata": {},
   "source": [
    "### dataset.py"
   ]
  },
  {
   "cell_type": "code",
   "execution_count": 113,
   "id": "fdeb9eb0-db6f-466e-b3d7-eb8bf7068a48",
   "metadata": {},
   "outputs": [
    {
     "data": {
      "text/plain": [
       "'\\ndef data_export(meas_pattern_df, train_df):\\n    meas_pattern_df.to_csv(\"./{}/data/measurement_pattern.txt\", header=False, index=False)\\n    train_df.to_csv(\"./data//measurement_label.txt\", columns = [\"measurement_label\"], header=False, index=False)\\n    train_df.to_csv(\"./data/{}/measurement_result.txt\", columns = [\"measurement_result\"], header=False, index=False)\\n'"
      ]
     },
     "execution_count": 113,
     "metadata": {},
     "output_type": "execute_result"
    }
   ],
   "source": [
    "import numpy as np\n",
    "import pandas as pd\n",
    "from tqdm import tqdm_notebook as tqdm\n",
    "import itertools\n",
    "\n",
    "def generate(n_qubit, state_name, n_shot, error_model):\n",
    "    meas_pattern_list = []\n",
    "    meas_label_list = []\n",
    "    meas_result_list = []\n",
    "    \n",
    "    pauli_meas_label = [\"X\", \"Y\", \"Z\"]\n",
    "    #operator_pattern_list = itertools.product(pauli_meas_label)\n",
    "    \n",
    "    for meas_pattern in tqdm(itertools.product(pauli_meas_label, repeat=n_qubit)):\n",
    "        meas_pattern_list.append(meas_pattern)\n",
    "        print(f\"measurement pattern : {meas_pattern}\")\n",
    "        \n",
    "        for i in tqdm(range(int(n_shot/3**n_qubit))):\n",
    "            label, result = pauli(n_qubit, state_name, error_model, meas_pattern)\n",
    "            meas_label_list.append(label)\n",
    "            meas_result_list.append(result)\n",
    "    \n",
    "    meas_pattern_df = pd.DataFrame({\"measurement_pattern\":meas_pattern_list})\n",
    "    meas_pattern_df[\"measurement_pattern\"] = meas_pattern_df[\"measurement_pattern\"].apply(lambda x: \" \".join(x))\n",
    "    train_df = pd.DataFrame({\"measurement_label\":meas_label_list, \"measurement_result\":meas_result_list})\n",
    "    train_df[\"measurement_label\"] = train_df[\"measurement_label\"].apply(lambda x: \" \".join(x))\n",
    "    train_df[\"measurement_result\"] = train_df[\"measurement_result\"].apply(lambda x: \" \".join(x))\n",
    "    \n",
    "    return meas_pattern_df, train_df\n",
    "\n",
    "\"\"\"\n",
    "def data_export(meas_pattern_df, train_df):\n",
    "    meas_pattern_df.to_csv(\"./{}/data/measurement_pattern.txt\", header=False, index=False)\n",
    "    train_df.to_csv(\"./data//measurement_label.txt\", columns = [\"measurement_label\"], header=False, index=False)\n",
    "    train_df.to_csv(\"./data/{}/measurement_result.txt\", columns = [\"measurement_result\"], header=False, index=False)\n",
    "\"\"\""
   ]
  },
  {
   "cell_type": "markdown",
   "id": "84104ae4-ab61-4745-a8e1-60f44397efa8",
   "metadata": {},
   "source": [
    "### debug"
   ]
  },
  {
   "cell_type": "code",
   "execution_count": 128,
   "id": "c3e3e7e2-4c93-4be3-bd13-9c8cf9d69457",
   "metadata": {},
   "outputs": [
    {
     "data": {
      "text/plain": [
       "array([[1, 0, 0, 0, 0, 0, 0, 0],\n",
       "       [0, 0, 0, 0, 0, 0, 0, 0],\n",
       "       [0, 0, 0, 0, 0, 0, 0, 0],\n",
       "       [0, 0, 0, 0, 0, 0, 0, 0],\n",
       "       [0, 0, 0, 0, 0, 0, 0, 0],\n",
       "       [0, 0, 0, 0, 0, 0, 0, 0],\n",
       "       [0, 0, 0, 0, 0, 0, 0, 0],\n",
       "       [0, 0, 0, 0, 0, 0, 0, 0]])"
      ]
     },
     "execution_count": 128,
     "metadata": {},
     "output_type": "execute_result"
    }
   ],
   "source": [
    "init_state(3, \"density_matrix\")"
   ]
  },
  {
   "cell_type": "code",
   "execution_count": 131,
   "id": "af3be006-1fbb-4039-b479-59a641e8518f",
   "metadata": {},
   "outputs": [
    {
     "data": {
      "text/plain": [
       "array([[0.5, 0. , 0. , 0.5],\n",
       "       [0. , 0. , 0. , 0. ],\n",
       "       [0. , 0. , 0. , 0. ],\n",
       "       [0.5, 0. , 0. , 0.5]])"
      ]
     },
     "execution_count": 131,
     "metadata": {},
     "output_type": "execute_result"
    }
   ],
   "source": [
    "ideal_bell_state = Bell(2, \"density_matrix\", \"ideal\", error_rate)\n",
    "ideal_bell_state"
   ]
  },
  {
   "cell_type": "code",
   "execution_count": 133,
   "id": "638a6988-b10a-43c5-9eeb-97da6a26d4d1",
   "metadata": {},
   "outputs": [],
   "source": [
    "np.savetxt('sample.txt', np.imag(ideal_bell_state))"
   ]
  },
  {
   "cell_type": "code",
   "execution_count": 114,
   "id": "9126bb60-944a-46aa-be28-7e5b040ee833",
   "metadata": {},
   "outputs": [
    {
     "data": {
      "application/vnd.jupyter.widget-view+json": {
       "model_id": "8419948ca25646d0ad6a54d6fa52cd76",
       "version_major": 2,
       "version_minor": 0
      },
      "text/plain": [
       "0it [00:00, ?it/s]"
      ]
     },
     "metadata": {},
     "output_type": "display_data"
    },
    {
     "name": "stdout",
     "output_type": "stream",
     "text": [
      "measurement pattern : ('X', 'X')\n"
     ]
    },
    {
     "data": {
      "application/vnd.jupyter.widget-view+json": {
       "model_id": "c1ad5b6204c048e58980a2c02cf57411",
       "version_major": 2,
       "version_minor": 0
      },
      "text/plain": [
       "  0%|          | 0/1111 [00:00<?, ?it/s]"
      ]
     },
     "metadata": {},
     "output_type": "display_data"
    },
    {
     "name": "stdout",
     "output_type": "stream",
     "text": [
      "measurement pattern : ('X', 'Y')\n"
     ]
    },
    {
     "data": {
      "application/vnd.jupyter.widget-view+json": {
       "model_id": "4bbcb1ce4fea4250a3c9b4fb6e65811b",
       "version_major": 2,
       "version_minor": 0
      },
      "text/plain": [
       "  0%|          | 0/1111 [00:00<?, ?it/s]"
      ]
     },
     "metadata": {},
     "output_type": "display_data"
    },
    {
     "name": "stdout",
     "output_type": "stream",
     "text": [
      "measurement pattern : ('X', 'Z')\n"
     ]
    },
    {
     "data": {
      "application/vnd.jupyter.widget-view+json": {
       "model_id": "705a4630f48c4d9daab096158c8ca69f",
       "version_major": 2,
       "version_minor": 0
      },
      "text/plain": [
       "  0%|          | 0/1111 [00:00<?, ?it/s]"
      ]
     },
     "metadata": {},
     "output_type": "display_data"
    },
    {
     "name": "stdout",
     "output_type": "stream",
     "text": [
      "measurement pattern : ('Y', 'X')\n"
     ]
    },
    {
     "data": {
      "application/vnd.jupyter.widget-view+json": {
       "model_id": "6711bd28664249d8b10b42e8d5ce3e8e",
       "version_major": 2,
       "version_minor": 0
      },
      "text/plain": [
       "  0%|          | 0/1111 [00:00<?, ?it/s]"
      ]
     },
     "metadata": {},
     "output_type": "display_data"
    },
    {
     "name": "stdout",
     "output_type": "stream",
     "text": [
      "measurement pattern : ('Y', 'Y')\n"
     ]
    },
    {
     "data": {
      "application/vnd.jupyter.widget-view+json": {
       "model_id": "2efdc48d882547c09f2b27146cb544cf",
       "version_major": 2,
       "version_minor": 0
      },
      "text/plain": [
       "  0%|          | 0/1111 [00:00<?, ?it/s]"
      ]
     },
     "metadata": {},
     "output_type": "display_data"
    },
    {
     "name": "stdout",
     "output_type": "stream",
     "text": [
      "measurement pattern : ('Y', 'Z')\n"
     ]
    },
    {
     "data": {
      "application/vnd.jupyter.widget-view+json": {
       "model_id": "332a85d4227f41e9b20dd9edd8cd0876",
       "version_major": 2,
       "version_minor": 0
      },
      "text/plain": [
       "  0%|          | 0/1111 [00:00<?, ?it/s]"
      ]
     },
     "metadata": {},
     "output_type": "display_data"
    },
    {
     "name": "stdout",
     "output_type": "stream",
     "text": [
      "measurement pattern : ('Z', 'X')\n"
     ]
    },
    {
     "data": {
      "application/vnd.jupyter.widget-view+json": {
       "model_id": "33ee4db099af48bfbe9a6102b5b19a7f",
       "version_major": 2,
       "version_minor": 0
      },
      "text/plain": [
       "  0%|          | 0/1111 [00:00<?, ?it/s]"
      ]
     },
     "metadata": {},
     "output_type": "display_data"
    },
    {
     "name": "stdout",
     "output_type": "stream",
     "text": [
      "measurement pattern : ('Z', 'Y')\n"
     ]
    },
    {
     "data": {
      "application/vnd.jupyter.widget-view+json": {
       "model_id": "5462552b7b764ab0b0ebb9b73c4a0ec9",
       "version_major": 2,
       "version_minor": 0
      },
      "text/plain": [
       "  0%|          | 0/1111 [00:00<?, ?it/s]"
      ]
     },
     "metadata": {},
     "output_type": "display_data"
    },
    {
     "name": "stdout",
     "output_type": "stream",
     "text": [
      "measurement pattern : ('Z', 'Z')\n"
     ]
    },
    {
     "data": {
      "application/vnd.jupyter.widget-view+json": {
       "model_id": "a973cb0f7626474a93913b919d0d27af",
       "version_major": 2,
       "version_minor": 0
      },
      "text/plain": [
       "  0%|          | 0/1111 [00:00<?, ?it/s]"
      ]
     },
     "metadata": {},
     "output_type": "display_data"
    }
   ],
   "source": [
    "meas_pattern_df, train_df = generate(n_qubit, n_shot)"
   ]
  },
  {
   "cell_type": "code",
   "execution_count": 115,
   "id": "5f909dd5-d8a1-4f94-8c08-733c20fa863f",
   "metadata": {},
   "outputs": [
    {
     "data": {
      "text/html": [
       "<div>\n",
       "<style scoped>\n",
       "    .dataframe tbody tr th:only-of-type {\n",
       "        vertical-align: middle;\n",
       "    }\n",
       "\n",
       "    .dataframe tbody tr th {\n",
       "        vertical-align: top;\n",
       "    }\n",
       "\n",
       "    .dataframe thead th {\n",
       "        text-align: right;\n",
       "    }\n",
       "</style>\n",
       "<table border=\"1\" class=\"dataframe\">\n",
       "  <thead>\n",
       "    <tr style=\"text-align: right;\">\n",
       "      <th></th>\n",
       "      <th>measurement_label</th>\n",
       "      <th>measurement_result</th>\n",
       "    </tr>\n",
       "  </thead>\n",
       "  <tbody>\n",
       "    <tr>\n",
       "      <th>0</th>\n",
       "      <td>X X</td>\n",
       "      <td>0 1</td>\n",
       "    </tr>\n",
       "    <tr>\n",
       "      <th>1</th>\n",
       "      <td>X X</td>\n",
       "      <td>1 0</td>\n",
       "    </tr>\n",
       "    <tr>\n",
       "      <th>2</th>\n",
       "      <td>X X</td>\n",
       "      <td>1 1</td>\n",
       "    </tr>\n",
       "    <tr>\n",
       "      <th>3</th>\n",
       "      <td>X X</td>\n",
       "      <td>1 0</td>\n",
       "    </tr>\n",
       "    <tr>\n",
       "      <th>4</th>\n",
       "      <td>X X</td>\n",
       "      <td>1 0</td>\n",
       "    </tr>\n",
       "    <tr>\n",
       "      <th>...</th>\n",
       "      <td>...</td>\n",
       "      <td>...</td>\n",
       "    </tr>\n",
       "    <tr>\n",
       "      <th>9994</th>\n",
       "      <td>Z Z</td>\n",
       "      <td>1 0</td>\n",
       "    </tr>\n",
       "    <tr>\n",
       "      <th>9995</th>\n",
       "      <td>Z Z</td>\n",
       "      <td>0 0</td>\n",
       "    </tr>\n",
       "    <tr>\n",
       "      <th>9996</th>\n",
       "      <td>Z Z</td>\n",
       "      <td>0 0</td>\n",
       "    </tr>\n",
       "    <tr>\n",
       "      <th>9997</th>\n",
       "      <td>Z Z</td>\n",
       "      <td>0 1</td>\n",
       "    </tr>\n",
       "    <tr>\n",
       "      <th>9998</th>\n",
       "      <td>Z Z</td>\n",
       "      <td>0 1</td>\n",
       "    </tr>\n",
       "  </tbody>\n",
       "</table>\n",
       "<p>9999 rows × 2 columns</p>\n",
       "</div>"
      ],
      "text/plain": [
       "     measurement_label measurement_result\n",
       "0                  X X                0 1\n",
       "1                  X X                1 0\n",
       "2                  X X                1 1\n",
       "3                  X X                1 0\n",
       "4                  X X                1 0\n",
       "...                ...                ...\n",
       "9994               Z Z                1 0\n",
       "9995               Z Z                0 0\n",
       "9996               Z Z                0 0\n",
       "9997               Z Z                0 1\n",
       "9998               Z Z                0 1\n",
       "\n",
       "[9999 rows x 2 columns]"
      ]
     },
     "execution_count": 115,
     "metadata": {},
     "output_type": "execute_result"
    }
   ],
   "source": [
    "train_df"
   ]
  },
  {
   "cell_type": "code",
   "execution_count": 116,
   "id": "5c0ac4d9-3307-4642-b120-39aa8af1df15",
   "metadata": {},
   "outputs": [],
   "source": [
    "import torch"
   ]
  },
  {
   "cell_type": "code",
   "execution_count": 117,
   "id": "e5a10b6f-2019-4ea0-9c76-d1fdc30b55f5",
   "metadata": {},
   "outputs": [
    {
     "ename": "ModuleNotFoundError",
     "evalue": "No module named 'optuna'",
     "output_type": "error",
     "traceback": [
      "\u001b[0;31m---------------------------------------------------------------------------\u001b[0m",
      "\u001b[0;31mModuleNotFoundError\u001b[0m                       Traceback (most recent call last)",
      "Input \u001b[0;32mIn [117]\u001b[0m, in \u001b[0;36m<cell line: 1>\u001b[0;34m()\u001b[0m\n\u001b[0;32m----> 1\u001b[0m \u001b[38;5;28;01mimport\u001b[39;00m \u001b[38;5;21;01moptuna\u001b[39;00m\n",
      "\u001b[0;31mModuleNotFoundError\u001b[0m: No module named 'optuna'"
     ]
    }
   ],
   "source": [
    "import optuna"
   ]
  },
  {
   "cell_type": "code",
   "execution_count": 118,
   "id": "a65b0382-638e-41af-838e-939e45ae79ca",
   "metadata": {},
   "outputs": [
    {
     "name": "stdout",
     "output_type": "stream",
     "text": [
      "Collecting optuna\n",
      "  Downloading optuna-3.1.1-py3-none-any.whl (365 kB)\n",
      "\u001b[2K     \u001b[90m━━━━━━━━━━━━━━━━━━━━━━━━━━━━━━━━━━━━━━━\u001b[0m \u001b[32m365.7/365.7 KB\u001b[0m \u001b[31m3.8 MB/s\u001b[0m eta \u001b[36m0:00:00\u001b[0m00:01\u001b[0m00:01\u001b[0m\n",
      "\u001b[?25hRequirement already satisfied: PyYAML in /opt/conda/lib/python3.9/site-packages (from optuna) (6.0)\n",
      "Requirement already satisfied: sqlalchemy>=1.3.0 in /opt/conda/lib/python3.9/site-packages (from optuna) (1.4.35)\n",
      "Requirement already satisfied: alembic>=1.5.0 in /opt/conda/lib/python3.9/site-packages (from optuna) (1.7.7)\n",
      "Collecting colorlog\n",
      "  Downloading colorlog-6.7.0-py2.py3-none-any.whl (11 kB)\n",
      "Requirement already satisfied: tqdm in /opt/conda/lib/python3.9/site-packages (from optuna) (4.64.0)\n",
      "Collecting cmaes>=0.9.1\n",
      "  Downloading cmaes-0.9.1-py3-none-any.whl (21 kB)\n",
      "Requirement already satisfied: numpy in /opt/conda/lib/python3.9/site-packages (from optuna) (1.21.6)\n",
      "Requirement already satisfied: packaging>=20.0 in /opt/conda/lib/python3.9/site-packages (from optuna) (21.3)\n",
      "Requirement already satisfied: Mako in /opt/conda/lib/python3.9/site-packages (from alembic>=1.5.0->optuna) (1.2.0)\n",
      "Requirement already satisfied: pyparsing!=3.0.5,>=2.0.2 in /opt/conda/lib/python3.9/site-packages (from packaging>=20.0->optuna) (3.0.8)\n",
      "Requirement already satisfied: greenlet!=0.4.17 in /opt/conda/lib/python3.9/site-packages (from sqlalchemy>=1.3.0->optuna) (1.1.2)\n",
      "Requirement already satisfied: MarkupSafe>=0.9.2 in /opt/conda/lib/python3.9/site-packages (from Mako->alembic>=1.5.0->optuna) (2.1.1)\n",
      "Installing collected packages: colorlog, cmaes, optuna\n",
      "Successfully installed cmaes-0.9.1 colorlog-6.7.0 optuna-3.1.1\n"
     ]
    }
   ],
   "source": [
    "!pip install optuna"
   ]
  },
  {
   "cell_type": "code",
   "execution_count": 134,
   "id": "fb35ce42-0c9e-415d-a9f1-c194e2a0deff",
   "metadata": {},
   "outputs": [
    {
     "data": {
      "text/plain": [
       "59049"
      ]
     },
     "execution_count": 134,
     "metadata": {},
     "output_type": "execute_result"
    }
   ],
   "source": [
    "3**10"
   ]
  },
  {
   "cell_type": "code",
   "execution_count": 144,
   "id": "f14b5476-ef85-4ca3-9636-78df29294210",
   "metadata": {},
   "outputs": [
    {
     "data": {
      "text/plain": [
       "array([[0.70710678],\n",
       "       [0.        ],\n",
       "       [0.        ],\n",
       "       [0.70710678]])"
      ]
     },
     "execution_count": 144,
     "metadata": {},
     "output_type": "execute_result"
    }
   ],
   "source": [
    "ideal_state_vector = Bell(n_qubit, \"state_vector\", \"ideal\", error_rate)\n",
    "np.real(ideal_state_vector)"
   ]
  },
  {
   "cell_type": "code",
   "execution_count": 145,
   "id": "38bb0227-1bb0-4d43-9e0f-87ed3c6737c6",
   "metadata": {},
   "outputs": [
    {
     "data": {
      "text/plain": [
       "array([[0.],\n",
       "       [0.],\n",
       "       [0.],\n",
       "       [0.]])"
      ]
     },
     "execution_count": 145,
     "metadata": {},
     "output_type": "execute_result"
    }
   ],
   "source": [
    "np.imag(ideal_state_vector)"
   ]
  },
  {
   "cell_type": "code",
   "execution_count": 148,
   "id": "2d21b43b-90e9-446c-b80c-4fc0b14cc865",
   "metadata": {},
   "outputs": [
    {
     "data": {
      "text/html": [
       "<div>\n",
       "<style scoped>\n",
       "    .dataframe tbody tr th:only-of-type {\n",
       "        vertical-align: middle;\n",
       "    }\n",
       "\n",
       "    .dataframe tbody tr th {\n",
       "        vertical-align: top;\n",
       "    }\n",
       "\n",
       "    .dataframe thead th {\n",
       "        text-align: right;\n",
       "    }\n",
       "</style>\n",
       "<table border=\"1\" class=\"dataframe\">\n",
       "  <thead>\n",
       "    <tr style=\"text-align: right;\">\n",
       "      <th></th>\n",
       "      <th>Re</th>\n",
       "      <th>Im</th>\n",
       "    </tr>\n",
       "  </thead>\n",
       "  <tbody>\n",
       "    <tr>\n",
       "      <th>0</th>\n",
       "      <td>0.707107</td>\n",
       "      <td>0.0</td>\n",
       "    </tr>\n",
       "    <tr>\n",
       "      <th>1</th>\n",
       "      <td>0.000000</td>\n",
       "      <td>0.0</td>\n",
       "    </tr>\n",
       "    <tr>\n",
       "      <th>2</th>\n",
       "      <td>0.000000</td>\n",
       "      <td>0.0</td>\n",
       "    </tr>\n",
       "    <tr>\n",
       "      <th>3</th>\n",
       "      <td>0.707107</td>\n",
       "      <td>0.0</td>\n",
       "    </tr>\n",
       "  </tbody>\n",
       "</table>\n",
       "</div>"
      ],
      "text/plain": [
       "         Re   Im\n",
       "0  0.707107  0.0\n",
       "1  0.000000  0.0\n",
       "2  0.000000  0.0\n",
       "3  0.707107  0.0"
      ]
     },
     "execution_count": 148,
     "metadata": {},
     "output_type": "execute_result"
    }
   ],
   "source": [
    "df = pd.DataFrame({\"Re\":np.real(ideal_state_vector.reshape(-1)), \"Im\":np.imag(ideal_state_vector.reshape(-1))})\n",
    "df"
   ]
  },
  {
   "cell_type": "code",
   "execution_count": 211,
   "id": "9b6f0283-f473-4ef3-958d-a86c03112f06",
   "metadata": {},
   "outputs": [
    {
     "data": {
      "text/plain": [
       "array([[0.49337778+0.j, 0.        +0.j, 0.        +0.j, 0.48026548+0.j],\n",
       "       [0.        +0.j, 0.00662222+0.j, 0.        +0.j, 0.        +0.j],\n",
       "       [0.        +0.j, 0.        +0.j, 0.00662222+0.j, 0.        +0.j],\n",
       "       [0.48026548+0.j, 0.        +0.j, 0.        +0.j, 0.49337778+0.j]])"
      ]
     },
     "execution_count": 211,
     "metadata": {},
     "output_type": "execute_result"
    }
   ],
   "source": [
    "ideal_rho = Bell(n_qubit, \"density_matrix\", \"depolarizing\", 0.01)\n",
    "ideal_rho"
   ]
  },
  {
   "cell_type": "code",
   "execution_count": 212,
   "id": "92caad24-0777-4ebc-8313-53cfd64859f7",
   "metadata": {},
   "outputs": [],
   "source": [
    "M_0, M_1 = Z_basis(2, 0)"
   ]
  },
  {
   "cell_type": "code",
   "execution_count": 213,
   "id": "f3697b43-0308-410e-9c93-82b656a992e6",
   "metadata": {},
   "outputs": [
    {
     "data": {
      "text/plain": [
       "array([[1., 0., 0., 0.],\n",
       "       [0., 1., 0., 0.],\n",
       "       [0., 0., 0., 0.],\n",
       "       [0., 0., 0., 0.]])"
      ]
     },
     "execution_count": 213,
     "metadata": {},
     "output_type": "execute_result"
    }
   ],
   "source": [
    "M_0"
   ]
  },
  {
   "cell_type": "code",
   "execution_count": 214,
   "id": "3aae5113-32ad-4e04-ae43-1845828d7af4",
   "metadata": {},
   "outputs": [
    {
     "data": {
      "text/plain": [
       "array([[0., 0., 0., 0.],\n",
       "       [0., 0., 0., 0.],\n",
       "       [0., 0., 1., 0.],\n",
       "       [0., 0., 0., 1.]])"
      ]
     },
     "execution_count": 214,
     "metadata": {},
     "output_type": "execute_result"
    }
   ],
   "source": [
    "M_1"
   ]
  },
  {
   "cell_type": "code",
   "execution_count": 215,
   "id": "46dfb0a1-a6df-4f02-aea6-9b9ef2b47b70",
   "metadata": {},
   "outputs": [
    {
     "data": {
      "text/plain": [
       "(0.49999999999999983+0j)"
      ]
     },
     "execution_count": 215,
     "metadata": {},
     "output_type": "execute_result"
    }
   ],
   "source": [
    "p_0 = np.trace(M_0@ideal_rho)\n",
    "p_0"
   ]
  },
  {
   "cell_type": "code",
   "execution_count": 216,
   "id": "028babbf-bdcd-4842-9d37-e7d07397a24a",
   "metadata": {},
   "outputs": [
    {
     "data": {
      "text/plain": [
       "(0.49999999999999983+0j)"
      ]
     },
     "execution_count": 216,
     "metadata": {},
     "output_type": "execute_result"
    }
   ],
   "source": [
    "p_1 = np.trace(M_1@ideal_rho)\n",
    "p_1"
   ]
  },
  {
   "cell_type": "code",
   "execution_count": 217,
   "id": "fc4265e9-b873-47b1-a45e-7aa7702997f0",
   "metadata": {},
   "outputs": [
    {
     "data": {
      "text/plain": [
       "array([[0.98675556+0.j, 0.        +0.j, 0.        +0.j, 0.        +0.j],\n",
       "       [0.        +0.j, 0.01324444+0.j, 0.        +0.j, 0.        +0.j],\n",
       "       [0.        +0.j, 0.        +0.j, 0.        +0.j, 0.        +0.j],\n",
       "       [0.        +0.j, 0.        +0.j, 0.        +0.j, 0.        +0.j]])"
      ]
     },
     "execution_count": 217,
     "metadata": {},
     "output_type": "execute_result"
    }
   ],
   "source": [
    "rho_0 = (M_0@ideal_rho@M_0) / np.trace(M_0@M_0@ideal_rho)\n",
    "rho_0"
   ]
  },
  {
   "cell_type": "code",
   "execution_count": 218,
   "id": "2d2a1f8c-3d7c-4ef0-8f9a-31804842fc91",
   "metadata": {},
   "outputs": [
    {
     "data": {
      "text/plain": [
       "array([[0.        +0.j, 0.        +0.j, 0.        +0.j, 0.        +0.j],\n",
       "       [0.        +0.j, 0.        +0.j, 0.        +0.j, 0.        +0.j],\n",
       "       [0.        +0.j, 0.        +0.j, 0.01324444+0.j, 0.        +0.j],\n",
       "       [0.        +0.j, 0.        +0.j, 0.        +0.j, 0.98675556+0.j]])"
      ]
     },
     "execution_count": 218,
     "metadata": {},
     "output_type": "execute_result"
    }
   ],
   "source": [
    "rho_1 = (M_1@ideal_rho@M_1) / np.trace(M_1@M_1@ideal_rho)\n",
    "rho_1"
   ]
  },
  {
   "cell_type": "code",
   "execution_count": 219,
   "id": "73d22528-fba3-4c07-8b59-e5c90013e7f0",
   "metadata": {},
   "outputs": [],
   "source": [
    "M_0, M_1 = Z_basis(2, 1)"
   ]
  },
  {
   "cell_type": "code",
   "execution_count": 220,
   "id": "1a50f5bf-23ed-4e28-b6ba-6d8c933929d5",
   "metadata": {},
   "outputs": [
    {
     "data": {
      "text/plain": [
       "array([[1., 0., 0., 0.],\n",
       "       [0., 0., 0., 0.],\n",
       "       [0., 0., 1., 0.],\n",
       "       [0., 0., 0., 0.]])"
      ]
     },
     "execution_count": 220,
     "metadata": {},
     "output_type": "execute_result"
    }
   ],
   "source": [
    "M_0"
   ]
  },
  {
   "cell_type": "code",
   "execution_count": 221,
   "id": "42cfa53e-71ec-48e5-b4c3-9603f60b19ca",
   "metadata": {},
   "outputs": [
    {
     "data": {
      "text/plain": [
       "array([[0., 0., 0., 0.],\n",
       "       [0., 1., 0., 0.],\n",
       "       [0., 0., 0., 0.],\n",
       "       [0., 0., 0., 1.]])"
      ]
     },
     "execution_count": 221,
     "metadata": {},
     "output_type": "execute_result"
    }
   ],
   "source": [
    "M_1"
   ]
  },
  {
   "cell_type": "code",
   "execution_count": 222,
   "id": "54b89805-b662-440b-9fed-7b7845f58092",
   "metadata": {},
   "outputs": [
    {
     "data": {
      "text/plain": [
       "(0.9867555555555557+0j)"
      ]
     },
     "execution_count": 222,
     "metadata": {},
     "output_type": "execute_result"
    }
   ],
   "source": [
    "p_00 = np.trace(rho_0@M_0)\n",
    "p_00"
   ]
  },
  {
   "cell_type": "code",
   "execution_count": 223,
   "id": "77a50737-510d-4afc-a188-271699cc16e7",
   "metadata": {},
   "outputs": [
    {
     "data": {
      "text/plain": [
       "(0.013244444444444446+0j)"
      ]
     },
     "execution_count": 223,
     "metadata": {},
     "output_type": "execute_result"
    }
   ],
   "source": [
    "p_01 = np.trace(rho_0@M_1)\n",
    "p_01"
   ]
  },
  {
   "cell_type": "code",
   "execution_count": 224,
   "id": "3b1c4c13-cc0a-4ea8-bfc1-396dcf9eb29f",
   "metadata": {},
   "outputs": [
    {
     "data": {
      "text/plain": [
       "(0.013244444444444446+0j)"
      ]
     },
     "execution_count": 224,
     "metadata": {},
     "output_type": "execute_result"
    }
   ],
   "source": [
    "p_10 = np.trace(rho_1@M_0)\n",
    "p_10"
   ]
  },
  {
   "cell_type": "code",
   "execution_count": 225,
   "id": "ad798b58-5cfe-485b-b126-9d6c14dc4f0c",
   "metadata": {},
   "outputs": [
    {
     "data": {
      "text/plain": [
       "(0.9867555555555557+0j)"
      ]
     },
     "execution_count": 225,
     "metadata": {},
     "output_type": "execute_result"
    }
   ],
   "source": [
    "p_11 = np.trace(rho_1@M_1)\n",
    "p_11"
   ]
  },
  {
   "cell_type": "code",
   "execution_count": null,
   "id": "1ea4b423-3571-4508-8d3f-c477bcef3f60",
   "metadata": {},
   "outputs": [],
   "source": []
  }
 ],
 "metadata": {
  "kernelspec": {
   "display_name": "Python 3 (ipykernel)",
   "language": "python",
   "name": "python3"
  },
  "language_info": {
   "codemirror_mode": {
    "name": "ipython",
    "version": 3
   },
   "file_extension": ".py",
   "mimetype": "text/x-python",
   "name": "python",
   "nbconvert_exporter": "python",
   "pygments_lexer": "ipython3",
   "version": "3.9.10"
  }
 },
 "nbformat": 4,
 "nbformat_minor": 5
}

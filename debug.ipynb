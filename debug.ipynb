{
 "cells": [
  {
   "cell_type": "markdown",
   "id": "220187f1-f67e-4390-9def-91a328c6847b",
   "metadata": {},
   "source": [
    "## import module"
   ]
  },
  {
   "cell_type": "code",
   "execution_count": 1,
   "id": "0b813e39-af7b-4a4f-b811-20a61cab25b8",
   "metadata": {},
   "outputs": [
    {
     "data": {
      "text/plain": [
       "<module 'dataset' from '/content/GitHub/NQS4QEM/dataset.py'>"
      ]
     },
     "execution_count": 1,
     "metadata": {},
     "output_type": "execute_result"
    }
   ],
   "source": [
    "import os\n",
    "import subprocess\n",
    "import random\n",
    "import warnings\n",
    "import numpy as np\n",
    "from scipy.linalg import sqrtm\n",
    "from scipy.stats import unitary_group\n",
    "import pandas as pd\n",
    "import yaml\n",
    "from tqdm.notebook import tqdm\n",
    "import itertools\n",
    "\n",
    "import torch\n",
    "from qucumber.nn_states import DensityMatrix\n",
    "from qucumber.callbacks import MetricEvaluator\n",
    "import qucumber.utils.unitaries as unitaries\n",
    "import qucumber.utils.training_statistics as ts\n",
    "import qucumber.utils.cplx as cplx\n",
    "import qucumber.utils.data as data\n",
    "from qucumber.observables import ObservableBase, to_pm1\n",
    "from qucumber.observables.pauli import flip_spin\n",
    "import qucumber\n",
    "\n",
    "from qulacs.gate import Pauli\n",
    "\n",
    "%load_ext autoreload\n",
    "%autoreload 2\n",
    "import gate\n",
    "import error_model\n",
    "import measurement\n",
    "import target_circuit\n",
    "import dataset\n",
    "\n",
    "import importlib\n",
    "importlib.reload(gate)\n",
    "importlib.reload(error_model)\n",
    "importlib.reload(measurement)\n",
    "importlib.reload(target_circuit)\n",
    "importlib.reload(dataset)"
   ]
  },
  {
   "cell_type": "markdown",
   "id": "7e13042f-d19c-417f-9629-e154331b65da",
   "metadata": {},
   "source": [
    "## setting params"
   ]
  },
  {
   "cell_type": "code",
   "execution_count": 2,
   "id": "367edbdf-1b70-4984-aa85-02ef129ba80f",
   "metadata": {},
   "outputs": [],
   "source": [
    "with open('./params_setting.yaml', 'r') as yml:\n",
    "    params = yaml.safe_load(yml)\n",
    "    \n",
    "# quantum circuit parameter\n",
    "circuit_name = params[\"circuit_info\"][\"circuit_name\"]\n",
    "n_qubit = params[\"circuit_info\"][\"n_qubit\"]\n",
    "state_class = params[\"circuit_info\"][\"state_class\"]\n",
    "error_model = params[\"circuit_info\"][\"error_model\"]\n",
    "error_rate = params[\"circuit_info\"][\"error_rate\"]\n",
    "each_n_shot = params[\"circuit_info\"][\"each_n_shot\"]\n",
    "\n",
    "# RBM architecture parameter\n",
    "n_visible_unit = params[\"architecture_info\"][\"n_visible_unit\"]\n",
    "n_hidden_unit = params[\"architecture_info\"][\"n_hidden_unit\"] \n",
    "n_aux_unit = params[\"architecture_info\"][\"n_aux_unit\"]\n",
    "\n",
    "# train parameter\n",
    "lr = params[\"train_info\"][\"lr\"]\n",
    "pbs = params[\"train_info\"][\"positive_batch_size\"]\n",
    "nbs = params[\"train_info\"][\"negative_batch_size\"]\n",
    "n_gibbs_step = params[\"train_info\"][\"n_gibbs_step\"]\n",
    "period = 1\n",
    "epoch = params[\"train_info\"][\"n_epoch\"]\n",
    "lr_drop_epoch = params[\"train_info\"][\"lr_drop_epoch\"]\n",
    "lr_drop_factor = params[\"train_info\"][\"lr_drop_factor\"]\n",
    "seed = params[\"train_info\"][\"seed\"]\n",
    "\n",
    "# sampling parameter\n",
    "n_sampling = params[\"sampling_info\"][\"n_sample\"]\n",
    "n_copy = params[\"sampling_info\"][\"n_copy\"]\n",
    "\n",
    "# data path info\n",
    "environment = \"local\"\n",
    "if environment == \"local\":\n",
    "    train_data_path = f\"./{circuit_name}/data/{n_qubit}-qubit/{error_model}/p={100*error_rate}%/each_{each_n_shot}_shot/\"\n",
    "    target_state_path = f\"./{circuit_name}/target_state/{n_qubit}-qubit/{error_model}/p={100*error_rate}%/\"\n",
    "    model_path = f\"./{circuit_name}/model/{state_class}/{n_qubit}-qubit/{error_model}/p={100*error_rate}%/each_{each_n_shot}_shot/\"\n",
    "    train_log_path = f\"./{circuit_name}/train_log/{n_qubit}-qubit/{error_model}/p={100*error_rate}%/each_{each_n_shot}_shot/\"\n",
    "if environment == \"colab\":\n",
    "    from google.colab import drive\n",
    "    drive.mount(\"/content/drive/\")\n",
    "    drive_path = \"/content/drive/MyDrive/NQS4VD/GHZ\"\n",
    "    train_data_path = drive_path + f\"/{circuit_name}/data/{n_qubit}-qubit/{error_model}/p={100*error_rate}%/each_{each_n_shot}_shot/\"\n",
    "    target_state_path = drive_path + f\"/{circuit_name}/target_state/{n_qubit}-qubit/{error_model}/p={100*error_rate}%/\"\n",
    "    model_path = drive_path + f\"/{circuit_name}/model/{state_class}/{n_qubit}-qubit/{error_model}/p={100*error_rate}%/each_{each_n_shot}_shot/\"\n",
    "    train_log_path = drive_path + f\"/{circuit_name}/train_log/{n_qubit}-qubit/{error_model}/p={100*error_rate}%/each_{each_n_shot}_shot/\"\n",
    "\n",
    "\n",
    "def seed_settings(seed=42):\n",
    "    random.seed(seed)\n",
    "    os.environ['PYTHONHASHSEED'] = str(seed)\n",
    "    np.random.seed(seed)\n",
    "    torch.manual_seed(seed)\n",
    "    qucumber.set_random_seed(seed, cpu=True, gpu=False)\n",
    "\n",
    "seed_settings(seed=seed)"
   ]
  },
  {
   "cell_type": "markdown",
   "id": "f74264d6-bf22-4ece-834d-8e9d530781d3",
   "metadata": {},
   "source": [
    "## generate dataset"
   ]
  },
  {
   "cell_type": "code",
   "execution_count": 3,
   "id": "8c4f1e5c-e0a1-4657-96ac-e9fe2d733de4",
   "metadata": {},
   "outputs": [
    {
     "ename": "AttributeError",
     "evalue": "'str' object has no attribute 'global_depolarizing'",
     "output_type": "error",
     "traceback": [
      "\u001b[0;31m---------------------------------------------------------------------------\u001b[0m",
      "\u001b[0;31mAttributeError\u001b[0m                            Traceback (most recent call last)",
      "Input \u001b[0;32mIn [3]\u001b[0m, in \u001b[0;36m<cell line: 1>\u001b[0;34m()\u001b[0m\n\u001b[0;32m----> 1\u001b[0m target_state \u001b[38;5;241m=\u001b[39m \u001b[43mtarget_circuit\u001b[49m\u001b[38;5;241;43m.\u001b[39;49m\u001b[43mGHZ\u001b[49m\u001b[43m(\u001b[49m\u001b[43mn_qubit\u001b[49m\u001b[43m,\u001b[49m\u001b[43m \u001b[49m\u001b[43mstate_class\u001b[49m\u001b[43m,\u001b[49m\u001b[43m \u001b[49m\u001b[43merror_model\u001b[49m\u001b[43m,\u001b[49m\u001b[43m \u001b[49m\u001b[43merror_rate\u001b[49m\u001b[43m)\u001b[49m\n",
      "File \u001b[0;32m/content/GitHub/NQS4QEM/target_circuit.py:48\u001b[0m, in \u001b[0;36mGHZ\u001b[0;34m(n_qubit, state_class, error_model, error_rate)\u001b[0m\n\u001b[1;32m     45\u001b[0m     \u001b[38;5;28;01mfor\u001b[39;00m i \u001b[38;5;129;01min\u001b[39;00m \u001b[38;5;28mrange\u001b[39m(n_qubit\u001b[38;5;241m-\u001b[39m\u001b[38;5;241m1\u001b[39m):\n\u001b[1;32m     46\u001b[0m         state \u001b[38;5;241m=\u001b[39m gate\u001b[38;5;241m.\u001b[39mCX(n_qubit,\u001b[38;5;241m0\u001b[39m,i\u001b[38;5;241m+\u001b[39m\u001b[38;5;241m1\u001b[39m) \u001b[38;5;241m@\u001b[39m state \u001b[38;5;241m@\u001b[39m gate\u001b[38;5;241m.\u001b[39mCX(n_qubit,\u001b[38;5;241m0\u001b[39m,i\u001b[38;5;241m+\u001b[39m\u001b[38;5;241m1\u001b[39m)\u001b[38;5;241m.\u001b[39mT\u001b[38;5;241m.\u001b[39mconjugate()\n\u001b[0;32m---> 48\u001b[0m     state \u001b[38;5;241m=\u001b[39m \u001b[43merror_model\u001b[49m\u001b[38;5;241;43m.\u001b[39;49m\u001b[43mglobal_depolarizing\u001b[49m(state, n_qubit, error_rate)\n\u001b[1;32m     50\u001b[0m \u001b[38;5;28;01mif\u001b[39;00m error_model \u001b[38;5;241m==\u001b[39m \u001b[38;5;124m\"\u001b[39m\u001b[38;5;124munitary\u001b[39m\u001b[38;5;124m\"\u001b[39m:\n\u001b[1;32m     51\u001b[0m     state \u001b[38;5;241m=\u001b[39m init_state(n_qubit, state_class)\n",
      "\u001b[0;31mAttributeError\u001b[0m: 'str' object has no attribute 'global_depolarizing'"
     ]
    }
   ],
   "source": [
    "target_state = target_circuit.GHZ(n_qubit, state_class, error_model, error_rate)"
   ]
  },
  {
   "cell_type": "code",
   "execution_count": null,
   "id": "f5e27378-f864-46ad-9798-98b2cb9cc9a1",
   "metadata": {},
   "outputs": [],
   "source": [
    "meas_pattern_df, train_df = dataset.generate(target_state, n_qubit, error_model, each_n_shot)\n",
    "dataset.save(meas_pattern_df, train_df, train_data_path)"
   ]
  },
  {
   "cell_type": "code",
   "execution_count": null,
   "id": "4a1e488c-d06a-4434-8d61-89fda97dfa4b",
   "metadata": {},
   "outputs": [],
   "source": []
  }
 ],
 "metadata": {
  "kernelspec": {
   "display_name": "Python 3 (ipykernel)",
   "language": "python",
   "name": "python3"
  },
  "language_info": {
   "codemirror_mode": {
    "name": "ipython",
    "version": 3
   },
   "file_extension": ".py",
   "mimetype": "text/x-python",
   "name": "python",
   "nbconvert_exporter": "python",
   "pygments_lexer": "ipython3",
   "version": "3.9.10"
  }
 },
 "nbformat": 4,
 "nbformat_minor": 5
}

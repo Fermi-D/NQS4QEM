{
 "cells": [
  {
   "cell_type": "code",
   "execution_count": 1,
   "id": "56c1a269-1a21-47d5-8030-7bb698be9296",
   "metadata": {},
   "outputs": [],
   "source": [
    "import os\n",
    "import subprocess\n",
    "import random\n",
    "import warnings\n",
    "import numpy as np\n",
    "from scipy.linalg import sqrtm\n",
    "from scipy.stats import unitary_group\n",
    "import pandas as pd\n",
    "import matplotlib.pyplot as plt\n",
    "import seaborn as sns\n",
    "import yaml\n",
    "from tqdm.notebook import tqdm\n",
    "import itertools\n",
    "\n",
    "import torch\n",
    "from qucumber.nn_states import DensityMatrix\n",
    "from qucumber.nn_states import ComplexWaveFunction\n",
    "from qucumber.callbacks import MetricEvaluator\n",
    "import qucumber.utils.unitaries as unitaries\n",
    "import qucumber.utils.training_statistics as ts\n",
    "import qucumber.utils.cplx as cplx\n",
    "import qucumber.utils.data as data\n",
    "from qucumber.observables import ObservableBase, to_pm1\n",
    "from qucumber.observables.pauli import flip_spin\n",
    "import qucumber\n",
    "\n",
    "from qulacs.gate import Pauli\n",
    "\n",
    "%load_ext autoreload\n",
    "%autoreload 2\n",
    "import target_circuit\n",
    "import statistics"
   ]
  },
  {
   "cell_type": "code",
   "execution_count": 2,
   "id": "b843a6b1-cb5d-403d-9a43-ffcc3e0aaf96",
   "metadata": {},
   "outputs": [],
   "source": [
    "with open('./params_setting.yaml', 'r') as yml:\n",
    "    params = yaml.safe_load(yml)\n",
    "    \n",
    "# quantum circuit parameter\n",
    "circuit_name = params[\"circuit_info\"][\"circuit_name\"]\n",
    "n_qubit = params[\"circuit_info\"][\"n_qubit\"]\n",
    "state_class = params[\"circuit_info\"][\"state_class\"]\n",
    "error_model = params[\"circuit_info\"][\"error_model\"]\n",
    "error_rate = params[\"circuit_info\"][\"error_rate\"]\n",
    "each_n_shot = params[\"circuit_info\"][\"each_n_shot\"]\n",
    "\n",
    "# RBM architecture parameter\n",
    "num_visible = params[\"architecture_info\"][\"n_visible_unit\"]\n",
    "num_hidden = params[\"architecture_info\"][\"n_hidden_unit\"] \n",
    "num_aux = params[\"architecture_info\"][\"n_aux_unit\"]\n",
    "\n",
    "# train parameter\n",
    "lr = params[\"train_info\"][\"lr\"]\n",
    "pbs = params[\"train_info\"][\"positive_batch_size\"]\n",
    "nbs = params[\"train_info\"][\"negative_batch_size\"]\n",
    "n_gibbs_step = params[\"train_info\"][\"n_gibbs_step\"]\n",
    "period = 1\n",
    "epoch = params[\"train_info\"][\"n_epoch\"]\n",
    "lr_drop_epoch = params[\"train_info\"][\"lr_drop_epoch\"]\n",
    "lr_drop_factor = params[\"train_info\"][\"lr_drop_factor\"]\n",
    "use_gpu = params[\"train_info\"][\"use_gpu\"]\n",
    "seed = params[\"train_info\"][\"seed\"]\n",
    "\n",
    "# sampling parameter\n",
    "n_sampling = params[\"sampling_info\"][\"n_sample\"]\n",
    "n_copy = params[\"sampling_info\"][\"n_copy\"]\n",
    "\n",
    "# data path info\n",
    "environment = \"local\"\n",
    "if environment == \"local\":\n",
    "    train_data_path = f\"./{circuit_name}/data/{n_qubit}-qubit/{error_model}/p={100*error_rate}%/each_{each_n_shot}_shot/\"\n",
    "    target_state_path = f\"./{circuit_name}/target_state/{state_class}/{n_qubit}-qubit/{error_model}/p={100*error_rate}%/\"\n",
    "    model_path = f\"./{circuit_name}/model/{state_class}/{n_qubit}-qubit/{error_model}/p={100*error_rate}%/each_{each_n_shot}_shot/\"\n",
    "    train_log_path = f\"./{circuit_name}/train_log/{n_qubit}-qubit/{error_model}/p={100*error_rate}%/each_{each_n_shot}_shot/\"\n",
    "if environment == \"colab\":\n",
    "    from google.colab import drive\n",
    "    drive.mount(\"/content/drive/\")\n",
    "    drive_path = \"/content/drive/MyDrive/NQS4VD/GHZ\"\n",
    "    train_data_path = drive_path + f\"/{circuit_name}/data/{n_qubit}-qubit/{error_model}/p={100*error_rate}%/each_{each_n_shot}_shot/\"\n",
    "    target_state_path = drive_path + f\"/{circuit_name}/target_state/{state_class}/{n_qubit}-qubit/{error_model}/p={100*error_rate}%/\"\n",
    "    model_path = drive_path + f\"/{circuit_name}/model/{state_class}/{n_qubit}-qubit/{error_model}/p={100*error_rate}%/each_{each_n_shot}_shot/\"\n",
    "    train_log_path = drive_path + f\"/{circuit_name}/train_log/{n_qubit}-qubit/{error_model}/p={100*error_rate}%/each_{each_n_shot}_shot/\"\n",
    "\n",
    "def seed_settings(seed=42):\n",
    "    random.seed(seed)\n",
    "    os.environ['PYTHONHASHSEED'] = str(seed)\n",
    "    np.random.seed(seed)\n",
    "    torch.manual_seed(seed)\n",
    "    qucumber.set_random_seed(seed, cpu=True, gpu=False)\n",
    "\n",
    "seed_settings(seed=seed)"
   ]
  },
  {
   "cell_type": "markdown",
   "id": "ca949904-97a9-466f-b781-6db1bdcd8437",
   "metadata": {},
   "source": [
    "## depolarizing error"
   ]
  },
  {
   "cell_type": "code",
   "execution_count": 3,
   "id": "97893cd1-b726-45eb-acf1-ad1af63198c8",
   "metadata": {},
   "outputs": [],
   "source": [
    "nn_state_dep = DensityMatrix.autoload(f\"./{circuit_name}/model/{state_class}/{n_qubit}-qubit/{error_model}/p={100*error_rate}%/each_{each_n_shot}_shot/epoch500_model.pt\", gpu = use_gpu)\n",
    "obs_mat = Pauli([0, 1, 2, 3], [3, 3, 3, 3]).get_matrix()\n",
    "n_copy_list = np.arange(1, 11)\n",
    "ideal_state = target_circuit.GHZ(n_qubit, state_class, \"ideal\", error_rate)\n",
    "n_samples = 100000\n",
    "n_est = 1000\n",
    "pauli_dict = {0:\"Z\", 1:\"Z\", 2:\"Z\", 3:\"Z\"}\n",
    "rmse_dep_list = []"
   ]
  },
  {
   "cell_type": "code",
   "execution_count": 4,
   "id": "748d8209-a8e8-4875-9aa5-870c66c6be0b",
   "metadata": {},
   "outputs": [
    {
     "data": {
      "application/vnd.jupyter.widget-view+json": {
       "model_id": "5a28b92289b146269efde27613039f0f",
       "version_major": 2,
       "version_minor": 0
      },
      "text/plain": [
       "  0%|          | 0/10 [00:00<?, ?it/s]"
      ]
     },
     "metadata": {},
     "output_type": "display_data"
    },
    {
     "ename": "KeyboardInterrupt",
     "evalue": "",
     "output_type": "error",
     "traceback": [
      "\u001b[0;31m---------------------------------------------------------------------------\u001b[0m",
      "\u001b[0;31mKeyboardInterrupt\u001b[0m                         Traceback (most recent call last)",
      "Input \u001b[0;32mIn [4]\u001b[0m, in \u001b[0;36m<cell line: 1>\u001b[0;34m()\u001b[0m\n\u001b[1;32m      1\u001b[0m \u001b[38;5;28;01mfor\u001b[39;00m n_copy \u001b[38;5;129;01min\u001b[39;00m tqdm(n_copy_list):\n\u001b[0;32m----> 2\u001b[0m     rmse_dep \u001b[38;5;241m=\u001b[39m \u001b[43mstatistics\u001b[49m\u001b[38;5;241;43m.\u001b[39;49m\u001b[43mrmse\u001b[49m\u001b[43m(\u001b[49m\u001b[43mnn_state_dep\u001b[49m\u001b[43m,\u001b[49m\u001b[43m \u001b[49m\u001b[43mideal_state\u001b[49m\u001b[43m,\u001b[49m\u001b[43m \u001b[49m\u001b[43mpauli_dict\u001b[49m\u001b[43m,\u001b[49m\u001b[43m \u001b[49m\u001b[43mn_copy\u001b[49m\u001b[43m,\u001b[49m\u001b[43m \u001b[49m\u001b[43mn_samples\u001b[49m\u001b[43m,\u001b[49m\u001b[43m \u001b[49m\u001b[43mn_est\u001b[49m\u001b[43m,\u001b[49m\u001b[43m \u001b[49m\u001b[43mobs_mat\u001b[49m\u001b[43m)\u001b[49m\n\u001b[1;32m      3\u001b[0m     rmse_dep_list\u001b[38;5;241m.\u001b[39mappend(rmse_dep)\n",
      "File \u001b[0;32m/content/GitHub/NQS4QEM/statistics.py:22\u001b[0m, in \u001b[0;36mrmse\u001b[0;34m(nn_state, ideal_state, pauli_dict, n_copies, n_samples, n_est, obs_mat)\u001b[0m\n\u001b[1;32m     20\u001b[0m rmse_list \u001b[38;5;241m=\u001b[39m []\n\u001b[1;32m     21\u001b[0m \u001b[38;5;28;01mfor\u001b[39;00m _ \u001b[38;5;129;01min\u001b[39;00m \u001b[38;5;28mrange\u001b[39m(n_est):\n\u001b[0;32m---> 22\u001b[0m     sampling_vd_ev \u001b[38;5;241m=\u001b[39m \u001b[43msampling_VD\u001b[49m\u001b[38;5;241;43m.\u001b[39;49m\u001b[43mobs_estimater\u001b[49m\u001b[43m(\u001b[49m\u001b[43mnn_state\u001b[49m\u001b[43m,\u001b[49m\u001b[43m \u001b[49m\u001b[43mpauli_dict\u001b[49m\u001b[43m,\u001b[49m\u001b[43m \u001b[49m\u001b[43mn_samples\u001b[49m\u001b[43m,\u001b[49m\u001b[43m \u001b[49m\u001b[43mn_copies\u001b[49m\u001b[43m)\u001b[49m[\u001b[38;5;124m\"\u001b[39m\u001b[38;5;124mmean\u001b[39m\u001b[38;5;124m\"\u001b[39m]\n\u001b[1;32m     23\u001b[0m     true_ev \u001b[38;5;241m=\u001b[39m np\u001b[38;5;241m.\u001b[39mtrace(obs_mat \u001b[38;5;241m@\u001b[39m ideal_state)\n\u001b[1;32m     24\u001b[0m     rmse_list\u001b[38;5;241m.\u001b[39mappend((true_ev \u001b[38;5;241m-\u001b[39m sampling_vd_ev)\u001b[38;5;241m*\u001b[39m\u001b[38;5;241m*\u001b[39m\u001b[38;5;241m2\u001b[39m)\n",
      "File \u001b[0;32m/content/GitHub/NQS4QEM/sampling_VD.py:106\u001b[0m, in \u001b[0;36mobs_estimater\u001b[0;34m(nn_state, pauli_dict, num_samples, num_copies)\u001b[0m\n\u001b[1;32m    104\u001b[0m obs_num \u001b[38;5;241m=\u001b[39m GeneralPauliDistill(pauli_dict, num_copies)\n\u001b[1;32m    105\u001b[0m obs_div \u001b[38;5;241m=\u001b[39m GeneralPauliDistill({}, num_copies)\n\u001b[0;32m--> 106\u001b[0m num_stat \u001b[38;5;241m=\u001b[39m \u001b[43mobs_num\u001b[49m\u001b[38;5;241;43m.\u001b[39;49m\u001b[43mstatistics\u001b[49m\u001b[43m(\u001b[49m\u001b[43mnn_state\u001b[49m\u001b[43m,\u001b[49m\u001b[43m \u001b[49m\u001b[43mnum_samples\u001b[49m\u001b[38;5;241;43m=\u001b[39;49m\u001b[43mnum_samples\u001b[49m\u001b[43m)\u001b[49m\n\u001b[1;32m    107\u001b[0m div_stat \u001b[38;5;241m=\u001b[39m obs_div\u001b[38;5;241m.\u001b[39mstatistics(nn_state, num_samples\u001b[38;5;241m=\u001b[39mnum_samples)\n\u001b[1;32m    109\u001b[0m num \u001b[38;5;241m=\u001b[39m ufloat(num_stat[\u001b[38;5;124m\"\u001b[39m\u001b[38;5;124mmean\u001b[39m\u001b[38;5;124m\"\u001b[39m], num_stat[\u001b[38;5;124m\"\u001b[39m\u001b[38;5;124mstd_error\u001b[39m\u001b[38;5;124m\"\u001b[39m])\n",
      "File \u001b[0;32m/opt/conda/lib/python3.9/site-packages/qucumber/observables/observable.py:196\u001b[0m, in \u001b[0;36mObservableBase.statistics\u001b[0;34m(self, nn_state, num_samples, num_chains, burn_in, steps, initial_state, overwrite)\u001b[0m\n\u001b[1;32m    193\u001b[0m \u001b[38;5;28;01mfor\u001b[39;00m i \u001b[38;5;129;01min\u001b[39;00m \u001b[38;5;28mrange\u001b[39m(num_time_steps):\n\u001b[1;32m    194\u001b[0m     num_gibbs_steps \u001b[38;5;241m=\u001b[39m burn_in \u001b[38;5;28;01mif\u001b[39;00m i \u001b[38;5;241m==\u001b[39m \u001b[38;5;241m0\u001b[39m \u001b[38;5;28;01melse\u001b[39;00m steps\n\u001b[0;32m--> 196\u001b[0m     chains \u001b[38;5;241m=\u001b[39m \u001b[43mnn_state\u001b[49m\u001b[38;5;241;43m.\u001b[39;49m\u001b[43msample\u001b[49m\u001b[43m(\u001b[49m\n\u001b[1;32m    197\u001b[0m \u001b[43m        \u001b[49m\u001b[43mnum_samples\u001b[49m\u001b[38;5;241;43m=\u001b[39;49m\u001b[43mnum_chains\u001b[49m\u001b[43m,\u001b[49m\n\u001b[1;32m    198\u001b[0m \u001b[43m        \u001b[49m\u001b[43mk\u001b[49m\u001b[38;5;241;43m=\u001b[39;49m\u001b[43mnum_gibbs_steps\u001b[49m\u001b[43m,\u001b[49m\n\u001b[1;32m    199\u001b[0m \u001b[43m        \u001b[49m\u001b[43minitial_state\u001b[49m\u001b[38;5;241;43m=\u001b[39;49m\u001b[43mchains\u001b[49m\u001b[43m,\u001b[49m\n\u001b[1;32m    200\u001b[0m \u001b[43m        \u001b[49m\u001b[43moverwrite\u001b[49m\u001b[38;5;241;43m=\u001b[39;49m\u001b[38;5;28;43;01mTrue\u001b[39;49;00m\u001b[43m,\u001b[49m\n\u001b[1;32m    201\u001b[0m \u001b[43m    \u001b[49m\u001b[43m)\u001b[49m\n\u001b[1;32m    203\u001b[0m     sample_stats \u001b[38;5;241m=\u001b[39m \u001b[38;5;28mself\u001b[39m\u001b[38;5;241m.\u001b[39mstatistics_from_samples(nn_state, chains)\n\u001b[1;32m    205\u001b[0m     running_mean, running_variance, running_length \u001b[38;5;241m=\u001b[39m _update_statistics(\n\u001b[1;32m    206\u001b[0m         running_mean,\n\u001b[1;32m    207\u001b[0m         running_variance,\n\u001b[0;32m   (...)\u001b[0m\n\u001b[1;32m    211\u001b[0m         num_chains,\n\u001b[1;32m    212\u001b[0m     )\n",
      "File \u001b[0;32m/opt/conda/lib/python3.9/site-packages/qucumber/nn_states/neural_state.py:131\u001b[0m, in \u001b[0;36mNeuralStateBase.sample\u001b[0;34m(self, k, num_samples, initial_state, overwrite)\u001b[0m\n\u001b[1;32m    126\u001b[0m     sample_size \u001b[38;5;241m=\u001b[39m torch\u001b[38;5;241m.\u001b[39mSize((num_samples, \u001b[38;5;28mself\u001b[39m\u001b[38;5;241m.\u001b[39mnum_visible))\n\u001b[1;32m    127\u001b[0m     initial_state \u001b[38;5;241m=\u001b[39m dist\u001b[38;5;241m.\u001b[39msample(sample_size)\u001b[38;5;241m.\u001b[39mto(\n\u001b[1;32m    128\u001b[0m         device\u001b[38;5;241m=\u001b[39m\u001b[38;5;28mself\u001b[39m\u001b[38;5;241m.\u001b[39mdevice, dtype\u001b[38;5;241m=\u001b[39mtorch\u001b[38;5;241m.\u001b[39mdouble\n\u001b[1;32m    129\u001b[0m     )\n\u001b[0;32m--> 131\u001b[0m \u001b[38;5;28;01mreturn\u001b[39;00m \u001b[38;5;28;43mself\u001b[39;49m\u001b[38;5;241;43m.\u001b[39;49m\u001b[43mrbm_am\u001b[49m\u001b[38;5;241;43m.\u001b[39;49m\u001b[43mgibbs_steps\u001b[49m\u001b[43m(\u001b[49m\u001b[43mk\u001b[49m\u001b[43m,\u001b[49m\u001b[43m \u001b[49m\u001b[43minitial_state\u001b[49m\u001b[43m,\u001b[49m\u001b[43m \u001b[49m\u001b[43moverwrite\u001b[49m\u001b[38;5;241;43m=\u001b[39;49m\u001b[43moverwrite\u001b[49m\u001b[43m)\u001b[49m\n",
      "File \u001b[0;32m/opt/conda/lib/python3.9/site-packages/qucumber/rbm/purification_rbm.py:334\u001b[0m, in \u001b[0;36mPurificationRBM.gibbs_steps\u001b[0;34m(self, k, initial_state, overwrite)\u001b[0m\n\u001b[1;32m    332\u001b[0m \u001b[38;5;28;01mfor\u001b[39;00m _ \u001b[38;5;129;01min\u001b[39;00m \u001b[38;5;28mrange\u001b[39m(k):\n\u001b[1;32m    333\u001b[0m     \u001b[38;5;28mself\u001b[39m\u001b[38;5;241m.\u001b[39msample_h_given_v(v, out\u001b[38;5;241m=\u001b[39mh)\n\u001b[0;32m--> 334\u001b[0m     \u001b[38;5;28;43mself\u001b[39;49m\u001b[38;5;241;43m.\u001b[39;49m\u001b[43msample_a_given_v\u001b[49m\u001b[43m(\u001b[49m\u001b[43mv\u001b[49m\u001b[43m,\u001b[49m\u001b[43m \u001b[49m\u001b[43mout\u001b[49m\u001b[38;5;241;43m=\u001b[39;49m\u001b[43ma\u001b[49m\u001b[43m)\u001b[49m\n\u001b[1;32m    335\u001b[0m     \u001b[38;5;28mself\u001b[39m\u001b[38;5;241m.\u001b[39msample_v_given_ha(h, a, out\u001b[38;5;241m=\u001b[39mv)\n\u001b[1;32m    337\u001b[0m \u001b[38;5;28;01mreturn\u001b[39;00m v\n",
      "File \u001b[0;32m/opt/conda/lib/python3.9/site-packages/qucumber/rbm/purification_rbm.py:272\u001b[0m, in \u001b[0;36mPurificationRBM.sample_a_given_v\u001b[0;34m(self, v, out)\u001b[0m\n\u001b[1;32m    261\u001b[0m \u001b[38;5;28;01mdef\u001b[39;00m \u001b[38;5;21msample_a_given_v\u001b[39m(\u001b[38;5;28mself\u001b[39m, v, out\u001b[38;5;241m=\u001b[39m\u001b[38;5;28;01mNone\u001b[39;00m):\n\u001b[1;32m    262\u001b[0m     \u001b[38;5;124mr\u001b[39m\u001b[38;5;124;03m\"\"\"Sample/generate an auxiliary state given a visible state\u001b[39;00m\n\u001b[1;32m    263\u001b[0m \n\u001b[1;32m    264\u001b[0m \u001b[38;5;124;03m    :param v: The visible state\u001b[39;00m\n\u001b[0;32m   (...)\u001b[0m\n\u001b[1;32m    270\u001b[0m \u001b[38;5;124;03m    :rtype: torch.Tensor\u001b[39;00m\n\u001b[1;32m    271\u001b[0m \u001b[38;5;124;03m    \"\"\"\u001b[39;00m\n\u001b[0;32m--> 272\u001b[0m     a \u001b[38;5;241m=\u001b[39m \u001b[38;5;28;43mself\u001b[39;49m\u001b[38;5;241;43m.\u001b[39;49m\u001b[43mprob_a_given_v\u001b[49m\u001b[43m(\u001b[49m\u001b[43mv\u001b[49m\u001b[43m,\u001b[49m\u001b[43m \u001b[49m\u001b[43mout\u001b[49m\u001b[38;5;241;43m=\u001b[39;49m\u001b[43mout\u001b[49m\u001b[43m)\u001b[49m\n\u001b[1;32m    273\u001b[0m     a \u001b[38;5;241m=\u001b[39m torch\u001b[38;5;241m.\u001b[39mbernoulli(a, out\u001b[38;5;241m=\u001b[39mout)\n\u001b[1;32m    274\u001b[0m     \u001b[38;5;28;01mreturn\u001b[39;00m a\n",
      "File \u001b[0;32m/opt/conda/lib/python3.9/site-packages/qucumber/utils/__init__.py:41\u001b[0m, in \u001b[0;36mauto_unsqueeze_args.__call__.<locals>.wrapped_f\u001b[0;34m(*args, **kwargs)\u001b[0m\n\u001b[1;32m     39\u001b[0m     \u001b[38;5;28;01mreturn\u001b[39;00m f(\u001b[38;5;241m*\u001b[39margs, \u001b[38;5;241m*\u001b[39m\u001b[38;5;241m*\u001b[39mkwargs)\u001b[38;5;241m.\u001b[39msqueeze_(\u001b[38;5;241m0\u001b[39m)\n\u001b[1;32m     40\u001b[0m \u001b[38;5;28;01melse\u001b[39;00m:\n\u001b[0;32m---> 41\u001b[0m     \u001b[38;5;28;01mreturn\u001b[39;00m \u001b[43mf\u001b[49m\u001b[43m(\u001b[49m\u001b[38;5;241;43m*\u001b[39;49m\u001b[43margs\u001b[49m\u001b[43m,\u001b[49m\u001b[43m \u001b[49m\u001b[38;5;241;43m*\u001b[39;49m\u001b[38;5;241;43m*\u001b[39;49m\u001b[43mkwargs\u001b[49m\u001b[43m)\u001b[49m\n",
      "File \u001b[0;32m/opt/conda/lib/python3.9/site-packages/qucumber/rbm/purification_rbm.py:231\u001b[0m, in \u001b[0;36mPurificationRBM.prob_a_given_v\u001b[0;34m(self, v, out)\u001b[0m\n\u001b[1;32m    216\u001b[0m \u001b[38;5;129m@auto_unsqueeze_args\u001b[39m()\n\u001b[1;32m    217\u001b[0m \u001b[38;5;28;01mdef\u001b[39;00m \u001b[38;5;21mprob_a_given_v\u001b[39m(\u001b[38;5;28mself\u001b[39m, v, out\u001b[38;5;241m=\u001b[39m\u001b[38;5;28;01mNone\u001b[39;00m):\n\u001b[1;32m    218\u001b[0m     \u001b[38;5;124mr\u001b[39m\u001b[38;5;124;03m\"\"\"Given a visible unit configuration, compute the probability\u001b[39;00m\n\u001b[1;32m    219\u001b[0m \u001b[38;5;124;03m    vector of the auxiliary units being on\u001b[39;00m\n\u001b[1;32m    220\u001b[0m \n\u001b[0;32m   (...)\u001b[0m\n\u001b[1;32m    228\u001b[0m \u001b[38;5;124;03m    :rtype torch.Tensor:\u001b[39;00m\n\u001b[1;32m    229\u001b[0m \u001b[38;5;124;03m    \"\"\"\u001b[39;00m\n\u001b[1;32m    230\u001b[0m     \u001b[38;5;28;01mreturn\u001b[39;00m (\n\u001b[0;32m--> 231\u001b[0m         \u001b[43mtorch\u001b[49m\u001b[38;5;241;43m.\u001b[39;49m\u001b[43mmatmul\u001b[49m\u001b[43m(\u001b[49m\u001b[43mv\u001b[49m\u001b[43m,\u001b[49m\u001b[43m \u001b[49m\u001b[38;5;28;43mself\u001b[39;49m\u001b[38;5;241;43m.\u001b[39;49m\u001b[43mweights_U\u001b[49m\u001b[38;5;241;43m.\u001b[39;49m\u001b[43mdata\u001b[49m\u001b[38;5;241;43m.\u001b[39;49m\u001b[43mt\u001b[49m\u001b[43m(\u001b[49m\u001b[43m)\u001b[49m\u001b[43m,\u001b[49m\u001b[43m \u001b[49m\u001b[43mout\u001b[49m\u001b[38;5;241;43m=\u001b[39;49m\u001b[43mout\u001b[49m\u001b[43m)\u001b[49m\n\u001b[1;32m    232\u001b[0m \u001b[43m        \u001b[49m\u001b[38;5;241;43m.\u001b[39;49m\u001b[43madd_\u001b[49m\u001b[43m(\u001b[49m\u001b[38;5;28;43mself\u001b[39;49m\u001b[38;5;241;43m.\u001b[39;49m\u001b[43maux_bias\u001b[49m\u001b[38;5;241;43m.\u001b[39;49m\u001b[43mdata\u001b[49m\u001b[43m)\u001b[49m\n\u001b[1;32m    233\u001b[0m \u001b[43m        \u001b[49m\u001b[38;5;241;43m.\u001b[39;49m\u001b[43msigmoid_\u001b[49m\u001b[43m(\u001b[49m\u001b[43m)\u001b[49m\n\u001b[1;32m    234\u001b[0m \u001b[43m        \u001b[49m\u001b[38;5;241;43m.\u001b[39;49m\u001b[43mclamp_\u001b[49m\u001b[43m(\u001b[49m\u001b[38;5;28;43mmin\u001b[39;49m\u001b[38;5;241;43m=\u001b[39;49m\u001b[38;5;241;43m0\u001b[39;49m\u001b[43m,\u001b[49m\u001b[43m \u001b[49m\u001b[38;5;28;43mmax\u001b[39;49m\u001b[38;5;241;43m=\u001b[39;49m\u001b[38;5;241;43m1\u001b[39;49m\u001b[43m)\u001b[49m\n\u001b[1;32m    235\u001b[0m     )\n",
      "\u001b[0;31mKeyboardInterrupt\u001b[0m: "
     ]
    }
   ],
   "source": [
    "for n_copy in tqdm(n_copy_list):\n",
    "    rmse_dep = statistics.rmse(nn_state_dep, ideal_state, pauli_dict, n_copy, n_samples, n_est, obs_mat)\n",
    "    rmse_dep_list.append(rmse_dep)"
   ]
  },
  {
   "cell_type": "code",
   "execution_count": null,
   "id": "a8e98abf-5887-4e36-9da7-6a6edf167e9a",
   "metadata": {},
   "outputs": [],
   "source": [
    "noisy_state = target_circuit.GHZ(n_qubit, state_class, \"depolarizing\", error_rate)\n",
    "\n",
    "plt.figure(figsize=(10, 7))\n",
    "plt.plot(n_copy_list, rmse_dep_list, marker=\"o\", linewidth=3)\n",
    "#plt.hlines(np.trace(obs_mat@noisy_state).real, \"red\", linestyles='dashed') \n",
    "plt.title(f'varying number of quantum state copies (error rate:{error_rate*100}%)', fontsize=18)\n",
    "plt.xlabel('number of quantum state copies', fontsize=18)\n",
    "plt.ylabel('RMSE of expectation value $<O>$', fontsize=18)\n",
    "plt.yscale('log')\n",
    "plt.tick_params(labelsize=15)\n",
    "plt.grid(linestyle='dotted', linewidth=2)"
   ]
  },
  {
   "cell_type": "code",
   "execution_count": null,
   "id": "ba58a366-fcf7-4e7c-aa22-360668379a3a",
   "metadata": {},
   "outputs": [],
   "source": []
  }
 ],
 "metadata": {
  "kernelspec": {
   "display_name": "Python 3 (ipykernel)",
   "language": "python",
   "name": "python3"
  },
  "language_info": {
   "codemirror_mode": {
    "name": "ipython",
    "version": 3
   },
   "file_extension": ".py",
   "mimetype": "text/x-python",
   "name": "python",
   "nbconvert_exporter": "python",
   "pygments_lexer": "ipython3",
   "version": "3.9.10"
  }
 },
 "nbformat": 4,
 "nbformat_minor": 5
}

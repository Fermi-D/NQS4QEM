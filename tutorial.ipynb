{
 "cells": [
  {
   "cell_type": "markdown",
   "id": "6893744e-c8ee-4068-bb71-2e93cfbd1d6d",
   "metadata": {},
   "source": [
    "## import library"
   ]
  },
  {
   "cell_type": "code",
   "execution_count": null,
   "id": "cd0bd3c1-df61-479d-9e35-12944c454945",
   "metadata": {},
   "outputs": [],
   "source": [
    "import numpy as np\n",
    "import pandas as pd\n",
    "import yaml\n",
    "\n",
    "from PyQNE import target_circuit"
   ]
  },
  {
   "cell_type": "markdown",
   "id": "98e50650-06b6-4b14-bfdc-5c54aa865ebc",
   "metadata": {},
   "source": [
    "## パラメータファイル(yaml)読み込み"
   ]
  },
  {
   "cell_type": "code",
   "execution_count": null,
   "id": "b3853317-3685-443a-ad48-0b5cca2351e9",
   "metadata": {},
   "outputs": [],
   "source": [
    "with open('./config.yml', 'r') as yml:\n",
    "    config = yaml.safe_load(yml)"
   ]
  }
 ],
 "metadata": {
  "kernelspec": {
   "display_name": "Python 3 (ipykernel)",
   "language": "python",
   "name": "python3"
  },
  "language_info": {
   "codemirror_mode": {
    "name": "ipython",
    "version": 3
   },
   "file_extension": ".py",
   "mimetype": "text/x-python",
   "name": "python",
   "nbconvert_exporter": "python",
   "pygments_lexer": "ipython3",
   "version": "3.9.10"
  }
 },
 "nbformat": 4,
 "nbformat_minor": 5
}

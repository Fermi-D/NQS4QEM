{
 "cells": [
  {
   "cell_type": "code",
   "execution_count": 17,
   "id": "cfd6da35-81e5-44b3-95c1-d30d0fc177c9",
   "metadata": {},
   "outputs": [],
   "source": [
    "import os\n",
    "import sys\n",
    "import subprocess\n",
    "import random\n",
    "import warnings\n",
    "import logging\n",
    "import numpy as np\n",
    "import pandas as pd\n",
    "import matplotlib.pyplot as plt\n",
    "import seaborn as sns\n",
    "import yaml\n",
    "from tqdm.notebook import tqdm\n",
    "import itertools\n",
    "\n",
    "import torch\n",
    "from qucumber.nn_states import DensityMatrix\n",
    "from qucumber.nn_states import ComplexWaveFunction\n",
    "from qucumber.callbacks import MetricEvaluator\n",
    "import qucumber.utils.unitaries as unitaries\n",
    "import qucumber.utils.training_statistics as ts\n",
    "import qucumber.utils.cplx as cplx\n",
    "import qucumber.utils.data as data\n",
    "from qucumber.observables import ObservableBase, to_pm1\n",
    "from qucumber.observables.pauli import flip_spin\n",
    "import qucumber\n",
    "\n",
    "from qulacs.gate import Pauli\n",
    "\n",
    "import optuna\n",
    "\n",
    "with open('./params_setting.yaml', 'r') as yml:\n",
    "    params = yaml.safe_load(yml)\n",
    "    \n",
    "# quantum circuit parameter\n",
    "n_qubit = params[\"circuit_info\"][\"n_qubit\"]\n",
    "each_n_shot = params[\"circuit_info\"][\"each_n_shot\"]\n",
    "state_name = params[\"circuit_info\"][\"state_name\"]\n",
    "error_model = params[\"circuit_info\"][\"error_model\"]\n",
    "error_rate = params[\"circuit_info\"][\"error_rate\"]\n",
    "# RBM architecture parameter\n",
    "n_visible_unit = params[\"architecture_info\"][\"n_visible_unit\"]\n",
    "n_hidden_unit = params[\"architecture_info\"][\"n_hidden_unit\"] \n",
    "n_aux_unit = params[\"architecture_info\"][\"n_aux_unit\"]\n",
    "# train parameter\n",
    "lr = params[\"train_info\"][\"lr\"]\n",
    "pbs = params[\"train_info\"][\"positive_batch_size\"]\n",
    "nbs = params[\"train_info\"][\"negative_batch_size\"]\n",
    "n_gibbs_step = params[\"train_info\"][\"n_gibbs_step\"]\n",
    "period = 1\n",
    "epoch = params[\"train_info\"][\"n_epoch\"]\n",
    "lr_drop_epoch = params[\"train_info\"][\"lr_drop_epoch\"]\n",
    "lr_drop_factor = params[\"train_info\"][\"lr_drop_factor\"]\n",
    "seed = params[\"train_info\"][\"seed\"]\n",
    "# sampling parameter\n",
    "n_sampling = params[\"sampling_info\"][\"n_sample\"]\n",
    "n_copy = params[\"sampling_info\"][\"n_copy\"]\n",
    "# data path info\n",
    "train_data_path = f\"./data/{error_model}/error_prob_{100*error_rate}%/num_of_data_{each_n_shot}/\"\n",
    "ideal_state_path = f\"./target_state/\"\n",
    "\n",
    "# settings\n",
    "## warnings\n",
    "warnings.simplefilter('ignore')\n",
    "\n",
    "## seaborn layout\n",
    "sns.set()\n",
    "sns.set_style(\"white\")\n",
    "\n",
    "## seed\n",
    "def seed_settings(seed=42):\n",
    "    random.seed(seed)\n",
    "    os.environ['PYTHONHASHSEED'] = str(seed)\n",
    "    np.random.seed(seed)\n",
    "    torch.manual_seed(seed)\n",
    "    qucumber.set_random_seed(seed, cpu=True, gpu=False)\n",
    "\n",
    "seed_settings(seed=seed)"
   ]
  },
  {
   "cell_type": "code",
   "execution_count": 18,
   "id": "da0f212c-ba12-4c7c-ae2e-4795a0e50148",
   "metadata": {},
   "outputs": [],
   "source": [
    "meas_pattern_path = train_data_path + \"/measurement_pattern.txt\"\n",
    "meas_label_path = train_data_path + \"/measurement_label.txt\"\n",
    "meas_result_path = train_data_path + \"/measurement_result.txt\"\n",
    "ideal_rho_re_path = ideal_state_path + \"/rho_real.txt\"\n",
    "ideal_rho_im_path = ideal_state_path + \"/rho_imag.txt\"\n",
    "meas_result, ideal_rho, meas_label, meas_pattern = data.load_data_DM(meas_result_path,\n",
    "                                                                     ideal_rho_re_path,\n",
    "                                                                     ideal_rho_im_path,\n",
    "                                                                     meas_label_path,\n",
    "                                                                     meas_pattern_path)"
   ]
  },
  {
   "cell_type": "code",
   "execution_count": 19,
   "id": "b43214ba-75bd-4c68-84da-d896eb0d0868",
   "metadata": {},
   "outputs": [],
   "source": [
    "nn_state_dm = DensityMatrix(\n",
    "    num_visible = n_visible_unit, \n",
    "    num_hidden = n_hidden_unit, \n",
    "    num_aux = n_aux_unit, \n",
    "    unitary_dict = unitaries.create_dict(),\n",
    "    gpu = True\n",
    ")"
   ]
  },
  {
   "cell_type": "code",
   "execution_count": 20,
   "id": "a8d8b377-3aa4-4227-9ca9-dfa48bcd98b1",
   "metadata": {},
   "outputs": [],
   "source": [
    "def create_callback_dm(nn_state):\n",
    "    metric_dict = {\n",
    "        \"Fidelity\": ts.fidelity,\n",
    "        \"KL_Divergence\": ts.KL,\n",
    "        #\"Observable_XXX_ev\": observable_XXX_ev,\n",
    "        #\"Observable_XZZ_ev\": observable_XZZ_ev,\n",
    "    }\n",
    "\n",
    "    space = nn_state.generate_hilbert_space()\n",
    "    callbacks = [\n",
    "        MetricEvaluator(\n",
    "            period,\n",
    "            metric_dict,\n",
    "            target = ideal_rho,\n",
    "            bases = meas_pattern,\n",
    "            verbose = True,\n",
    "            space = space,\n",
    "        )\n",
    "    ]\n",
    "    return callbacks\n",
    "\n",
    "callbacks = create_callback_dm(nn_state_dm)"
   ]
  },
  {
   "cell_type": "code",
   "execution_count": 21,
   "id": "26954cf1-d071-468c-b0d3-987a32e314c1",
   "metadata": {},
   "outputs": [],
   "source": [
    "def objective(trial):\n",
    "    # load dataset\n",
    "    meas_pattern_path = train_data_path + \"/measurement_pattern.txt\"\n",
    "    meas_label_path = train_data_path + \"/measurement_label.txt\"\n",
    "    meas_result_path = train_data_path + \"/measurement_result.txt\"\n",
    "    ideal_rho_re_path = ideal_state_path + \"/rho_real.txt\"\n",
    "    ideal_rho_im_path = ideal_state_path + \"/rho_imag.txt\"\n",
    "    meas_result, ideal_rho, meas_label, meas_pattern = data.load_data_DM(meas_result_path, ideal_rho_re_path, ideal_rho_im_path, meas_label_path, meas_pattern_path)\n",
    "    # search params\n",
    "    lr = trial.suggest_float(\"lr\", 5, 20, log=True)\n",
    "    #n_gibbs_step = trial.suggest_int(\"k\", 10, 5000, log=True)\n",
    "    pbs = trial.suggest_categorical(\"pbs\", [1000, 2000, 3000, 4000, 5000, 6000, 7000, 8000, 9000, 10000])\n",
    "    nbs = trial.suggest_categorical(\"nbs\", [1000, 2000, 3000, 4000, 5000, 6000, 7000, 8000, 9000, 10000])\n",
    "    \n",
    "    nn_state_dm.fit(data = meas_result,\n",
    "                            input_bases = meas_label,\n",
    "                            epochs = epoch,\n",
    "                            pos_batch_size = pbs,\n",
    "                            neg_batch_size = nbs,\n",
    "                            lr = lr,\n",
    "                            k = n_gibbs_step,\n",
    "                            bases = meas_pattern,\n",
    "                            callbacks = callbacks,\n",
    "                            time = True,\n",
    "                            optimizer = torch.optim.Adadelta,\n",
    "                            schexduler = torch.optim.lr_scheduler.StepLR,\n",
    "                            scheduler_args = {\"step_size\": lr_drop_epoch, \"gamma\": lr_drop_factor},\n",
    "                            )\n",
    "        \n",
    "    loss = callbacks[0][\"KL_Divergence\"][-1]\n",
    "    trial.report(loss, step)\n",
    "    if trial.should_prune():\n",
    "        raise optuna.TrialPruned()\n",
    "        \n",
    "    return callbacks[0][\"KL_Divergence\"][-1]"
   ]
  },
  {
   "cell_type": "code",
   "execution_count": 23,
   "id": "3e40db9a-9fc8-40c3-a12c-4b79c308fd8e",
   "metadata": {},
   "outputs": [],
   "source": [
    "def objective(trial):\n",
    "    # load dataset\n",
    "    meas_pattern_path = train_data_path + \"/measurement_pattern.txt\"\n",
    "    meas_label_path = train_data_path + \"/measurement_label.txt\"\n",
    "    meas_result_path = train_data_path + \"/measurement_result.txt\"\n",
    "    ideal_rho_re_path = ideal_state_path + \"/rho_real.txt\"\n",
    "    ideal_rho_im_path = ideal_state_path + \"/rho_imag.txt\"\n",
    "    meas_result, ideal_rho, meas_label, meas_pattern = data.load_data_DM(meas_result_path,\n",
    "                                                                         ideal_rho_re_path,\n",
    "                                                                         ideal_rho_im_path,\n",
    "                                                                         meas_label_path,\n",
    "                                                                         meas_pattern_path)\n",
    "    # search params\n",
    "    lr = trial.suggest_float(\"lr\", 2, 20, log=True)\n",
    "    #k = trial.suggest_int(\"k\", 10, 5000, log=True)\n",
    "    pbs = trial.suggest_int(\"pbs\", 1024, 5000, log=True)\n",
    "    nbs = trial.suggest_int(\"nbs\", 1024, 5000, log=True)\n",
    "    \n",
    "    for step in range(100):\n",
    "        nn_state_dm.fit(data = meas_result,\n",
    "                        input_bases = meas_label,\n",
    "                        epochs = epoch,\n",
    "                        pos_batch_size = pbs,\n",
    "                        neg_batch_size = nbs,\n",
    "                        lr = lr,\n",
    "                        k = n_gibbs_step,\n",
    "                        bases = meas_pattern,\n",
    "                        callbacks = callbacks,\n",
    "                        time = True,\n",
    "                        optimizer = torch.optim.Adadelta,\n",
    "                        schexduler = torch.optim.lr_scheduler.StepLR,\n",
    "                        scheduler_args = {\"step_size\": lr_drop_epoch, \"gamma\": lr_drop_factor},\n",
    "                       )\n",
    "        \n",
    "        loss = callbacks[0][\"KL_Divergence\"][-1]\n",
    "        trial.report(loss, epoch)\n",
    "        if trial.should_prune():\n",
    "            raise optuna.TrialPruned()\n",
    "        \n",
    "    return callbacks[0][\"KL_Divergence\"][-1]"
   ]
  },
  {
   "cell_type": "code",
   "execution_count": null,
   "id": "7d76d1e0-79f5-4f78-9cda-f24256a1ccce",
   "metadata": {},
   "outputs": [
    {
     "name": "stderr",
     "output_type": "stream",
     "text": [
      "[I 2023-08-25 03:28:48,268] A new study created in memory with name: no-name-d0ced889-3907-4a53-8992-aa3a6328e8fb\n"
     ]
    },
    {
     "name": "stdout",
     "output_type": "stream",
     "text": [
      "A new study created in memory with name: no-name-d0ced889-3907-4a53-8992-aa3a6328e8fb\n",
      "A new study created in memory with name: no-name-d0ced889-3907-4a53-8992-aa3a6328e8fb\n",
      "A new study created in memory with name: no-name-d0ced889-3907-4a53-8992-aa3a6328e8fb\n",
      "A new study created in memory with name: no-name-d0ced889-3907-4a53-8992-aa3a6328e8fb\n",
      "A new study created in memory with name: no-name-d0ced889-3907-4a53-8992-aa3a6328e8fb\n",
      "Epoch: 1\tFidelity = 0.931093\tKL_Divergence = 0.027159\n",
      "Epoch: 2\tFidelity = 0.914480\tKL_Divergence = 0.046515\n",
      "Epoch: 3\tFidelity = 0.916213\tKL_Divergence = 0.030097\n"
     ]
    }
   ],
   "source": [
    "optuna.logging.get_logger(\"optuna\").addHandler(logging.StreamHandler(sys.stdout))\n",
    "study = optuna.create_study(pruner=optuna.pruners.MedianPruner())\n",
    "study.optimize(objective, n_trials=1000)"
   ]
  },
  {
   "cell_type": "code",
   "execution_count": 48,
   "id": "692cbf2f-73bf-4083-a38d-c35e80122b18",
   "metadata": {},
   "outputs": [
    {
     "data": {
      "text/plain": [
       "{'lr': 2.520114405918404, 'k': 16}"
      ]
     },
     "execution_count": 48,
     "metadata": {},
     "output_type": "execute_result"
    }
   ],
   "source": [
    "study.best_params"
   ]
  },
  {
   "cell_type": "code",
   "execution_count": null,
   "id": "9a2f49de-d6fc-4d83-be19-0989fb55df12",
   "metadata": {},
   "outputs": [],
   "source": [
    "# save best params\n",
    "params[\"train_info\"][\"lr\"] = study.best_params[\"lr\"]\n",
    "params[\"train_info\"][\"n_gibbs_step\"] = study.best_params[\"k\"]\n",
    "\n",
    "with open('./best_params_setting.yaml', 'w') as yml:\n",
    "    yaml.dump(params, yml, default_flow_style=False)"
   ]
  },
  {
   "cell_type": "code",
   "execution_count": null,
   "id": "2bf0a60e-bc40-4443-a898-9fd6aa923712",
   "metadata": {},
   "outputs": [],
   "source": []
  }
 ],
 "metadata": {
  "kernelspec": {
   "display_name": "Python 3 (ipykernel)",
   "language": "python",
   "name": "python3"
  },
  "language_info": {
   "codemirror_mode": {
    "name": "ipython",
    "version": 3
   },
   "file_extension": ".py",
   "mimetype": "text/x-python",
   "name": "python",
   "nbconvert_exporter": "python",
   "pygments_lexer": "ipython3",
   "version": "3.9.10"
  }
 },
 "nbformat": 4,
 "nbformat_minor": 5
}

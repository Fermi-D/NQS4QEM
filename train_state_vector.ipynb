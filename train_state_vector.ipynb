{
 "cells": [
  {
   "cell_type": "markdown",
   "id": "220187f1-f67e-4390-9def-91a328c6847b",
   "metadata": {},
   "source": [
    "## import module"
   ]
  },
  {
   "cell_type": "code",
   "execution_count": 1,
   "id": "0b813e39-af7b-4a4f-b811-20a61cab25b8",
   "metadata": {},
   "outputs": [],
   "source": [
    "import os\n",
    "import subprocess\n",
    "import random\n",
    "import warnings\n",
    "import numpy as np\n",
    "from scipy.linalg import sqrtm\n",
    "from scipy.stats import unitary_group\n",
    "import pandas as pd\n",
    "import yaml\n",
    "from tqdm.notebook import tqdm\n",
    "import itertools\n",
    "\n",
    "import torch\n",
    "from qucumber.nn_states import DensityMatrix\n",
    "from qucumber.callbacks import MetricEvaluator\n",
    "import qucumber.utils.unitaries as unitaries\n",
    "import qucumber.utils.training_statistics as ts\n",
    "import qucumber.utils.cplx as cplx\n",
    "import qucumber.utils.data as data\n",
    "from qucumber.observables import ObservableBase, to_pm1\n",
    "from qucumber.observables.pauli import flip_spin\n",
    "import qucumber\n",
    "\n",
    "from qulacs.gate import Pauli\n",
    "\n",
    "%load_ext autoreload\n",
    "%autoreload 2\n",
    "import utils\n",
    "import gate\n",
    "import measurement\n",
    "import target_circuit\n",
    "import dataset"
   ]
  },
  {
   "cell_type": "markdown",
   "id": "7e13042f-d19c-417f-9629-e154331b65da",
   "metadata": {},
   "source": [
    "## setting params"
   ]
  },
  {
   "cell_type": "code",
   "execution_count": 2,
   "id": "367edbdf-1b70-4984-aa85-02ef129ba80f",
   "metadata": {},
   "outputs": [],
   "source": [
    "with open('./params_setting.yaml', 'r') as yml:\n",
    "    params = yaml.safe_load(yml)\n",
    "    \n",
    "# quantum circuit parameter\n",
    "circuit_name = params[\"circuit_info\"][\"circuit_name\"]\n",
    "n_qubit = params[\"circuit_info\"][\"n_qubit\"]\n",
    "state_class = params[\"circuit_info\"][\"state_class\"]\n",
    "error_model = params[\"circuit_info\"][\"error_model\"]\n",
    "error_rate = params[\"circuit_info\"][\"error_rate\"]\n",
    "each_n_shot = params[\"circuit_info\"][\"each_n_shot\"]\n",
    "\n",
    "# RBM architecture parameter\n",
    "num_visible = params[\"architecture_info\"][\"n_visible_unit\"]\n",
    "num_hidden = params[\"architecture_info\"][\"n_hidden_unit\"] \n",
    "num_aux = params[\"architecture_info\"][\"n_aux_unit\"]\n",
    "\n",
    "# train parameter\n",
    "lr = params[\"train_info\"][\"lr\"]\n",
    "pbs = params[\"train_info\"][\"positive_batch_size\"]\n",
    "nbs = params[\"train_info\"][\"negative_batch_size\"]\n",
    "n_gibbs_step = params[\"train_info\"][\"n_gibbs_step\"]\n",
    "period = 1\n",
    "epoch = params[\"train_info\"][\"n_epoch\"]\n",
    "lr_drop_epoch = params[\"train_info\"][\"lr_drop_epoch\"]\n",
    "lr_drop_factor = params[\"train_info\"][\"lr_drop_factor\"]\n",
    "use_gpu = params[\"train_info\"][\"use_gpu\"]\n",
    "seed = params[\"train_info\"][\"seed\"]\n",
    "\n",
    "# sampling parameter\n",
    "n_sampling = params[\"sampling_info\"][\"n_sample\"]\n",
    "n_copy = params[\"sampling_info\"][\"n_copy\"]\n",
    "\n",
    "# data path info\n",
    "environment = \"local\"\n",
    "if environment == \"local\":\n",
    "    train_data_path = f\"./{circuit_name}/data/{n_qubit}-qubit/{error_model}/p={100*error_rate}%/each_{each_n_shot}_shot/\"\n",
    "    target_state_path = f\"./{circuit_name}/target_state/{state_class}/{n_qubit}-qubit/{error_model}/p={100*error_rate}%/\"\n",
    "    model_path = f\"./{circuit_name}/model/{state_class}/{n_qubit}-qubit/{error_model}/p={100*error_rate}%/each_{each_n_shot}_shot/\"\n",
    "    train_log_path = f\"./{circuit_name}/train_log/{n_qubit}-qubit/{error_model}/p={100*error_rate}%/each_{each_n_shot}_shot/\"\n",
    "if environment == \"colab\":\n",
    "    from google.colab import drive\n",
    "    drive.mount(\"/content/drive/\")\n",
    "    drive_path = \"/content/drive/MyDrive/NQS4VD/GHZ\"\n",
    "    train_data_path = drive_path + f\"/{circuit_name}/data/{n_qubit}-qubit/{error_model}/p={100*error_rate}%/each_{each_n_shot}_shot/\"\n",
    "    target_state_path = drive_path + f\"/{circuit_name}/target_state/{state_class}/{n_qubit}-qubit/{error_model}/p={100*error_rate}%/\"\n",
    "    model_path = drive_path + f\"/{circuit_name}/model/{state_class}/{n_qubit}-qubit/{error_model}/p={100*error_rate}%/each_{each_n_shot}_shot/\"\n",
    "    train_log_path = drive_path + f\"/{circuit_name}/train_log/{n_qubit}-qubit/{error_model}/p={100*error_rate}%/each_{each_n_shot}_shot/\"\n",
    "\n",
    "\n",
    "def seed_settings(seed=42):\n",
    "    random.seed(seed)\n",
    "    os.environ['PYTHONHASHSEED'] = str(seed)\n",
    "    np.random.seed(seed)\n",
    "    torch.manual_seed(seed)\n",
    "    qucumber.set_random_seed(seed, cpu=True, gpu=False)\n",
    "\n",
    "seed_settings(seed=seed)"
   ]
  },
  {
   "cell_type": "markdown",
   "id": "f74264d6-bf22-4ece-834d-8e9d530781d3",
   "metadata": {},
   "source": [
    "## generate dataset"
   ]
  },
  {
   "cell_type": "code",
   "execution_count": 3,
   "id": "8c4f1e5c-e0a1-4657-96ac-e9fe2d733de4",
   "metadata": {
    "scrolled": true,
    "tags": []
   },
   "outputs": [
    {
     "name": "stderr",
     "output_type": "stream",
     "text": [
      "0it [00:00, ?it/s]"
     ]
    },
    {
     "name": "stdout",
     "output_type": "stream",
     "text": [
      "measurement pattern 1/27 : ('X', 'X', 'X')\n"
     ]
    },
    {
     "name": "stderr",
     "output_type": "stream",
     "text": [
      "\n",
      "  0%|                                                                               | 0/1000 [00:00<?, ?it/s]\u001b[A\n",
      " 31%|████████████████████▊                                              | 310/1000 [00:00<00:00, 3097.26it/s]\u001b[A\n",
      " 62%|█████████████████████████████████████████▌                         | 620/1000 [00:00<00:00, 3045.10it/s]\u001b[A\n",
      "100%|██████████████████████████████████████████████████████████████████| 1000/1000 [00:00<00:00, 3001.34it/s]\u001b[A\n",
      "1it [00:00,  2.97it/s]"
     ]
    },
    {
     "name": "stdout",
     "output_type": "stream",
     "text": [
      "measurement pattern 2/27 : ('X', 'X', 'Y')\n"
     ]
    },
    {
     "name": "stderr",
     "output_type": "stream",
     "text": [
      "\n",
      "  0%|                                                                               | 0/1000 [00:00<?, ?it/s]\u001b[A\n",
      " 30%|████████████████████                                               | 300/1000 [00:00<00:00, 2992.41it/s]\u001b[A\n",
      " 60%|████████████████████████████████████████▏                          | 600/1000 [00:00<00:00, 2938.96it/s]\u001b[A\n",
      "100%|██████████████████████████████████████████████████████████████████| 1000/1000 [00:00<00:00, 2913.13it/s]\u001b[A\n",
      "2it [00:00,  2.92it/s]"
     ]
    },
    {
     "name": "stdout",
     "output_type": "stream",
     "text": [
      "measurement pattern 3/27 : ('X', 'X', 'Z')\n"
     ]
    },
    {
     "name": "stderr",
     "output_type": "stream",
     "text": [
      "\n",
      "  0%|                                                                               | 0/1000 [00:00<?, ?it/s]\u001b[A\n",
      " 30%|███████████████████▊                                               | 296/1000 [00:00<00:00, 2948.23it/s]\u001b[A\n",
      " 60%|███████████████████████████████████████▉                           | 597/1000 [00:00<00:00, 2972.44it/s]\u001b[A\n",
      "100%|██████████████████████████████████████████████████████████████████| 1000/1000 [00:00<00:00, 3031.98it/s]\u001b[A\n",
      "3it [00:01,  2.95it/s]"
     ]
    },
    {
     "name": "stdout",
     "output_type": "stream",
     "text": [
      "measurement pattern 4/27 : ('X', 'Y', 'X')\n"
     ]
    },
    {
     "name": "stderr",
     "output_type": "stream",
     "text": [
      "\n",
      "  0%|                                                                               | 0/1000 [00:00<?, ?it/s]\u001b[A\n",
      " 30%|████████████████████▍                                              | 305/1000 [00:00<00:00, 3048.25it/s]\u001b[A\n",
      " 61%|████████████████████████████████████████▊                          | 610/1000 [00:00<00:00, 2865.23it/s]\u001b[A\n",
      "100%|██████████████████████████████████████████████████████████████████| 1000/1000 [00:00<00:00, 2896.80it/s]\u001b[A\n",
      "4it [00:01,  2.92it/s]"
     ]
    },
    {
     "name": "stdout",
     "output_type": "stream",
     "text": [
      "measurement pattern 5/27 : ('X', 'Y', 'Y')\n"
     ]
    },
    {
     "name": "stderr",
     "output_type": "stream",
     "text": [
      "\n",
      "  0%|                                                                               | 0/1000 [00:00<?, ?it/s]\u001b[A\n",
      " 30%|████████████████████▏                                              | 301/1000 [00:00<00:00, 3006.48it/s]\u001b[A\n",
      " 60%|████████████████████████████████████████▎                          | 602/1000 [00:00<00:00, 2789.82it/s]\u001b[A\n",
      "100%|██████████████████████████████████████████████████████████████████| 1000/1000 [00:00<00:00, 2848.80it/s]\u001b[A\n",
      "5it [00:01,  2.88it/s]"
     ]
    },
    {
     "name": "stdout",
     "output_type": "stream",
     "text": [
      "measurement pattern 6/27 : ('X', 'Y', 'Z')\n"
     ]
    },
    {
     "name": "stderr",
     "output_type": "stream",
     "text": [
      "\n",
      "  0%|                                                                               | 0/1000 [00:00<?, ?it/s]\u001b[A\n",
      " 29%|███████████████████▎                                               | 288/1000 [00:00<00:00, 2873.70it/s]\u001b[A\n",
      " 58%|██████████████████████████████████████▌                            | 576/1000 [00:00<00:00, 2813.76it/s]\u001b[A\n",
      "100%|██████████████████████████████████████████████████████████████████| 1000/1000 [00:00<00:00, 2802.76it/s]\u001b[A\n",
      "6it [00:02,  2.84it/s]"
     ]
    },
    {
     "name": "stdout",
     "output_type": "stream",
     "text": [
      "measurement pattern 7/27 : ('X', 'Z', 'X')\n"
     ]
    },
    {
     "name": "stderr",
     "output_type": "stream",
     "text": [
      "\n",
      "  0%|                                                                               | 0/1000 [00:00<?, ?it/s]\u001b[A\n",
      " 32%|█████████████████████                                              | 315/1000 [00:00<00:00, 3148.30it/s]\u001b[A\n",
      " 63%|██████████████████████████████████████████▏                        | 630/1000 [00:00<00:00, 2962.13it/s]\u001b[A\n",
      "100%|██████████████████████████████████████████████████████████████████| 1000/1000 [00:00<00:00, 2922.33it/s]\u001b[A\n",
      "7it [00:02,  2.86it/s]"
     ]
    },
    {
     "name": "stdout",
     "output_type": "stream",
     "text": [
      "measurement pattern 8/27 : ('X', 'Z', 'Y')\n"
     ]
    },
    {
     "name": "stderr",
     "output_type": "stream",
     "text": [
      "\n",
      "  0%|                                                                               | 0/1000 [00:00<?, ?it/s]\u001b[A\n",
      " 30%|████████████████████                                               | 299/1000 [00:00<00:00, 2985.17it/s]\u001b[A\n",
      " 60%|████████████████████████████████████████                           | 598/1000 [00:00<00:00, 2926.60it/s]\u001b[A\n",
      "100%|██████████████████████████████████████████████████████████████████| 1000/1000 [00:00<00:00, 2946.67it/s]\u001b[A\n",
      "8it [00:02,  2.88it/s]"
     ]
    },
    {
     "name": "stdout",
     "output_type": "stream",
     "text": [
      "measurement pattern 9/27 : ('X', 'Z', 'Z')\n"
     ]
    },
    {
     "name": "stderr",
     "output_type": "stream",
     "text": [
      "\n",
      "  0%|                                                                               | 0/1000 [00:00<?, ?it/s]\u001b[A\n",
      " 32%|█████████████████████▏                                             | 316/1000 [00:00<00:00, 3159.29it/s]\u001b[A\n",
      " 63%|██████████████████████████████████████████▎                        | 632/1000 [00:00<00:00, 3078.87it/s]\u001b[A\n",
      "100%|██████████████████████████████████████████████████████████████████| 1000/1000 [00:00<00:00, 2993.62it/s]\u001b[A\n",
      "9it [00:03,  2.90it/s]"
     ]
    },
    {
     "name": "stdout",
     "output_type": "stream",
     "text": [
      "measurement pattern 10/27 : ('Y', 'X', 'X')\n"
     ]
    },
    {
     "name": "stderr",
     "output_type": "stream",
     "text": [
      "\n",
      "  0%|                                                                               | 0/1000 [00:00<?, ?it/s]\u001b[A\n",
      " 26%|█████████████████▍                                                 | 260/1000 [00:00<00:00, 2595.91it/s]\u001b[A\n",
      " 54%|███████████████████████████████████▊                               | 535/1000 [00:00<00:00, 2673.63it/s]\u001b[A\n",
      "100%|██████████████████████████████████████████████████████████████████| 1000/1000 [00:00<00:00, 2744.10it/s]\u001b[A\n",
      "10it [00:03,  2.84it/s]"
     ]
    },
    {
     "name": "stdout",
     "output_type": "stream",
     "text": [
      "measurement pattern 11/27 : ('Y', 'X', 'Y')\n"
     ]
    },
    {
     "name": "stderr",
     "output_type": "stream",
     "text": [
      "\n",
      "  0%|                                                                               | 0/1000 [00:00<?, ?it/s]\u001b[A\n",
      " 29%|███████████████████▏                                               | 286/1000 [00:00<00:00, 2853.73it/s]\u001b[A\n",
      " 57%|██████████████████████████████████████▎                            | 572/1000 [00:00<00:00, 2795.82it/s]\u001b[A\n",
      "100%|██████████████████████████████████████████████████████████████████| 1000/1000 [00:00<00:00, 2813.43it/s]\u001b[A\n",
      "11it [00:03,  2.82it/s]"
     ]
    },
    {
     "name": "stdout",
     "output_type": "stream",
     "text": [
      "measurement pattern 12/27 : ('Y', 'X', 'Z')\n"
     ]
    },
    {
     "name": "stderr",
     "output_type": "stream",
     "text": [
      "\n",
      "  0%|                                                                               | 0/1000 [00:00<?, ?it/s]\u001b[A\n",
      " 29%|███████████████████▍                                               | 291/1000 [00:00<00:00, 2903.41it/s]\u001b[A\n",
      " 58%|██████████████████████████████████████▉                            | 582/1000 [00:00<00:00, 2623.92it/s]\u001b[A\n",
      "100%|██████████████████████████████████████████████████████████████████| 1000/1000 [00:00<00:00, 2699.24it/s]\u001b[A\n",
      "12it [00:04,  2.78it/s]"
     ]
    },
    {
     "name": "stdout",
     "output_type": "stream",
     "text": [
      "measurement pattern 13/27 : ('Y', 'Y', 'X')\n"
     ]
    },
    {
     "name": "stderr",
     "output_type": "stream",
     "text": [
      "\n",
      "  0%|                                                                               | 0/1000 [00:00<?, ?it/s]\u001b[A\n",
      " 29%|███████████████████▏                                               | 286/1000 [00:00<00:00, 2857.92it/s]\u001b[A\n",
      " 57%|██████████████████████████████████████▎                            | 572/1000 [00:00<00:00, 2522.27it/s]\u001b[A\n",
      "100%|██████████████████████████████████████████████████████████████████| 1000/1000 [00:00<00:00, 2654.15it/s]\u001b[A\n",
      "13it [00:04,  2.73it/s]"
     ]
    },
    {
     "name": "stdout",
     "output_type": "stream",
     "text": [
      "measurement pattern 14/27 : ('Y', 'Y', 'Y')\n"
     ]
    },
    {
     "name": "stderr",
     "output_type": "stream",
     "text": [
      "\n",
      "  0%|                                                                               | 0/1000 [00:00<?, ?it/s]\u001b[A\n",
      " 29%|███████████████████▏                                               | 287/1000 [00:00<00:00, 2868.75it/s]\u001b[A\n",
      " 57%|██████████████████████████████████████▍                            | 574/1000 [00:00<00:00, 2842.15it/s]\u001b[A\n",
      "100%|██████████████████████████████████████████████████████████████████| 1000/1000 [00:00<00:00, 2811.02it/s]\u001b[A\n",
      "14it [00:04,  2.75it/s]"
     ]
    },
    {
     "name": "stdout",
     "output_type": "stream",
     "text": [
      "measurement pattern 15/27 : ('Y', 'Y', 'Z')\n"
     ]
    },
    {
     "name": "stderr",
     "output_type": "stream",
     "text": [
      "\n",
      "  0%|                                                                               | 0/1000 [00:00<?, ?it/s]\u001b[A\n",
      " 29%|███████████████████▏                                               | 287/1000 [00:00<00:00, 2863.94it/s]\u001b[A\n",
      " 57%|██████████████████████████████████████▍                            | 574/1000 [00:00<00:00, 2805.93it/s]\u001b[A\n",
      "100%|██████████████████████████████████████████████████████████████████| 1000/1000 [00:00<00:00, 2768.99it/s]\u001b[A\n",
      "15it [00:05,  2.74it/s]"
     ]
    },
    {
     "name": "stdout",
     "output_type": "stream",
     "text": [
      "measurement pattern 16/27 : ('Y', 'Z', 'X')\n"
     ]
    },
    {
     "name": "stderr",
     "output_type": "stream",
     "text": [
      "\n",
      "  0%|                                                                               | 0/1000 [00:00<?, ?it/s]\u001b[A\n",
      " 28%|██████████████████▋                                                | 278/1000 [00:00<00:00, 2775.23it/s]\u001b[A\n",
      " 57%|██████████████████████████████████████▎                            | 571/1000 [00:00<00:00, 2858.49it/s]\u001b[A\n",
      "100%|██████████████████████████████████████████████████████████████████| 1000/1000 [00:00<00:00, 2829.07it/s]\u001b[A\n",
      "16it [00:05,  2.76it/s]"
     ]
    },
    {
     "name": "stdout",
     "output_type": "stream",
     "text": [
      "measurement pattern 17/27 : ('Y', 'Z', 'Y')\n"
     ]
    },
    {
     "name": "stderr",
     "output_type": "stream",
     "text": [
      "\n",
      "  0%|                                                                               | 0/1000 [00:00<?, ?it/s]\u001b[A\n",
      " 29%|███████████████████▎                                               | 288/1000 [00:00<00:00, 2878.84it/s]\u001b[A\n",
      " 58%|██████████████████████████████████████▌                            | 576/1000 [00:00<00:00, 2805.57it/s]\u001b[A\n",
      "100%|██████████████████████████████████████████████████████████████████| 1000/1000 [00:00<00:00, 2793.38it/s]\u001b[A\n",
      "17it [00:06,  2.76it/s]"
     ]
    },
    {
     "name": "stdout",
     "output_type": "stream",
     "text": [
      "measurement pattern 18/27 : ('Y', 'Z', 'Z')\n"
     ]
    },
    {
     "name": "stderr",
     "output_type": "stream",
     "text": [
      "\n",
      "  0%|                                                                               | 0/1000 [00:00<?, ?it/s]\u001b[A\n",
      " 28%|███████████████████                                                | 285/1000 [00:00<00:00, 2843.08it/s]\u001b[A\n",
      " 57%|██████████████████████████████████████▏                            | 570/1000 [00:00<00:00, 2830.32it/s]\u001b[A\n",
      "100%|██████████████████████████████████████████████████████████████████| 1000/1000 [00:00<00:00, 2804.25it/s]\u001b[A\n",
      "18it [00:06,  2.77it/s]"
     ]
    },
    {
     "name": "stdout",
     "output_type": "stream",
     "text": [
      "measurement pattern 19/27 : ('Z', 'X', 'X')\n"
     ]
    },
    {
     "name": "stderr",
     "output_type": "stream",
     "text": [
      "\n",
      "  0%|                                                                               | 0/1000 [00:00<?, ?it/s]\u001b[A\n",
      " 31%|████████████████████▊                                              | 311/1000 [00:00<00:00, 3106.17it/s]\u001b[A\n",
      " 62%|█████████████████████████████████████████▋                         | 622/1000 [00:00<00:00, 2987.74it/s]\u001b[A\n",
      "100%|██████████████████████████████████████████████████████████████████| 1000/1000 [00:00<00:00, 3021.15it/s]\u001b[A\n",
      "19it [00:06,  2.83it/s]"
     ]
    },
    {
     "name": "stdout",
     "output_type": "stream",
     "text": [
      "measurement pattern 20/27 : ('Z', 'X', 'Y')\n"
     ]
    },
    {
     "name": "stderr",
     "output_type": "stream",
     "text": [
      "\n",
      "  0%|                                                                               | 0/1000 [00:00<?, ?it/s]\u001b[A\n",
      " 28%|██████████████████▌                                                | 277/1000 [00:00<00:00, 2763.44it/s]\u001b[A\n",
      " 56%|█████████████████████████████████████▊                             | 564/1000 [00:00<00:00, 2817.80it/s]\u001b[A\n",
      "100%|██████████████████████████████████████████████████████████████████| 1000/1000 [00:00<00:00, 2843.46it/s]\u001b[A\n",
      "20it [00:07,  2.82it/s]"
     ]
    },
    {
     "name": "stdout",
     "output_type": "stream",
     "text": [
      "measurement pattern 21/27 : ('Z', 'X', 'Z')\n"
     ]
    },
    {
     "name": "stderr",
     "output_type": "stream",
     "text": [
      "\n",
      "  0%|                                                                               | 0/1000 [00:00<?, ?it/s]\u001b[A\n",
      " 32%|█████████████████████▋                                             | 323/1000 [00:00<00:00, 3227.18it/s]\u001b[A\n",
      " 65%|███████████████████████████████████████████▎                       | 646/1000 [00:00<00:00, 3112.43it/s]\u001b[A\n",
      "100%|██████████████████████████████████████████████████████████████████| 1000/1000 [00:00<00:00, 3098.90it/s]\u001b[A\n",
      "21it [00:07,  2.89it/s]"
     ]
    },
    {
     "name": "stdout",
     "output_type": "stream",
     "text": [
      "measurement pattern 22/27 : ('Z', 'Y', 'X')\n"
     ]
    },
    {
     "name": "stderr",
     "output_type": "stream",
     "text": [
      "\n",
      "  0%|                                                                               | 0/1000 [00:00<?, ?it/s]\u001b[A\n",
      " 30%|███████████████████▊                                               | 295/1000 [00:00<00:00, 2948.15it/s]\u001b[A\n",
      " 59%|███████████████████████████████████████▌                           | 590/1000 [00:00<00:00, 2849.52it/s]\u001b[A\n",
      "100%|██████████████████████████████████████████████████████████████████| 1000/1000 [00:00<00:00, 2879.60it/s]\u001b[A\n",
      "22it [00:07,  2.88it/s]"
     ]
    },
    {
     "name": "stdout",
     "output_type": "stream",
     "text": [
      "measurement pattern 23/27 : ('Z', 'Y', 'Y')\n"
     ]
    },
    {
     "name": "stderr",
     "output_type": "stream",
     "text": [
      "\n",
      "  0%|                                                                               | 0/1000 [00:00<?, ?it/s]\u001b[A\n",
      " 28%|██████████████████▉                                                | 282/1000 [00:00<00:00, 2819.85it/s]\u001b[A\n",
      " 57%|██████████████████████████████████████▏                            | 570/1000 [00:00<00:00, 2854.96it/s]\u001b[A\n",
      "100%|██████████████████████████████████████████████████████████████████| 1000/1000 [00:00<00:00, 2834.12it/s]\u001b[A\n",
      "23it [00:08,  2.86it/s]"
     ]
    },
    {
     "name": "stdout",
     "output_type": "stream",
     "text": [
      "measurement pattern 24/27 : ('Z', 'Y', 'Z')\n"
     ]
    },
    {
     "name": "stderr",
     "output_type": "stream",
     "text": [
      "\n",
      "  0%|                                                                               | 0/1000 [00:00<?, ?it/s]\u001b[A\n",
      " 30%|███████████████████▊                                               | 295/1000 [00:00<00:00, 2947.87it/s]\u001b[A\n",
      " 59%|███████████████████████████████████████▌                           | 590/1000 [00:00<00:00, 2906.76it/s]\u001b[A\n",
      "100%|██████████████████████████████████████████████████████████████████| 1000/1000 [00:00<00:00, 2920.30it/s]\u001b[A\n",
      "24it [00:08,  2.87it/s]"
     ]
    },
    {
     "name": "stdout",
     "output_type": "stream",
     "text": [
      "measurement pattern 25/27 : ('Z', 'Z', 'X')\n"
     ]
    },
    {
     "name": "stderr",
     "output_type": "stream",
     "text": [
      "\n",
      "  0%|                                                                               | 0/1000 [00:00<?, ?it/s]\u001b[A\n",
      " 32%|█████████████████████▎                                             | 318/1000 [00:00<00:00, 3174.24it/s]\u001b[A\n",
      " 64%|██████████████████████████████████████████▌                        | 636/1000 [00:00<00:00, 3010.08it/s]\u001b[A\n",
      "100%|██████████████████████████████████████████████████████████████████| 1000/1000 [00:00<00:00, 3067.35it/s]\u001b[A\n",
      "25it [00:08,  2.91it/s]"
     ]
    },
    {
     "name": "stdout",
     "output_type": "stream",
     "text": [
      "measurement pattern 26/27 : ('Z', 'Z', 'Y')\n"
     ]
    },
    {
     "name": "stderr",
     "output_type": "stream",
     "text": [
      "\n",
      "  0%|                                                                               | 0/1000 [00:00<?, ?it/s]\u001b[A\n",
      " 31%|████████████████████▊                                              | 311/1000 [00:00<00:00, 3107.60it/s]\u001b[A\n",
      " 62%|█████████████████████████████████████████▋                         | 622/1000 [00:00<00:00, 2987.65it/s]\u001b[A\n",
      "100%|██████████████████████████████████████████████████████████████████| 1000/1000 [00:00<00:00, 2997.99it/s]\u001b[A\n",
      "26it [00:09,  2.93it/s]"
     ]
    },
    {
     "name": "stdout",
     "output_type": "stream",
     "text": [
      "measurement pattern 27/27 : ('Z', 'Z', 'Z')\n"
     ]
    },
    {
     "name": "stderr",
     "output_type": "stream",
     "text": [
      "\n",
      "  0%|                                                                               | 0/1000 [00:00<?, ?it/s]\u001b[A\n",
      " 31%|████████████████████▊                                              | 310/1000 [00:00<00:00, 3099.77it/s]\u001b[A\n",
      " 62%|█████████████████████████████████████████▌                         | 620/1000 [00:00<00:00, 3073.72it/s]\u001b[A\n",
      "100%|██████████████████████████████████████████████████████████████████| 1000/1000 [00:00<00:00, 3093.13it/s]\u001b[A\n",
      "27it [00:09,  2.85it/s]\n"
     ]
    }
   ],
   "source": [
    "target_state = target_circuit.GHZ(n_qubit, state_class, error_model, error_rate)\n",
    "utils.save_density_matrix(target_state, target_state_path)\n",
    "meas_pattern_df, train_df = dataset.generate(target_state, n_qubit, error_model, each_n_shot)\n",
    "dataset.save(meas_pattern_df, train_df, train_data_path)"
   ]
  },
  {
   "cell_type": "markdown",
   "id": "f8b6974f-1e2f-4bd4-a3ae-c534528d78a6",
   "metadata": {},
   "source": [
    "## load dataset"
   ]
  },
  {
   "cell_type": "code",
   "execution_count": 4,
   "id": "40b334d2-343a-4a92-b37a-229e0a470d71",
   "metadata": {},
   "outputs": [],
   "source": [
    "meas_result, target_rho, meas_label, meas_pattern = utils.load_dataset_DM(train_data_path, target_state_path)"
   ]
  },
  {
   "cell_type": "markdown",
   "id": "262d49c8-188a-49d4-8749-d72b1079200a",
   "metadata": {},
   "source": [
    "## callback settings"
   ]
  },
  {
   "cell_type": "code",
   "execution_count": 5,
   "id": "559d3a71-cdde-4b8a-8ea6-357d8eb8d076",
   "metadata": {},
   "outputs": [],
   "source": [
    "n_on_epoch = 1\n",
    "def save_model(nn_state, **kwargs):\n",
    "    global n_on_epoch\n",
    "    os.makedirs(model_path, exist_ok = True)\n",
    "    nn_state.save(model_path + f\"epoch{n_on_epoch}_model.pt\")\n",
    "    n_on_epoch = n_on_epoch + 1\n",
    "\n",
    "def F_ideal_train(nn_state, **kwargs):\n",
    "    save_model(nn_state)\n",
    "    ideal_state = target_circuit.GHZ(n_qubit, state_class, \"ideal\", error_rate)\n",
    "    train_state = utils.get_density_matrix(nn_state)\n",
    "    F = np.trace(sqrtm(sqrtm(ideal_state)@train_state@sqrtm(ideal_state)))\n",
    "    \n",
    "    return (F.real)**2\n",
    "\n",
    "def F_noisy_train(nn_state, **kwargs):\n",
    "    noisy_state = target_circuit.GHZ(n_qubit, state_class, error_model, error_rate)\n",
    "    train_state = utils.get_density_matrix(nn_state)\n",
    "    F = np.trace(sqrtm(sqrtm(noisy_state)@train_state@sqrtm(noisy_state)))\n",
    "    \n",
    "    return (F.real)**2\n",
    "    \n",
    "def F_ideal_mevec(nn_state, **kwargs):\n",
    "    ideal_state = target_circuit.GHZ(n_qubit, state_class, \"ideal\", error_rate)\n",
    "    train_state = utils.get_density_matrix(nn_state)\n",
    "    max_eigen_state = utils.get_max_eigen_vector(train_state)\n",
    "    F = max_eigen_state.T.conjugate()@ideal_state@max_eigen_state\n",
    "    \n",
    "    return F.real\n",
    "\n",
    "def create_callback(nn_state):\n",
    "    metric_dict = {\n",
    "        \"ideal_train\": F_ideal_train,\n",
    "        \"noisy_train\": F_noisy_train,\n",
    "        \"ideal_mevec\": F_ideal_mevec,\n",
    "        \"KL_Divergence\": ts.KL,\n",
    "    }\n",
    "    space = nn_state.generate_hilbert_space()\n",
    "    callbacks = [\n",
    "        MetricEvaluator(\n",
    "            period,\n",
    "            metric_dict,\n",
    "            target = target_rho,\n",
    "            bases = meas_pattern,\n",
    "            verbose = True,\n",
    "            space = space,\n",
    "        )\n",
    "    ]\n",
    "    \n",
    "    return callbacks"
   ]
  },
  {
   "cell_type": "code",
   "execution_count": 6,
   "id": "0ff1fa02-aeb5-49fb-8fbc-6370c49f19d8",
   "metadata": {},
   "outputs": [],
   "source": [
    "nn_state = DensityMatrix(num_visible = num_visible, num_hidden = num_hidden, num_aux = num_aux, unitary_dict = unitaries.create_dict(), gpu = use_gpu)\n",
    "callbacks = create_callback(nn_state)"
   ]
  },
  {
   "cell_type": "markdown",
   "id": "f675ad15-85c7-4de4-a52e-2d8572b7046b",
   "metadata": {},
   "source": [
    "## train"
   ]
  },
  {
   "cell_type": "code",
   "execution_count": null,
   "id": "b4967b7b-9b10-469e-99b4-c0bf72d6f0ab",
   "metadata": {
    "scrolled": true,
    "tags": []
   },
   "outputs": [
    {
     "name": "stdout",
     "output_type": "stream",
     "text": [
      "Epoch: 1\tideal_train = 0.431050\tnoisy_train = 0.582207\tideal_mevec = 0.515121\tKL_Divergence = 0.352396\n",
      "Epoch: 2\tideal_train = 0.425227\tnoisy_train = 0.626822\tideal_mevec = 0.569028\tKL_Divergence = 0.130827\n",
      "Epoch: 3\tideal_train = 0.459158\tnoisy_train = 0.639415\tideal_mevec = 0.553979\tKL_Divergence = 0.153176\n",
      "Epoch: 4\tideal_train = 0.461429\tnoisy_train = 0.656081\tideal_mevec = 0.646839\tKL_Divergence = 0.088146\n",
      "Epoch: 5\tideal_train = 0.467399\tnoisy_train = 0.667897\tideal_mevec = 0.992896\tKL_Divergence = 0.070607\n",
      "Epoch: 6\tideal_train = 0.471788\tnoisy_train = 0.670245\tideal_mevec = 0.884132\tKL_Divergence = 0.070946\n",
      "Epoch: 7\tideal_train = 0.478334\tnoisy_train = 0.674618\tideal_mevec = 0.840206\tKL_Divergence = 0.068404\n",
      "Epoch: 8\tideal_train = 0.480399\tnoisy_train = 0.676550\tideal_mevec = 0.939291\tKL_Divergence = 0.067738\n",
      "Epoch: 9\tideal_train = 0.486001\tnoisy_train = 0.686975\tideal_mevec = 0.763833\tKL_Divergence = 0.072758\n",
      "Epoch: 10\tideal_train = 0.494400\tnoisy_train = 0.689414\tideal_mevec = 0.688729\tKL_Divergence = 0.090077\n",
      "Epoch: 11\tideal_train = 0.500936\tnoisy_train = 0.705698\tideal_mevec = 0.896211\tKL_Divergence = 0.063837\n",
      "Epoch: 12\tideal_train = 0.514648\tnoisy_train = 0.716714\tideal_mevec = 0.821578\tKL_Divergence = 0.069784\n",
      "Epoch: 13\tideal_train = 0.531749\tnoisy_train = 0.734321\tideal_mevec = 0.843239\tKL_Divergence = 0.068483\n",
      "Epoch: 14\tideal_train = 0.559150\tnoisy_train = 0.766047\tideal_mevec = 0.929055\tKL_Divergence = 0.055513\n",
      "Epoch: 15\tideal_train = 0.595946\tnoisy_train = 0.805604\tideal_mevec = 0.966013\tKL_Divergence = 0.052377\n",
      "Epoch: 16\tideal_train = 0.632924\tnoisy_train = 0.826523\tideal_mevec = 0.909509\tKL_Divergence = 0.060841\n",
      "Epoch: 17\tideal_train = 0.676105\tnoisy_train = 0.871161\tideal_mevec = 0.983748\tKL_Divergence = 0.037197\n",
      "Epoch: 18\tideal_train = 0.689201\tnoisy_train = 0.869436\tideal_mevec = 0.938866\tKL_Divergence = 0.051710\n",
      "Epoch: 19\tideal_train = 0.737955\tnoisy_train = 0.905864\tideal_mevec = 0.973652\tKL_Divergence = 0.037500\n",
      "Epoch: 20\tideal_train = 0.775923\tnoisy_train = 0.932774\tideal_mevec = 0.996976\tKL_Divergence = 0.014022\n",
      "Epoch: 21\tideal_train = 0.791053\tnoisy_train = 0.933354\tideal_mevec = 0.979082\tKL_Divergence = 0.015878\n",
      "Epoch: 22\tideal_train = 0.814766\tnoisy_train = 0.946211\tideal_mevec = 0.979816\tKL_Divergence = 0.019807\n",
      "Epoch: 23\tideal_train = 0.828965\tnoisy_train = 0.952836\tideal_mevec = 0.980608\tKL_Divergence = 0.017631\n",
      "Epoch: 24\tideal_train = 0.841599\tnoisy_train = 0.960399\tideal_mevec = 0.987097\tKL_Divergence = 0.007897\n",
      "Epoch: 25\tideal_train = 0.850843\tnoisy_train = 0.964218\tideal_mevec = 0.987420\tKL_Divergence = 0.006967\n",
      "Epoch: 26\tideal_train = 0.853208\tnoisy_train = 0.958862\tideal_mevec = 0.976933\tKL_Divergence = 0.025990\n",
      "Epoch: 27\tideal_train = 0.872460\tnoisy_train = 0.972010\tideal_mevec = 0.987921\tKL_Divergence = 0.012900\n",
      "Epoch: 28\tideal_train = 0.882703\tnoisy_train = 0.980364\tideal_mevec = 0.997295\tKL_Divergence = 0.003420\n",
      "Epoch: 29\tideal_train = 0.878744\tnoisy_train = 0.973682\tideal_mevec = 0.988027\tKL_Divergence = 0.005852\n",
      "Epoch: 30\tideal_train = 0.890582\tnoisy_train = 0.978036\tideal_mevec = 0.991095\tKL_Divergence = 0.009050\n",
      "Epoch: 31\tideal_train = 0.891410\tnoisy_train = 0.978224\tideal_mevec = 0.990093\tKL_Divergence = 0.010167\n",
      "Epoch: 32\tideal_train = 0.884974\tnoisy_train = 0.971217\tideal_mevec = 0.983099\tKL_Divergence = 0.007325\n",
      "Epoch: 33\tideal_train = 0.886515\tnoisy_train = 0.970308\tideal_mevec = 0.981885\tKL_Divergence = 0.006552\n"
     ]
    }
   ],
   "source": [
    "nn_state.fit(\n",
    "    data = meas_result,\n",
    "    input_bases = meas_label,\n",
    "    epochs = epoch,\n",
    "    pos_batch_size = pbs,\n",
    "    neg_batch_size = nbs,\n",
    "    lr = lr,\n",
    "    k = n_gibbs_step,\n",
    "    bases = meas_pattern,\n",
    "    callbacks = callbacks,\n",
    "    time = True,\n",
    "    optimizer = torch.optim.Adadelta,\n",
    "    scheduler = torch.optim.lr_scheduler.StepLR,\n",
    "    scheduler_args = {\"step_size\": lr_drop_epoch, \"gamma\": lr_drop_factor},\n",
    ")"
   ]
  },
  {
   "cell_type": "markdown",
   "id": "3221eb9e-7d57-4b0f-892d-364b660dfda6",
   "metadata": {},
   "source": [
    "## save train log"
   ]
  },
  {
   "cell_type": "code",
   "execution_count": null,
   "id": "5997bda9-975b-46cd-92c6-b0ba942e83e9",
   "metadata": {},
   "outputs": [],
   "source": [
    "os.makedirs(train_log_path, exist_ok = True)\n",
    "train_log_df = pd.DataFrame()\n",
    "train_log_df[\"epoch\"] = np.arange(1, epoch+1, period)\n",
    "train_log_df[\"F_ideal_train\"] = callbacks[0][\"ideal_train\"]\n",
    "train_log_df[\"F_noisy_train\"] = callbacks[0][\"noisy_train\"]\n",
    "train_log_df[\"F_ideal_meve\"] = callbacks[0][\"ideal_mevec\"]\n",
    "train_log_df[\"KL_Divergence\"] = callbacks[0][\"KL_Divergence\"]\n",
    "train_log_df.to_csv(train_log_path + \"train_log.csv\", index=False)"
   ]
  },
  {
   "cell_type": "code",
   "execution_count": null,
   "id": "eb4e5d6b-cc1c-4af2-a7f2-26b4f665920f",
   "metadata": {},
   "outputs": [],
   "source": []
  }
 ],
 "metadata": {
  "kernelspec": {
   "display_name": "Python 3 (ipykernel)",
   "language": "python",
   "name": "python3"
  },
  "language_info": {
   "codemirror_mode": {
    "name": "ipython",
    "version": 3
   },
   "file_extension": ".py",
   "mimetype": "text/x-python",
   "name": "python",
   "nbconvert_exporter": "python",
   "pygments_lexer": "ipython3",
   "version": "3.9.10"
  }
 },
 "nbformat": 4,
 "nbformat_minor": 5
}

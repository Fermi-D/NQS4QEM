{
 "cells": [
  {
   "cell_type": "code",
   "execution_count": 1,
   "id": "56c1a269-1a21-47d5-8030-7bb698be9296",
   "metadata": {},
   "outputs": [],
   "source": [
    "import os\n",
    "import subprocess\n",
    "import random\n",
    "import warnings\n",
    "import numpy as np\n",
    "from scipy.linalg import sqrtm\n",
    "from scipy.stats import unitary_group\n",
    "import pandas as pd\n",
    "import matplotlib.pyplot as plt\n",
    "import seaborn as sns\n",
    "import yaml\n",
    "from tqdm.notebook import tqdm\n",
    "import itertools\n",
    "\n",
    "import torch\n",
    "from qucumber.nn_states import DensityMatrix\n",
    "from qucumber.nn_states import ComplexWaveFunction\n",
    "from qucumber.callbacks import MetricEvaluator\n",
    "import qucumber.utils.unitaries as unitaries\n",
    "import qucumber.utils.training_statistics as ts\n",
    "import qucumber.utils.cplx as cplx\n",
    "import qucumber.utils.data as data\n",
    "from qucumber.observables import ObservableBase, to_pm1\n",
    "from qucumber.observables.pauli import flip_spin\n",
    "import qucumber\n",
    "\n",
    "from qulacs.gate import Pauli\n",
    "\n",
    "%load_ext autoreload\n",
    "%autoreload 2"
   ]
  },
  {
   "cell_type": "code",
   "execution_count": 2,
   "id": "b843a6b1-cb5d-403d-9a43-ffcc3e0aaf96",
   "metadata": {},
   "outputs": [],
   "source": [
    "with open('./params_setting.yaml', 'r') as yml:\n",
    "    params = yaml.safe_load(yml)\n",
    "    \n",
    "# quantum circuit parameter\n",
    "n_qubit = params[\"circuit_info\"][\"n_qubit\"]\n",
    "each_n_shot = params[\"circuit_info\"][\"each_n_shot\"]\n",
    "state_name = params[\"circuit_info\"][\"state_name\"]\n",
    "error_model = params[\"circuit_info\"][\"error_model\"]\n",
    "error_rate = params[\"circuit_info\"][\"error_rate\"]\n",
    "\n",
    "# RBM architecture parameter\n",
    "n_visible_unit = params[\"architecture_info\"][\"n_visible_unit\"]\n",
    "n_hidden_unit = params[\"architecture_info\"][\"n_hidden_unit\"] \n",
    "n_aux_unit = params[\"architecture_info\"][\"n_aux_unit\"]\n",
    "\n",
    "# train parameter\n",
    "lr = params[\"train_info\"][\"lr\"]\n",
    "pbs = params[\"train_info\"][\"positive_batch_size\"]\n",
    "nbs = params[\"train_info\"][\"negative_batch_size\"]\n",
    "n_gibbs_step = params[\"train_info\"][\"n_gibbs_step\"]\n",
    "period = 1\n",
    "epoch = params[\"train_info\"][\"n_epoch\"]\n",
    "lr_drop_epoch = params[\"train_info\"][\"lr_drop_epoch\"]\n",
    "lr_drop_factor = params[\"train_info\"][\"lr_drop_factor\"]\n",
    "seed = params[\"train_info\"][\"seed\"]\n",
    "\n",
    "# sampling parameter\n",
    "n_sample = params[\"sampling_info\"][\"n_sample\"]\n",
    "n_copy = params[\"sampling_info\"][\"n_copy\"]\n",
    "\n",
    "# data path info\n",
    "environment = \"local\"\n",
    "if environment == \"local\":\n",
    "    train_data_path = f\"./data/{error_model}/error_rate_{100*error_rate}%/num_of_data_{each_n_shot}/\"\n",
    "    target_state_path = f\"./target_state/{error_model}/error_rate_{100*error_rate}%/\"\n",
    "    model_path = f\"./model/{error_model}/error_rate_{100*error_rate}%/num_of_data_{each_n_shot}/\"\n",
    "    train_log_path = f\"./train_log/{error_model}/error_rate_{100*error_rate}%/num_of_data_{each_n_shot}/\"\n",
    "if environment == \"colab\":\n",
    "    from google.colab import drive\n",
    "    drive.mount(\"/content/drive/\")\n",
    "    drive_path = \"/content/drive/MyDrive/NQS4QEM/2-qubit_random_unitary\"\n",
    "    train_data_path = drive_path + f\"/data/{error_model}/error_rate_{100*error_rate}%/num_of_data_{each_n_shot}/\"\n",
    "    target_state_path = drive_path + f\"/target_state/{error_model}/error_rate_{100*error_rate}%/\"\n",
    "    model_path = drive_path + f\"/model_dm/{error_model}/error_rate_{100*error_rate}%/num_of_data_{each_n_shot}/\"\n",
    "    train_log_path = drive_path + f\"/train_log/{error_model}/error_rate_{100*error_rate}%/num_of_data_{each_n_shot}/\"\n",
    "\n",
    "# settings\n",
    "## warnings\n",
    "warnings.simplefilter('ignore')\n",
    "\n",
    "## seaborn layout\n",
    "sns.set()\n",
    "sns.set_style(\"white\")\n",
    "\n",
    "## seed\n",
    "def seed_settings(seed=42):\n",
    "    random.seed(seed)\n",
    "    os.environ['PYTHONHASHSEED'] = str(seed)\n",
    "    np.random.seed(seed)\n",
    "    torch.manual_seed(seed)\n",
    "    qucumber.set_random_seed(seed, cpu=True, gpu=False)\n",
    "\n",
    "seed_settings(seed=seed)"
   ]
  },
  {
   "cell_type": "markdown",
   "id": "d6042753-64d0-4935-a3d5-733fd2dbe5c6",
   "metadata": {},
   "source": [
    "## NQS for VD"
   ]
  },
  {
   "cell_type": "code",
   "execution_count": 3,
   "id": "21e2b1c8-e399-495f-bbb3-0a6992e3a027",
   "metadata": {},
   "outputs": [],
   "source": [
    "class GeneralPauliDistill(ObservableBase):\n",
    "    def __init__(self, pauli_dict: dict, m: int) -> None:\n",
    "        self.name = \"distilled_pauli\"\n",
    "        self.symbol = \"distilled_general_pauli\"\n",
    "        self.pauli_dict = pauli_dict\n",
    "        self.num_copy = m\n",
    "        \n",
    "    def apply(self, nn_state, samples):\n",
    "        \"\"\"\n",
    "        This function calcualte <x1 x2 ... xm | rho^{\\otimes m} O | xm x1 x2 ... xm-1> / <x1 x2 ... xm | rho^{\\otimes m} | x1 x2 ... xm>\n",
    "        where O acts only on the first register.\n",
    "        \"\"\"\n",
    "        \n",
    "        # [num_sample, num_visible_node]\n",
    "        # samples = [s1, s2, s3 ... sN]\n",
    "        #  where num_sample = N, and si is num_visible_node-bits\n",
    "        samples = samples.to(device=nn_state.device)\n",
    "        \n",
    "        num_sample, num_visible_node = samples.shape\n",
    "        \n",
    "        # [num_sample, num_visible_node * num_copy]\n",
    "        # samples_array = [[s1 sN sN-1], [s2 s1 sN], [s3 s2 s1],.. [sN sN-1 sN-2]]\n",
    "        #  each row is num_copy*num_visible_node bits the above example is for num_copy=3\n",
    "        samples_array = []\n",
    "        for copy_index in range(self.num_copy):\n",
    "            rolled_samples = torch.roll(samples, shifts=copy_index, dims=0)\n",
    "            samples_array.append(rolled_samples)\n",
    "        samples_array = torch.hstack(samples_array)\n",
    "        assert(samples_array.shape[0] == num_sample)\n",
    "        assert(samples_array.shape[1] == num_visible_node * self.num_copy)\n",
    "        \n",
    "        # roll second dim of [num_sample, num_visible_node * num_copy] by num_visible_node\n",
    "        # swapped_samples_array = [[sN-1 s1 sN], [sN s2 s1], [s1 s3 s2],.. [sN-2 sN sN-1]]\n",
    "        swapped_samples_array = torch.roll(samples_array, shifts = num_visible_node, dims=1)\n",
    "\n",
    "        # pick copy of first block\n",
    "        #  first_block_sample = [sN-1, sN, s1, s2, ... sN-2]\n",
    "        first_block_sample = swapped_samples_array[:, :num_visible_node].clone()\n",
    "\n",
    "        # calculate coefficient for first block [num_samples, 0:num_visible_node]\n",
    "        total_prod = cplx.make_complex(torch.ones_like(samples[:,0]), torch.zeros_like(samples[:,0]))\n",
    "        for index, pauli in self.pauli_dict.items():\n",
    "            assert(index < num_visible_node)\n",
    "            coeff = to_pm1(first_block_sample[:, index])\n",
    "            if pauli == \"Z\":\n",
    "                coeff = cplx.make_complex(coeff, torch.zeros_like(coeff))\n",
    "                total_prod = cplx.elementwise_mult(coeff, total_prod)\n",
    "            elif pauli == \"Y\":\n",
    "                coeff = cplx.make_complex(torch.zeros_like(coeff), coeff)\n",
    "                total_prod = cplx.elementwise_mult(coeff, total_prod)\n",
    "        \n",
    "        # flip samples for for first block [num_samples, 0:num_visible_node]\n",
    "        # first_block_sample -> [OsN-1, OsN, Os1, Os2, ... OsN-2]\n",
    "        #  where Osi is bit array after Pauli bit-flips \n",
    "        for index, pauli in self.pauli_dict.items():\n",
    "            assert(index < num_visible_node)\n",
    "            if pauli in [\"X\", \"Y\"]:\n",
    "                first_block_sample = flip_spin(index, first_block_sample)\n",
    "\n",
    "\n",
    "        # store flipped first block\n",
    "        swapped_samples_array[:, :num_visible_node] = first_block_sample\n",
    "\n",
    "        # calculate product of coefficients\n",
    "        # samples_array = [[s1 sN sN-1], [s2 s1 sN], [s3 s2 s1],.. [sN sN-1 sN-2]]\n",
    "        # swapped_samples_array = [[OsN-1 s1 sN], [OsN s2 s1], [Os1 s3 s2],.. [OsN-2 sN sN-1]]\n",
    "        \"\"\"\n",
    "        total_prod = [\n",
    "            <s1 sN sN-1 | rho^{\\otimes 3} | OsN-1 s1 sN> / <s1 sN sN-1 | rho^{\\otimes 3} | s1 sN sN-1> , \n",
    "            <s2 s1 sN   | rho^{\\otimes 3} | OsN s2 s1>   / <s2 s1 sN   | rho^{\\otimes 3} | s2 s1 sN> , \n",
    "            <s3 s2 s1   | rho^{\\otimes 3} | Os1 s3 s2>   / <s3 s2 s1   | rho^{\\otimes 3} | s3 s2 s1> , \n",
    "\n",
    "        e.g. \n",
    "        <s3 s2 s1   | rho^{\\otimes 3} | Os1 s3 s2>   / <s3 s2 s1   | rho^{\\otimes 3} | s3 s2 s1>\n",
    "         = <s3 | rho | Os1> <s2 | rho | s3> < s1| rho | s2> / (<s3 | rho | s3> <s2 | rho | s2> < s1| rho | s1>)\n",
    "         =  (<s3 | rho | Os1> / <s3 | rho | s3>)\n",
    "          * (<s2 | rho | s3> / <s2 | rho | s2> )\n",
    "          * (< s1| rho | s2> / < s1| rho | s1>)\n",
    "         \n",
    "        importance_sampling_numerator(s3, Os1)  provides <s3 | rho | Os1>\n",
    "        importance_sampling_denominator(s3)     provides <s3 | rho | s3>\n",
    "        \"\"\"\n",
    "        for copy_index in range(self.num_copy):\n",
    "            st = copy_index * samples.shape[1]\n",
    "            en = (copy_index+1) * samples.shape[1]\n",
    "            # numerator is []\n",
    "            numerator = nn_state.importance_sampling_numerator(swapped_samples_array[:, st:en], samples_array[:, st:en])\n",
    "            denominator = nn_state.importance_sampling_denominator(samples_array[:, st:en])\n",
    "            values = cplx.elementwise_division(numerator, denominator)\n",
    "            total_prod = cplx.elementwise_mult(total_prod, values)\n",
    "\n",
    "        value = cplx.real(total_prod)\n",
    "        return value"
   ]
  },
  {
   "cell_type": "markdown",
   "id": "bfc20db8-ba8d-4d3c-8fc8-209bf38557bd",
   "metadata": {},
   "source": [
    "## utils"
   ]
  },
  {
   "cell_type": "code",
   "execution_count": 4,
   "id": "3a5ef055-63b5-4efd-9b54-3f68c09f01b2",
   "metadata": {},
   "outputs": [],
   "source": [
    "def get_density_matrix(nn_state):\n",
    "    space = nn_state.generate_hilbert_space()\n",
    "    Z = nn_state.normalization(space)\n",
    "    tensor = nn_state.rho(space, space)/Z\n",
    "    tensor = cplx.conjugate(tensor)\n",
    "    matrix = cplx.numpy(tensor)\n",
    "    return matrix\n",
    "\n",
    "def get_max_eigvec(matrix):\n",
    "    e_val, e_vec = np.linalg.eigh(matrix)\n",
    "    me_val = e_val[-1]\n",
    "    me_vec = e_vec[:,-1]\n",
    "    return me_vec\n",
    "\n",
    "def observable_ZZ():\n",
    "    target_list = [0, 1]\n",
    "    pauli_index = [3, 3] # 1:X , 2:Y, 3:Z\n",
    "    gate = Pauli(target_list, pauli_index) # = Z_1 Z_2\n",
    "    return gate.get_matrix()\n",
    "\n",
    "def fidelity(state_1, state_2):\n",
    "    F = np.trace(sqrtm(sqrtm(state_1)@state_2@sqrtm(state_1)))\n",
    "    return (F.real)**2\n",
    "\n",
    "## Rx gate\n",
    "def Rx(n_qubit, target_qubit_idx, theta):\n",
    "    I = np.eye(2)\n",
    "    local_Rx = np.array([[np.cos(theta/2),-1j*np.sin(theta/2)], [-1j*np.sin(theta/2),np.cos(theta/2)]])\n",
    "    if target_qubit_idx==0:\n",
    "        mat = local_Rx\n",
    "    else:\n",
    "        mat = I\n",
    "    for i in range(n_qubit-1):\n",
    "        if i+1==target_qubit_idx:\n",
    "            mat = np.kron(mat, local_Rx)\n",
    "        else:\n",
    "            mat = np.kron(mat, I)\n",
    "            \n",
    "    return mat\n",
    "\n",
    "## Ry gate\n",
    "def Ry(n_qubit, target_qubit_idx, theta):\n",
    "    I = np.eye(2)\n",
    "    local_Ry = np.array([[np.cos(theta/2),-np.sin(theta/2)], [-np.sin(theta/2),np.cos(theta/2)]])\n",
    "    if target_qubit_idx==0:\n",
    "        mat = local_Ry\n",
    "    else:\n",
    "        mat = I\n",
    "    for i in range(n_qubit-1):\n",
    "        if i+1==target_qubit_idx:\n",
    "            mat = np.kron(mat, local_Ry)\n",
    "        else:\n",
    "            mat = np.kron(mat, I)\n",
    "            \n",
    "    return mat\n",
    "\n",
    "## Rz gate\n",
    "def Rz(n_qubit, target_qubit_idx, theta):\n",
    "    I = np.eye(2)\n",
    "    local_Rz = np.array([[np.exp(-1j*theta/2),0], [0,np.cos(1j*theta/2)]])\n",
    "    if target_qubit_idx==0:\n",
    "        mat = local_Rz\n",
    "    else:\n",
    "        mat = I\n",
    "    for i in range(n_qubit-1):\n",
    "        if i+1==target_qubit_idx:\n",
    "            mat = np.kron(mat, local_Rz)\n",
    "        else:\n",
    "            mat = np.kron(mat, I)\n",
    "            \n",
    "    return mat\n",
    "\n",
    "def global_depolarizing(state, n_qubit, error_rate):\n",
    "    return (1-error_rate)*state + error_rate*np.trace(state)*np.eye(2**n_qubit)/(2**n_qubit)\n",
    "    \n",
    "def unitary(state, n_qubit, theta, target_qubit_idx):\n",
    "    return Rx(n_qubit, target_qubit_idx, theta) @ state @ Rx(n_qubit, target_qubit_idx, theta).T.conjugate()\n",
    "\n",
    "def init_state(n_qubit, state_name):\n",
    "    ket_0 = np.array([[1],[0]]) \n",
    "    init_state = ket_0\n",
    "    \n",
    "    for i in range(2**(n_qubit-1)-1):\n",
    "        init_state = np.append(init_state, np.array([[0],[0]]), axis=0) # |00...0>\n",
    "    \n",
    "    if state_name == \"density_matrix\":\n",
    "        init_state_vec = init_state\n",
    "        init_state = init_state_vec @ init_state_vec.T.conjugate() # |00...0><00...0|\n",
    "    \n",
    "    return init_state"
   ]
  },
  {
   "cell_type": "markdown",
   "id": "a7bfdd86-095a-4af1-b792-b9ee77ac6d10",
   "metadata": {},
   "source": [
    "## target quantum circuit"
   ]
  },
  {
   "cell_type": "code",
   "execution_count": 5,
   "id": "78251ae5-0908-4fb8-90a4-f6f6184c15ae",
   "metadata": {},
   "outputs": [],
   "source": [
    "def Random_unitary(n_qubit, state_name, error_model, error_rate):\n",
    "    from scipy.stats import unitary_group\n",
    "    U = unitary_group.rvs(dim = 2**n_qubit, random_state = seed)\n",
    "    \n",
    "    if state_name == \"state_vector\":\n",
    "        if error_model == \"ideal\":\n",
    "            state = init_state(n_qubit, state_name)\n",
    "            state = U @ state\n",
    "            \n",
    "    if state_name == \"density_matrix\":\n",
    "        if error_model == \"ideal\":\n",
    "            state = init_state(n_qubit, state_name)\n",
    "            state = U @ state @ U.T.conjugate()\n",
    "        \n",
    "        if error_model == \"depolarizing\":\n",
    "            state = init_state(n_qubit, state_name)\n",
    "            state = U @ state @ U.T.conjugate()\n",
    "            state = global_depolarizing(state, n_qubit, error_rate)\n",
    "        \n",
    "        if error_model == \"unitary\":\n",
    "            state = init_state(n_qubit, state_name)\n",
    "            state = U @ state @ U.T.conjugate()\n",
    "            for i in range(n_qubit):\n",
    "                state = unitary(state, n_qubit, np.sqrt(error_rate), i)\n",
    "            \n",
    "        if error_model == \"depolarizing&unitary\":\n",
    "            state = init_state(n_qubit, state_name)\n",
    "            state = U @ state @ U.T.conjugate()\n",
    "            state = global_depolarizing(state, n_qubit, error_rate)\n",
    "            for i in range(n_qubit):\n",
    "                state = unitary(state, n_qubit, np.sqrt(error_rate), i)\n",
    "    \n",
    "    return state"
   ]
  },
  {
   "cell_type": "markdown",
   "id": "a3a919db-7169-4fd4-803d-d8afc37ab533",
   "metadata": {},
   "source": [
    "## expectation value statistics"
   ]
  },
  {
   "cell_type": "code",
   "execution_count": 6,
   "id": "2aaf4770-d899-4892-8a29-bab0eed07833",
   "metadata": {},
   "outputs": [
    {
     "data": {
      "text/plain": [
       "'\\ndef variance(nn_state, pauli_dict:dict, n_sample:int, n_copy:int, n_est:int):\\n    return calculate_distilled_expectation_value(nn_state, pauli_dict, n_sample, n_copy)[\"std_error\"]**2\\n'"
      ]
     },
     "execution_count": 6,
     "metadata": {},
     "output_type": "execute_result"
    }
   ],
   "source": [
    "def calculate_distilled_expectation_value(nn_state, pauli_dict: dict, num_samples: int, num_copies: int):\n",
    "    obs_num = GeneralPauliDistill(pauli_dict, num_copies)\n",
    "    obs_div = GeneralPauliDistill({}, num_copies)\n",
    "    num_stat = obs_num.statistics(nn_state, num_samples=num_samples)\n",
    "    div_stat = obs_div.statistics(nn_state, num_samples=num_samples)\n",
    "\n",
    "    from uncertainties import ufloat\n",
    "    num = ufloat(num_stat[\"mean\"], num_stat[\"std_error\"])\n",
    "    div = ufloat(div_stat[\"mean\"], div_stat[\"std_error\"])\n",
    "    val = num/div\n",
    "    result_dict = {\"mean\": val.n , \"std_error\": val.s, \"num_samples\": num_samples, \"num_copies\": num_copies}\n",
    "    return result_dict\n",
    "\n",
    "def bias(nn_state, pauli_dict:dict, n_sample:int, n_copy:int):\n",
    "    vd_ev = calculate_distilled_expectation_value(nn_state, pauli_dict, n_sample, n_copy)[\"mean\"]\n",
    "    ideal_state = Random_unitary(n_qubit, state_name, \"ideal\", error_rate)\n",
    "    ideal_ev = np.trace(observable_ZZ() @ ideal_state)\n",
    "    \n",
    "    return np.square(vd_ev-ideal_ev)\n",
    "\n",
    "\"\"\"\n",
    "def bias(nn_state, error_model, pauli_dict:dict, n_sample:int, n_copy:int):\n",
    "    vd_ev = calculate_distilled_expectation_value(nn_state, pauli_dict, n_sample, n_copy)[\"mean\"]\n",
    "    state = Random_unitary(n_qubit, state_name, error_model, error_rate)\n",
    "    me_vec = get_max_eigvec(state)\n",
    "    me_vec_ev = me_vec.T.conjugate()@observable_ZZ()@me_vec\n",
    "    \n",
    "    return np.abs(vd_ev-me_vec_ev)\n",
    "    \n",
    "\"\"\"\n",
    "\n",
    "def variance(nn_state, pauli_dict:dict, n_sample:int, n_copy:int, n_est:int):\n",
    "    est_val_list = []\n",
    "    for _ in range(n_est):\n",
    "        est_val_list.append(calculate_distilled_expectation_value(nn_state, pauli_dict, n_sample, n_copy)[\"mean\"])\n",
    "        \n",
    "    return np.var(est_val_list)\n",
    "\n",
    "def mse(bias_value, var_vale):\n",
    "    return bias_value + var_vale\n",
    "\n",
    "\"\"\"\n",
    "def variance(nn_state, pauli_dict:dict, n_sample:int, n_copy:int, n_est:int):\n",
    "    return calculate_distilled_expectation_value(nn_state, pauli_dict, n_sample, n_copy)[\"std_error\"]**2\n",
    "\"\"\""
   ]
  },
  {
   "cell_type": "code",
   "execution_count": 26,
   "id": "8ea1e625-c1a4-43a7-8063-04d30433125d",
   "metadata": {},
   "outputs": [],
   "source": [
    "def obs_stat(nn_state, error_model, pauli_dict:dict, n_sample:int, n_copy:int, n_est:int):\n",
    "    stat_dict = {}\n",
    "    est_val_array = np.empty([0])\n",
    "    for _ in tqdm(range(n_est)):\n",
    "        np.append(est_val_array, calculate_distilled_expectation_value(nn_state, pauli_dict, n_sample, n_copy)[\"mean\"])\n",
    "    \n",
    "    state = Random_unitary(n_qubit, state_name, error_model, error_rate)\n",
    "    me_vec = get_max_eigvec(state)\n",
    "    \n",
    "    stat_dict[\"bias\"] = np.abs((me_vec.T.conjugate()@observable_ZZ()@me_vec)-np.mean(est_val_array))\n",
    "    stat_dict[\"var\"] = np.var(est_val_array)\n",
    "    stat_dict[\"mae\"] = stat_dict[\"bias\"]**2 + stat_dict[\"var\"]\n",
    "    \n",
    "    return stat_dict"
   ]
  },
  {
   "cell_type": "code",
   "execution_count": 27,
   "id": "074f1af2-1730-457f-8759-45a7585b7f0a",
   "metadata": {},
   "outputs": [
    {
     "data": {
      "application/vnd.jupyter.widget-view+json": {
       "model_id": "ce571cfe309a432c8da6cac70ffa5819",
       "version_major": 2,
       "version_minor": 0
      },
      "text/plain": [
       "  0%|          | 0/5 [00:00<?, ?it/s]"
      ]
     },
     "metadata": {},
     "output_type": "display_data"
    },
    {
     "data": {
      "application/vnd.jupyter.widget-view+json": {
       "model_id": "4dea99bd3058471691882aaae21bfb80",
       "version_major": 2,
       "version_minor": 0
      },
      "text/plain": [
       "  0%|          | 0/100 [00:00<?, ?it/s]"
      ]
     },
     "metadata": {},
     "output_type": "display_data"
    },
    {
     "data": {
      "application/vnd.jupyter.widget-view+json": {
       "model_id": "9556dd9b0e0a469abaf4312778704f2d",
       "version_major": 2,
       "version_minor": 0
      },
      "text/plain": [
       "  0%|          | 0/100 [00:00<?, ?it/s]"
      ]
     },
     "metadata": {},
     "output_type": "display_data"
    },
    {
     "data": {
      "application/vnd.jupyter.widget-view+json": {
       "model_id": "0b1b3d2b0de24c34af6d6a770a0369aa",
       "version_major": 2,
       "version_minor": 0
      },
      "text/plain": [
       "  0%|          | 0/100 [00:00<?, ?it/s]"
      ]
     },
     "metadata": {},
     "output_type": "display_data"
    },
    {
     "ename": "KeyError",
     "evalue": "'mse'",
     "output_type": "error",
     "traceback": [
      "\u001b[0;31m---------------------------------------------------------------------------\u001b[0m",
      "\u001b[0;31mKeyError\u001b[0m                                  Traceback (most recent call last)",
      "Input \u001b[0;32mIn [27]\u001b[0m, in \u001b[0;36m<cell line: 10>\u001b[0;34m()\u001b[0m\n\u001b[1;32m     32\u001b[0m np\u001b[38;5;241m.\u001b[39mappend(var_uni_list, uni_stat_dict[\u001b[38;5;124m\"\u001b[39m\u001b[38;5;124mvar\u001b[39m\u001b[38;5;124m\"\u001b[39m])\n\u001b[1;32m     33\u001b[0m np\u001b[38;5;241m.\u001b[39mappend(var_dep_uni_list, dep_uni_stat_dict[\u001b[38;5;124m\"\u001b[39m\u001b[38;5;124mvar\u001b[39m\u001b[38;5;124m\"\u001b[39m])\n\u001b[0;32m---> 35\u001b[0m np\u001b[38;5;241m.\u001b[39mappend(mse_dep_list, \u001b[43mdep_stat_dict\u001b[49m\u001b[43m[\u001b[49m\u001b[38;5;124;43m\"\u001b[39;49m\u001b[38;5;124;43mmse\u001b[39;49m\u001b[38;5;124;43m\"\u001b[39;49m\u001b[43m]\u001b[49m)\n\u001b[1;32m     36\u001b[0m np\u001b[38;5;241m.\u001b[39mappend(mse_uni_list, uni_stat_dict[\u001b[38;5;124m\"\u001b[39m\u001b[38;5;124mmse\u001b[39m\u001b[38;5;124m\"\u001b[39m])\n\u001b[1;32m     37\u001b[0m np\u001b[38;5;241m.\u001b[39mappend(mse_dep_uni_list, dep_uni_stat_dict[\u001b[38;5;124m\"\u001b[39m\u001b[38;5;124mmse\u001b[39m\u001b[38;5;124m\"\u001b[39m])\n",
      "\u001b[0;31mKeyError\u001b[0m: 'mse'"
     ]
    }
   ],
   "source": [
    "nn_state_dep = DensityMatrix.autoload(f\"./model_dm/depolarizing/error_rate_{100*error_rate}%/num_of_data_{each_n_shot}/epoch500_model.pt\")\n",
    "nn_state_uni = DensityMatrix.autoload(f\"./model_dm/unitary/error_rate_{100*error_rate}%/num_of_data_{each_n_shot}/epoch500_model.pt\")\n",
    "nn_state_dep_uni = DensityMatrix.autoload(f\"./model_dm/depolarizing&unitary/error_rate_{100*error_rate}%/num_of_data_{each_n_shot}/epoch500_model.pt\")\n",
    "\n",
    "pauli_dict = {0:\"Z\", 1:\"Z\"}\n",
    "n_est = 100\n",
    "n_sample = 1000\n",
    "n_copy_list = [1, 2, 3, 4, 5]\n",
    "\n",
    "for n_copy in tqdm(n_copy_list):\n",
    "    bias_dep_list = np.empty([0])\n",
    "    bias_uni_list = np.empty([0])\n",
    "    bias_dep_uni_list = np.empty([0])\n",
    "    \n",
    "    var_dep_list = np.empty([0])\n",
    "    var_uni_list = np.empty([0])\n",
    "    var_dep_uni_list = np.empty([0])\n",
    "    \n",
    "    mse_dep_list = np.empty([0])\n",
    "    mse_uni_list = np.empty([0])\n",
    "    mse_dep_uni_list = np.empty([0])\n",
    "    \n",
    "    dep_stat_dict = obs_stat(nn_state_dep, \"depolarizing\", pauli_dict, n_sample, n_copy, n_est)\n",
    "    uni_stat_dict = obs_stat(nn_state_uni, \"unitary\", pauli_dict, n_sample, n_copy, n_est)\n",
    "    dep_uni_stat_dict = obs_stat(nn_state_dep_uni, \"depolarizing&unitary\", pauli_dict, n_sample, n_copy, n_est)\n",
    "    \n",
    "    np.append(bias_dep_list, dep_stat_dict[\"bias\"])\n",
    "    np.append(bias_uni_list, uni_stat_dict[\"bias\"])\n",
    "    np.append(bias_dep_uni_list, dep_uni_stat_dict[\"bias\"])\n",
    "    \n",
    "    np.append(var_dep_list, dep_stat_dict[\"var\"])\n",
    "    np.append(var_uni_list, uni_stat_dict[\"var\"])\n",
    "    np.append(var_dep_uni_list, dep_uni_stat_dict[\"var\"])\n",
    "    \n",
    "    np.append(mse_dep_list, dep_stat_dict[\"mse\"])\n",
    "    np.append(mse_uni_list, uni_stat_dict[\"mse\"])\n",
    "    np.append(mse_dep_uni_list, dep_uni_stat_dict[\"mse\"])\n",
    "    \n",
    "bias_data = [bias_dep_list, bias_uni_list, bias_dep_uni_list]\n",
    "ver_data = [var_dep_list, var_uni_list, var_dep_uni_list]\n",
    "mse_data = [mse_dep_list, mse_uni_list, mse_dep_uni_list]"
   ]
  },
  {
   "cell_type": "code",
   "execution_count": null,
   "id": "4ab36844-8379-4e2b-844d-d2a82417fc6f",
   "metadata": {},
   "outputs": [],
   "source": [
    "x = np.arange(1, 6)\n",
    "labels = [\"depolarizing\", \"unitary\", \"depolarizing&unitary\"]\n",
    "tick_label = np.arange(1, 6).astype(\"str\")\n",
    "margin = 0.2\n",
    "totoal_width = 1 - margin\n",
    "color_list = [\"red\", \"blue\", \"green\"]\n",
    "\n",
    "fig = plt.figure(figsize = (10,7))\n",
    "ax1 = fig.add_subplot(3, 1, 1)\n",
    "ax2 = fig.add_subplot(3, 1, 2)\n",
    "ax3 = fig.add_subplot(3, 1, 3)\n",
    "\n",
    "for i, (h, label, c) in enumerate(zip(bias_data, labels, color_list)):\n",
    "    pos = x - totoal_width * (1- (2*i+1)/len(bias_data))/2\n",
    "    ax1.bar(pos, h, width = totoal_width/len(bias_data), label=label, tick_label=tick_label, align=\"center\", color=c)\n",
    "\n",
    "ax1.title(f'varying number of quantum state copies (error rate:{error_rate*100}%)', fontsize=18)\n",
    "ax1.xlabel('number of quantum state copies', fontsize=18)\n",
    "ax1.ylabel('bias of expectation value $<Z_1 Z_2>$', fontsize=18)\n",
    "ax1.yscale('log')\n",
    "ax1.xticks(x, tick_label)\n",
    "ax1.tick_params(labelsize=15)\n",
    "ax1.grid(linestyle='dotted', linewidth=2)\n",
    "ax1.legend(labels, loc='center left', bbox_to_anchor=(1., .5), fontsize=15)"
   ]
  },
  {
   "cell_type": "code",
   "execution_count": 7,
   "id": "b03cabb2-8c6f-46ba-a805-a508c47c2346",
   "metadata": {},
   "outputs": [
    {
     "data": {
      "application/vnd.jupyter.widget-view+json": {
       "model_id": "c72bd6721ccb41b1acf49924a02f97ed",
       "version_major": 2,
       "version_minor": 0
      },
      "text/plain": [
       "  0%|          | 0/5 [00:00<?, ?it/s]"
      ]
     },
     "metadata": {},
     "output_type": "display_data"
    }
   ],
   "source": [
    "nn_state_dep = DensityMatrix.autoload(f\"./model_dm/depolarizing/error_rate_{100*error_rate}%/num_of_data_{each_n_shot}/epoch500_model.pt\")\n",
    "nn_state_uni = DensityMatrix.autoload(f\"./model_dm/unitary/error_rate_{100*error_rate}%/num_of_data_{each_n_shot}/epoch500_model.pt\")\n",
    "nn_state_dep_uni = DensityMatrix.autoload(f\"./model_dm/depolarizing&unitary/error_rate_{100*error_rate}%/num_of_data_{each_n_shot}/epoch500_model.pt\")\n",
    "pauli_dict = {0:\"Z\", 1:\"Z\"}\n",
    "\n",
    "bias_dep_list = []\n",
    "bias_uni_list = []\n",
    "bias_dep_uni_list = []\n",
    "n_copy_list = [1, 2, 3, 4, 5]\n",
    "\n",
    "for n_copy in tqdm(n_copy_list):\n",
    "    bias_dep = bias(nn_state_dep, pauli_dict, n_sample, n_copy)\n",
    "    bias_uni = bias(nn_state_uni, pauli_dict, n_sample, n_copy)\n",
    "    bias_dep_uni = bias(nn_state_uni, pauli_dict, n_sample, n_copy)\n",
    "    \n",
    "    bias_dep_list.append(bias_dep)\n",
    "    bias_uni_list.append(bias_uni)\n",
    "    bias_dep_uni_list.append(bias_dep_uni)\n",
    "\n",
    "bias_data = [bias_dep_list, bias_uni_list, bias_dep_uni_list]"
   ]
  },
  {
   "cell_type": "code",
   "execution_count": 8,
   "id": "b4e352eb-5933-4e2f-af95-639a98b5eab9",
   "metadata": {},
   "outputs": [
    {
     "data": {
      "text/plain": [
       "<matplotlib.legend.Legend at 0x7f37739baaf0>"
      ]
     },
     "execution_count": 8,
     "metadata": {},
     "output_type": "execute_result"
    },
    {
     "data": {
      "image/png": "[encoded data removed]",
      "text/plain": [
       "<Figure size 720x504 with 1 Axes>"
      ]
     },
     "metadata": {},
     "output_type": "display_data"
    }
   ],
   "source": [
    "x = np.arange(1, 6)\n",
    "labels = [\"depolarizing\", \"unitary\", \"depolarizing&unitary\"]\n",
    "tick_label = np.arange(1, 6).astype(\"str\")\n",
    "margin = 0.2\n",
    "totoal_width = 1 - margin\n",
    "color_list = [\"red\", \"blue\", \"green\"]\n",
    "plt.figure(figsize=(10, 7))\n",
    "\n",
    "for i, (h, label, c) in enumerate(zip(bias_data, labels, color_list)):\n",
    "    pos = x - totoal_width * (1- (2*i+1)/len(bias_data))/2\n",
    "    plt.bar(pos, h, width = totoal_width/len(bias_data), label=label, tick_label=tick_label, align=\"center\", color=c)\n",
    "\n",
    "plt.title(f'varying number of quantum state copies (error rate:{error_rate*100}%)', fontsize=18)\n",
    "plt.xlabel('number of quantum state copies', fontsize=18)\n",
    "plt.ylabel('bias of expectation value $<Z_1 Z_2>$', fontsize=18)\n",
    "plt.yscale('log')\n",
    "plt.xticks(x, tick_label)\n",
    "plt.tick_params(labelsize=15)\n",
    "plt.grid(linestyle='dotted', linewidth=2)\n",
    "plt.legend(labels, loc='center left', bbox_to_anchor=(1., .5), fontsize=15)"
   ]
  },
  {
   "cell_type": "code",
   "execution_count": 9,
   "id": "4822798c-12aa-4281-8bcb-4b372dd6863b",
   "metadata": {},
   "outputs": [
    {
     "data": {
      "application/vnd.jupyter.widget-view+json": {
       "model_id": "298b376ff7f241d4b008390415e5fd2b",
       "version_major": 2,
       "version_minor": 0
      },
      "text/plain": [
       "  0%|          | 0/5 [00:00<?, ?it/s]"
      ]
     },
     "metadata": {},
     "output_type": "display_data"
    }
   ],
   "source": [
    "var_dep_list = []\n",
    "var_uni_list = []\n",
    "var_dep_uni_list = []\n",
    "n_copy_list = [1, 2, 3, 4, 5]\n",
    "n_est = 100\n",
    "\n",
    "for n_copy in tqdm(n_copy_list):\n",
    "    var_dep = variance(nn_state_dep, pauli_dict, n_sample, n_copy, n_est)\n",
    "    var_uni = variance(nn_state_uni, pauli_dict, n_sample, n_copy, n_est)\n",
    "    var_dep_uni = variance(nn_state_uni, pauli_dict, n_sample, n_copy, n_est)\n",
    "    \n",
    "    var_dep_list.append(var_dep)\n",
    "    var_uni_list.append(var_uni)\n",
    "    var_dep_uni_list.append(var_dep_uni)\n",
    "\n",
    "var_data = [var_dep_list, var_uni_list, var_dep_uni_list]"
   ]
  },
  {
   "cell_type": "code",
   "execution_count": 13,
   "id": "aeb0c6fd-49ae-422f-a42f-784dd5f3d81b",
   "metadata": {},
   "outputs": [
    {
     "data": {
      "text/plain": [
       "<matplotlib.legend.Legend at 0x7f385037b9d0>"
      ]
     },
     "execution_count": 13,
     "metadata": {},
     "output_type": "execute_result"
    },
    {
     "data": {
      "image/png": "[encoded data removed]",
      "text/plain": [
       "<Figure size 720x504 with 1 Axes>"
      ]
     },
     "metadata": {},
     "output_type": "display_data"
    }
   ],
   "source": [
    "x = np.arange(1, 6)\n",
    "labels = [\"depolarizing\", \"unitary\", \"depolarizing&unitary\"]\n",
    "tick_label = np.arange(1, 6).astype(\"str\")\n",
    "margin = 0.2\n",
    "totoal_width = 1 - margin\n",
    "color_list = [\"red\", \"blue\", \"green\"]\n",
    "plt.figure(figsize=(10, 7))\n",
    "\n",
    "for i, (h, label, c) in enumerate(zip(var_data, labels, color_list)):\n",
    "    pos = x - totoal_width * (1- (2*i+1)/len(var_data))/2\n",
    "    plt.bar(pos, h, width = totoal_width/len(var_data), label=label, tick_label=tick_label, align=\"center\", color=c)\n",
    "\n",
    "plt.title(f'varying number of quantum state copies (error rate:{error_rate*100}%)', fontsize=18)\n",
    "plt.xlabel('number of quantum state copies', fontsize=18)\n",
    "plt.ylabel('variance of expectation value $<Z_1 Z_2>$', fontsize=18)\n",
    "plt.xticks(x, tick_label)\n",
    "plt.yscale('log')\n",
    "plt.tick_params(labelsize=15)\n",
    "plt.grid(linestyle='dotted', linewidth=2)\n",
    "plt.legend(labels, loc='center left', bbox_to_anchor=(1., .5), fontsize=15)"
   ]
  },
  {
   "cell_type": "code",
   "execution_count": 11,
   "id": "208c2542-abc7-433b-a9e9-1510c9bfbef0",
   "metadata": {},
   "outputs": [],
   "source": [
    "mse_data = [np.array(bias_dep_list)+np.array(var_dep_list),\n",
    "            np.array(bias_uni_list)+np.array(var_uni_list),\n",
    "            np.array(bias_dep_uni_list)+np.array(var_dep_uni_list)]"
   ]
  },
  {
   "cell_type": "code",
   "execution_count": 14,
   "id": "2e47a304-4819-4178-969c-db086d2ae859",
   "metadata": {},
   "outputs": [
    {
     "data": {
      "text/plain": [
       "<matplotlib.legend.Legend at 0x7f385028c7c0>"
      ]
     },
     "execution_count": 14,
     "metadata": {},
     "output_type": "execute_result"
    },
    {
     "data": {
      "image/png": "[encoded data removed]",
      "text/plain": [
       "<Figure size 720x504 with 1 Axes>"
      ]
     },
     "metadata": {},
     "output_type": "display_data"
    }
   ],
   "source": [
    "x = np.arange(1, 6)\n",
    "labels = [\"depolarizing\", \"unitary\", \"depolarizing&unitary\"]\n",
    "tick_label = np.arange(1, 6).astype(\"str\")\n",
    "margin = 0.2\n",
    "totoal_width = 1 - margin\n",
    "color_list = [\"red\", \"blue\", \"green\"]\n",
    "plt.figure(figsize=(10, 7))\n",
    "\n",
    "for i, (h, label, c) in enumerate(zip(mse_data, labels, color_list)):\n",
    "    pos = x - totoal_width * (1- (2*i+1)/len(mse_data))/2\n",
    "    plt.bar(pos, h, width = totoal_width/len(mse_data), label=label, tick_label=tick_label, align=\"center\", color=c)\n",
    "\n",
    "plt.title(f'varying number of quantum state copies (error rate:{error_rate*100}%)', fontsize=18)\n",
    "plt.xlabel('number of quantum state copies', fontsize=18)\n",
    "plt.ylabel('MSE of expectation value $<Z_1 Z_2>$', fontsize=18)\n",
    "plt.xticks(x, tick_label)\n",
    "plt.yscale('log')\n",
    "plt.tick_params(labelsize=15)\n",
    "plt.grid(linestyle='dotted', linewidth=2)\n",
    "plt.legend(labels, loc='center left', bbox_to_anchor=(1., .5), fontsize=15)"
   ]
  },
  {
   "cell_type": "code",
   "execution_count": null,
   "id": "754d0eba-f528-4a84-abb1-a2922a98a487",
   "metadata": {},
   "outputs": [],
   "source": []
  }
 ],
 "metadata": {
  "kernelspec": {
   "display_name": "Python 3 (ipykernel)",
   "language": "python",
   "name": "python3"
  },
  "language_info": {
   "codemirror_mode": {
    "name": "ipython",
    "version": 3
   },
   "file_extension": ".py",
   "mimetype": "text/x-python",
   "name": "python",
   "nbconvert_exporter": "python",
   "pygments_lexer": "ipython3",
   "version": "3.9.10"
  }
 },
 "nbformat": 4,
 "nbformat_minor": 5
}

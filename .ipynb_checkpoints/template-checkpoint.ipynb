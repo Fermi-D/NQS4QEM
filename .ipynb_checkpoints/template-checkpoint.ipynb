{
 "cells": [
  {
   "cell_type": "markdown",
   "id": "6893744e-c8ee-4068-bb71-2e93cfbd1d6d",
   "metadata": {},
   "source": [
    "## import library"
   ]
  },
  {
   "cell_type": "code",
   "execution_count": null,
   "id": "cd0bd3c1-df61-479d-9e35-12944c454945",
   "metadata": {},
   "outputs": [],
   "source": [
    "import numpy as np\n",
    "import pandas as pd\n",
    "import matplotlib.pyplot\n",
    "import yaml\n",
    "\n",
    "from PyQNE import target_circuit\n",
    "from "
   ]
  },
  {
   "cell_type": "markdown",
   "id": "98e50650-06b6-4b14-bfdc-5c54aa865ebc",
   "metadata": {},
   "source": [
    "## load parameter's file(yaml) & settings"
   ]
  },
  {
   "cell_type": "code",
   "execution_count": null,
   "id": "b3853317-3685-443a-ad48-0b5cca2351e9",
   "metadata": {},
   "outputs": [],
   "source": [
    "with open('./params_setting_template.yaml', 'r') as yml:\n",
    "    params = yaml.safe_load(yml)"
   ]
  },
  {
   "cell_type": "code",
   "execution_count": null,
   "id": "ee32903f-68e7-49a5-9148-a1d66a2e6ced",
   "metadata": {},
   "outputs": [],
   "source": [
    "# quantum circuit parameter\n",
    "n_qubit = params[\"circuit_info\"][\"n_qubit\"]\n",
    "n_shot = params[\"circuit_info\"][\"n_shot\"]\n",
    "state_name = params[\"circuit_info\"][\"state_name\"]\n",
    "noise_model = params[\"circuit_info\"][\"noise_model\"]\n",
    "error_rate = params[\"circuit_info\"][\"error_rate\"]\n",
    "# RBM architecture parameter\n",
    "n_visible_unit = params[\"architecture_info\"][\"error_rate\"]\n",
    "n_hidden_unit = params[\"architecture_info\"][\"error_rate\"] \n",
    "n_aux_unit = params[\"architecture_info\"] \n",
    "# train parameter\n",
    "dm_lr = 10 \n",
    "sv_lr = 0.1 \n",
    "pbs = 1000  \n",
    "nbs = 1000  \n",
    "k = 100 \n",
    "period = 1\n",
    "epochs = 500\n",
    "dm_lr_drop_epoch = 10\n",
    "dm_lr_drop_factor = 0.9\n",
    "sv_lr_drop_epoch = 10\n",
    "sv_lr_drop_factor = 0.9\n",
    "# sampling parameter\n",
    "max_dist = 5\n",
    "seed = 42"
   ]
  },
  {
   "cell_type": "markdown",
   "id": "8a304c4a-8ee6-491d-810e-24412e6cffca",
   "metadata": {},
   "source": [
    "## generate train data"
   ]
  },
  {
   "cell_type": "code",
   "execution_count": null,
   "id": "363fb1e8-594a-4dde-bf60-3b061ad82ceb",
   "metadata": {},
   "outputs": [],
   "source": []
  },
  {
   "cell_type": "markdown",
   "id": "c5022661-5dfd-4e0d-b0ce-d3c4910a20f1",
   "metadata": {},
   "source": [
    "## load train data"
   ]
  },
  {
   "cell_type": "code",
   "execution_count": null,
   "id": "1db54d06-9acf-4c63-a318-ece09914a903",
   "metadata": {},
   "outputs": [],
   "source": []
  },
  {
   "cell_type": "markdown",
   "id": "abf8354a-f92e-410d-830c-4be1e4726254",
   "metadata": {},
   "source": [
    "## build RBM model"
   ]
  },
  {
   "cell_type": "code",
   "execution_count": null,
   "id": "5f64c5e7-8e77-4b92-96f7-4818a38aad7b",
   "metadata": {},
   "outputs": [],
   "source": []
  },
  {
   "cell_type": "markdown",
   "id": "8a8d1812-7dd3-4857-8362-1374dfdfac0f",
   "metadata": {},
   "source": [
    "## train"
   ]
  },
  {
   "cell_type": "code",
   "execution_count": null,
   "id": "8cb49466-556f-42aa-b90d-6775371a9d6f",
   "metadata": {},
   "outputs": [],
   "source": []
  },
  {
   "cell_type": "markdown",
   "id": "9f6bc1b0-bd99-4424-9b48-7d1925a39b0c",
   "metadata": {},
   "source": [
    "## evaluation"
   ]
  },
  {
   "cell_type": "code",
   "execution_count": null,
   "id": "382362b4-7ace-4bad-91ca-09f874ec25f0",
   "metadata": {},
   "outputs": [],
   "source": []
  }
 ],
 "metadata": {
  "kernelspec": {
   "display_name": "Python 3 (ipykernel)",
   "language": "python",
   "name": "python3"
  },
  "language_info": {
   "codemirror_mode": {
    "name": "ipython",
    "version": 3
   },
   "file_extension": ".py",
   "mimetype": "text/x-python",
   "name": "python",
   "nbconvert_exporter": "python",
   "pygments_lexer": "ipython3",
   "version": "3.9.10"
  }
 },
 "nbformat": 4,
 "nbformat_minor": 5
}

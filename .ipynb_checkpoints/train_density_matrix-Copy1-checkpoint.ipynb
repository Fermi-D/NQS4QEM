{
 "cells": [
  {
   "cell_type": "markdown",
   "id": "220187f1-f67e-4390-9def-91a328c6847b",
   "metadata": {},
   "source": [
    "## import module"
   ]
  },
  {
   "cell_type": "code",
   "execution_count": 1,
   "id": "0b813e39-af7b-4a4f-b811-20a61cab25b8",
   "metadata": {},
   "outputs": [],
   "source": [
    "import os\n",
    "import subprocess\n",
    "import random\n",
    "import warnings\n",
    "import numpy as np\n",
    "from scipy.linalg import sqrtm\n",
    "from scipy.stats import unitary_group\n",
    "import pandas as pd\n",
    "import yaml\n",
    "from tqdm.notebook import tqdm\n",
    "import itertools\n",
    "\n",
    "import torch\n",
    "from qucumber.nn_states import DensityMatrix\n",
    "from qucumber.callbacks import MetricEvaluator\n",
    "import qucumber.utils.unitaries as unitaries\n",
    "import qucumber.utils.training_statistics as ts\n",
    "import qucumber.utils.cplx as cplx\n",
    "import qucumber.utils.data as data\n",
    "from qucumber.observables import ObservableBase, to_pm1\n",
    "from qucumber.observables.pauli import flip_spin\n",
    "import qucumber\n",
    "\n",
    "from qulacs.gate import Pauli\n",
    "\n",
    "%load_ext autoreload\n",
    "%autoreload 2\n",
    "import utils\n",
    "import gate\n",
    "import measurement\n",
    "import target_circuit\n",
    "import dataset"
   ]
  },
  {
   "cell_type": "markdown",
   "id": "7e13042f-d19c-417f-9629-e154331b65da",
   "metadata": {},
   "source": [
    "## setting params"
   ]
  },
  {
   "cell_type": "code",
   "execution_count": 2,
   "id": "367edbdf-1b70-4984-aa85-02ef129ba80f",
   "metadata": {},
   "outputs": [],
   "source": [
    "with open('./params_setting.yaml', 'r') as yml:\n",
    "    params = yaml.safe_load(yml)\n",
    "    \n",
    "# quantum circuit parameter\n",
    "circuit_name = params[\"circuit_info\"][\"circuit_name\"]\n",
    "n_qubit = params[\"circuit_info\"][\"n_qubit\"]\n",
    "state_class = params[\"circuit_info\"][\"state_class\"]\n",
    "error_model = params[\"circuit_info\"][\"error_model\"]\n",
    "error_rate = params[\"circuit_info\"][\"error_rate\"]\n",
    "each_n_shot = params[\"circuit_info\"][\"each_n_shot\"]\n",
    "\n",
    "# RBM architecture parameter\n",
    "num_visible = params[\"architecture_info\"][\"n_visible_unit\"]\n",
    "num_hidden = params[\"architecture_info\"][\"n_hidden_unit\"] \n",
    "num_aux = params[\"architecture_info\"][\"n_aux_unit\"]\n",
    "\n",
    "# train parameter\n",
    "lr = params[\"train_info\"][\"lr\"]\n",
    "pbs = params[\"train_info\"][\"positive_batch_size\"]\n",
    "nbs = params[\"train_info\"][\"negative_batch_size\"]\n",
    "n_gibbs_step = params[\"train_info\"][\"n_gibbs_step\"]\n",
    "period = 1\n",
    "epoch = params[\"train_info\"][\"n_epoch\"]\n",
    "lr_drop_epoch = params[\"train_info\"][\"lr_drop_epoch\"]\n",
    "lr_drop_factor = params[\"train_info\"][\"lr_drop_factor\"]\n",
    "use_gpu = params[\"train_info\"][\"use_gpu\"]\n",
    "seed = params[\"train_info\"][\"seed\"]\n",
    "\n",
    "# sampling parameter\n",
    "n_sampling = params[\"sampling_info\"][\"n_sample\"]\n",
    "n_copy = params[\"sampling_info\"][\"n_copy\"]\n",
    "\n",
    "# data path info\n",
    "environment = \"local\"\n",
    "if environment == \"local\":\n",
    "    train_data_path = f\"./{circuit_name}/data/{n_qubit}-qubit/{error_model}/p={100*error_rate}%/each_{each_n_shot}_shot/\"\n",
    "    target_state_path = f\"./{circuit_name}/target_state/{state_class}/{n_qubit}-qubit/{error_model}/p={100*error_rate}%/\"\n",
    "    model_path = f\"./{circuit_name}/model/{state_class}/{n_qubit}-qubit/{error_model}/p={100*error_rate}%/each_{each_n_shot}_shot/\"\n",
    "    train_log_path = f\"./{circuit_name}/train_log/{n_qubit}-qubit/{error_model}/p={100*error_rate}%/each_{each_n_shot}_shot/\"\n",
    "if environment == \"colab\":\n",
    "    from google.colab import drive\n",
    "    drive.mount(\"/content/drive/\")\n",
    "    drive_path = \"/content/drive/MyDrive/NQS4VD/GHZ\"\n",
    "    train_data_path = drive_path + f\"/{circuit_name}/data/{n_qubit}-qubit/{error_model}/p={100*error_rate}%/each_{each_n_shot}_shot/\"\n",
    "    target_state_path = drive_path + f\"/{circuit_name}/target_state/{state_class}/{n_qubit}-qubit/{error_model}/p={100*error_rate}%/\"\n",
    "    model_path = drive_path + f\"/{circuit_name}/model/{state_class}/{n_qubit}-qubit/{error_model}/p={100*error_rate}%/each_{each_n_shot}_shot/\"\n",
    "    train_log_path = drive_path + f\"/{circuit_name}/train_log/{n_qubit}-qubit/{error_model}/p={100*error_rate}%/each_{each_n_shot}_shot/\"\n",
    "\n",
    "\n",
    "def seed_settings(seed=42):\n",
    "    random.seed(seed)\n",
    "    os.environ['PYTHONHASHSEED'] = str(seed)\n",
    "    np.random.seed(seed)\n",
    "    torch.manual_seed(seed)\n",
    "    qucumber.set_random_seed(seed, cpu=True, gpu=False)\n",
    "\n",
    "seed_settings(seed=seed)"
   ]
  },
  {
   "cell_type": "markdown",
   "id": "f74264d6-bf22-4ece-834d-8e9d530781d3",
   "metadata": {},
   "source": [
    "## generate dataset"
   ]
  },
  {
   "cell_type": "code",
   "execution_count": 3,
   "id": "8c4f1e5c-e0a1-4657-96ac-e9fe2d733de4",
   "metadata": {
    "scrolled": true,
    "tags": []
   },
   "outputs": [
    {
     "name": "stderr",
     "output_type": "stream",
     "text": [
      "0it [00:00, ?it/s]"
     ]
    },
    {
     "name": "stdout",
     "output_type": "stream",
     "text": [
      "measurement pattern 1/9 : ('X', 'X')\n"
     ]
    },
    {
     "name": "stderr",
     "output_type": "stream",
     "text": [
      "\n",
      "  0%|                                                                               | 0/1000 [00:00<?, ?it/s]\u001b[A\n",
      "100%|██████████████████████████████████████████████████████████████████| 1000/1000 [00:00<00:00, 5540.77it/s]\u001b[A\n",
      "1it [00:00,  5.44it/s]"
     ]
    },
    {
     "name": "stdout",
     "output_type": "stream",
     "text": [
      "measurement pattern 2/9 : ('X', 'Y')\n"
     ]
    },
    {
     "name": "stderr",
     "output_type": "stream",
     "text": [
      "\n",
      "  0%|                                                                               | 0/1000 [00:00<?, ?it/s]\u001b[A\n",
      "100%|██████████████████████████████████████████████████████████████████| 1000/1000 [00:00<00:00, 5103.35it/s]\u001b[A\n",
      "2it [00:00,  5.17it/s]"
     ]
    },
    {
     "name": "stdout",
     "output_type": "stream",
     "text": [
      "measurement pattern 3/9 : ('X', 'Z')\n"
     ]
    },
    {
     "name": "stderr",
     "output_type": "stream",
     "text": [
      "\n",
      "  0%|                                                                               | 0/1000 [00:00<?, ?it/s]\u001b[A\n",
      "100%|██████████████████████████████████████████████████████████████████| 1000/1000 [00:00<00:00, 5671.75it/s]\u001b[A\n",
      "3it [00:00,  5.35it/s]"
     ]
    },
    {
     "name": "stdout",
     "output_type": "stream",
     "text": [
      "measurement pattern 4/9 : ('Y', 'X')\n"
     ]
    },
    {
     "name": "stderr",
     "output_type": "stream",
     "text": [
      "\n",
      "  0%|                                                                               | 0/1000 [00:00<?, ?it/s]\u001b[A\n",
      " 48%|████████████████████████████████                                   | 478/1000 [00:00<00:00, 4769.78it/s]\u001b[A\n",
      "100%|██████████████████████████████████████████████████████████████████| 1000/1000 [00:00<00:00, 4829.42it/s]\u001b[A\n",
      "4it [00:00,  5.09it/s]"
     ]
    },
    {
     "name": "stdout",
     "output_type": "stream",
     "text": [
      "measurement pattern 5/9 : ('Y', 'Y')\n"
     ]
    },
    {
     "name": "stderr",
     "output_type": "stream",
     "text": [
      "\n",
      "  0%|                                                                               | 0/1000 [00:00<?, ?it/s]\u001b[A\n",
      "100%|██████████████████████████████████████████████████████████████████| 1000/1000 [00:00<00:00, 5097.75it/s]\u001b[A\n",
      "5it [00:00,  5.06it/s]"
     ]
    },
    {
     "name": "stdout",
     "output_type": "stream",
     "text": [
      "measurement pattern 6/9 : ('Y', 'Z')\n"
     ]
    },
    {
     "name": "stderr",
     "output_type": "stream",
     "text": [
      "\n",
      "  0%|                                                                               | 0/1000 [00:00<?, ?it/s]\u001b[A\n",
      "100%|██████████████████████████████████████████████████████████████████| 1000/1000 [00:00<00:00, 5001.61it/s]\u001b[A\n",
      "6it [00:01,  5.01it/s]"
     ]
    },
    {
     "name": "stdout",
     "output_type": "stream",
     "text": [
      "measurement pattern 7/9 : ('Z', 'X')\n"
     ]
    },
    {
     "name": "stderr",
     "output_type": "stream",
     "text": [
      "\n",
      "  0%|                                                                               | 0/1000 [00:00<?, ?it/s]\u001b[A\n",
      "100%|██████████████████████████████████████████████████████████████████| 1000/1000 [00:00<00:00, 5606.94it/s]\u001b[A\n",
      "7it [00:01,  5.16it/s]"
     ]
    },
    {
     "name": "stdout",
     "output_type": "stream",
     "text": [
      "measurement pattern 8/9 : ('Z', 'Y')\n"
     ]
    },
    {
     "name": "stderr",
     "output_type": "stream",
     "text": [
      "\n",
      "  0%|                                                                               | 0/1000 [00:00<?, ?it/s]\u001b[A\n",
      "100%|██████████████████████████████████████████████████████████████████| 1000/1000 [00:00<00:00, 5081.78it/s]\u001b[A\n",
      "8it [00:01,  5.10it/s]"
     ]
    },
    {
     "name": "stdout",
     "output_type": "stream",
     "text": [
      "measurement pattern 9/9 : ('Z', 'Z')\n"
     ]
    },
    {
     "name": "stderr",
     "output_type": "stream",
     "text": [
      "\n",
      "  0%|                                                                               | 0/1000 [00:00<?, ?it/s]\u001b[A\n",
      "100%|██████████████████████████████████████████████████████████████████| 1000/1000 [00:00<00:00, 5498.67it/s]\u001b[A\n",
      "9it [00:01,  5.16it/s]\n"
     ]
    }
   ],
   "source": [
    "target_state = target_circuit.GHZ(n_qubit, state_class, error_model, error_rate)\n",
    "utils.save_density_matrix(target_state, target_state_path)\n",
    "meas_pattern_df, train_df = dataset.generate(target_state, n_qubit, error_model, each_n_shot)\n",
    "dataset.save(meas_pattern_df, train_df, train_data_path)"
   ]
  },
  {
   "cell_type": "markdown",
   "id": "f8b6974f-1e2f-4bd4-a3ae-c534528d78a6",
   "metadata": {},
   "source": [
    "## load dataset"
   ]
  },
  {
   "cell_type": "code",
   "execution_count": 4,
   "id": "40b334d2-343a-4a92-b37a-229e0a470d71",
   "metadata": {},
   "outputs": [],
   "source": [
    "meas_result, target_rho, meas_label, meas_pattern = utils.load_dataset_DM(train_data_path, target_state_path)"
   ]
  },
  {
   "cell_type": "markdown",
   "id": "262d49c8-188a-49d4-8749-d72b1079200a",
   "metadata": {},
   "source": [
    "## callback settings"
   ]
  },
  {
   "cell_type": "code",
   "execution_count": 5,
   "id": "559d3a71-cdde-4b8a-8ea6-357d8eb8d076",
   "metadata": {},
   "outputs": [],
   "source": [
    "n_on_epoch = 1\n",
    "def save_model(nn_state, **kwargs):\n",
    "    global n_on_epoch\n",
    "    os.makedirs(model_path, exist_ok = True)\n",
    "    nn_state.save(model_path + f\"epoch{n_on_epoch}_model.pt\")\n",
    "    n_on_epoch = n_on_epoch + 1\n",
    "\n",
    "def F_ideal_train(nn_state, **kwargs):\n",
    "    save_model(nn_state)\n",
    "    ideal_state = target_circuit.GHZ(n_qubit, state_class, \"ideal\", error_rate)\n",
    "    train_state = utils.get_density_matrix(nn_state)\n",
    "    F = np.trace(sqrtm(sqrtm(ideal_state)@train_state@sqrtm(ideal_state)))\n",
    "    \n",
    "    return (F.real)**2\n",
    "\n",
    "def F_noisy_train(nn_state, **kwargs):\n",
    "    noisy_state = target_circuit.GHZ(n_qubit, state_class, error_model, error_rate)\n",
    "    train_state = utils.get_density_matrix(nn_state)\n",
    "    F = np.trace(sqrtm(sqrtm(noisy_state)@train_state@sqrtm(noisy_state)))\n",
    "    \n",
    "    return (F.real)**2\n",
    "    \n",
    "def F_ideal_mevec(nn_state, **kwargs):\n",
    "    ideal_state = target_circuit.GHZ(n_qubit, state_class, \"ideal\", error_rate)\n",
    "    train_state = utils.get_density_matrix(nn_state)\n",
    "    max_eigen_state = utils.get_max_eigen_vector(train_state)\n",
    "    F = max_eigen_state.T.conjugate()@ideal_state@max_eigen_state\n",
    "    \n",
    "    return F.real\n",
    "\n",
    "def create_callback(nn_state):\n",
    "    metric_dict = {\n",
    "        \"ideal_train\": F_ideal_train,\n",
    "        \"noisy_train\": F_noisy_train,\n",
    "        \"ideal_mevec\": F_ideal_mevec,\n",
    "        \"KL_Divergence\": ts.KL,\n",
    "    }\n",
    "    space = nn_state.generate_hilbert_space()\n",
    "    callbacks = [\n",
    "        MetricEvaluator(\n",
    "            period,\n",
    "            metric_dict,\n",
    "            target = target_rho,\n",
    "            bases = meas_pattern,\n",
    "            verbose = True,\n",
    "            space = space,\n",
    "        )\n",
    "    ]\n",
    "    \n",
    "    return callbacks"
   ]
  },
  {
   "cell_type": "code",
   "execution_count": 6,
   "id": "0ff1fa02-aeb5-49fb-8fbc-6370c49f19d8",
   "metadata": {},
   "outputs": [],
   "source": [
    "nn_state = DensityMatrix(num_visible = num_visible, num_hidden = num_hidden, num_aux = num_aux, unitary_dict = unitaries.create_dict(), gpu = use_gpu)\n",
    "callbacks = create_callback(nn_state)"
   ]
  },
  {
   "cell_type": "markdown",
   "id": "f675ad15-85c7-4de4-a52e-2d8572b7046b",
   "metadata": {},
   "source": [
    "## train"
   ]
  },
  {
   "cell_type": "code",
   "execution_count": null,
   "id": "b4967b7b-9b10-469e-99b4-c0bf72d6f0ab",
   "metadata": {},
   "outputs": [
    {
     "name": "stdout",
     "output_type": "stream",
     "text": [
      "Epoch: 1\tideal_train = 0.218662\tnoisy_train = 0.369453\tideal_mevec = 0.222398\tKL_Divergence = 0.398826\n",
      "Epoch: 2\tideal_train = 0.343030\tnoisy_train = 0.536808\tideal_mevec = 0.446665\tKL_Divergence = 0.267785\n",
      "Epoch: 3\tideal_train = 0.415663\tnoisy_train = 0.636183\tideal_mevec = 0.734004\tKL_Divergence = 0.173181\n",
      "Epoch: 4\tideal_train = 0.451689\tnoisy_train = 0.677008\tideal_mevec = 0.784130\tKL_Divergence = 0.139552\n",
      "Epoch: 5\tideal_train = 0.474835\tnoisy_train = 0.703161\tideal_mevec = 0.870293\tKL_Divergence = 0.118014\n",
      "Epoch: 6\tideal_train = 0.495507\tnoisy_train = 0.724166\tideal_mevec = 0.952477\tKL_Divergence = 0.103460\n",
      "Epoch: 7\tideal_train = 0.516644\tnoisy_train = 0.743573\tideal_mevec = 0.913865\tKL_Divergence = 0.095999\n",
      "Epoch: 8\tideal_train = 0.535913\tnoisy_train = 0.762262\tideal_mevec = 0.982214\tKL_Divergence = 0.083988\n",
      "Epoch: 9\tideal_train = 0.550413\tnoisy_train = 0.768634\tideal_mevec = 0.827352\tKL_Divergence = 0.099255\n",
      "Epoch: 10\tideal_train = 0.569438\tnoisy_train = 0.797132\tideal_mevec = 0.981203\tKL_Divergence = 0.071510\n",
      "Epoch: 11\tideal_train = 0.580456\tnoisy_train = 0.800841\tideal_mevec = 0.906386\tKL_Divergence = 0.082858\n",
      "Epoch: 12\tideal_train = 0.602449\tnoisy_train = 0.827772\tideal_mevec = 0.986792\tKL_Divergence = 0.060257\n",
      "Epoch: 13\tideal_train = 0.619973\tnoisy_train = 0.840880\tideal_mevec = 0.972073\tKL_Divergence = 0.059372\n",
      "Epoch: 14\tideal_train = 0.639653\tnoisy_train = 0.852482\tideal_mevec = 0.945037\tKL_Divergence = 0.064715\n",
      "Epoch: 15\tideal_train = 0.663286\tnoisy_train = 0.876804\tideal_mevec = 0.989728\tKL_Divergence = 0.044058\n",
      "Epoch: 16\tideal_train = 0.685877\tnoisy_train = 0.892878\tideal_mevec = 0.992113\tKL_Divergence = 0.039299\n",
      "Epoch: 17\tideal_train = 0.700518\tnoisy_train = 0.901320\tideal_mevec = 0.985532\tKL_Divergence = 0.037790\n",
      "Epoch: 18\tideal_train = 0.721608\tnoisy_train = 0.916224\tideal_mevec = 0.992031\tKL_Divergence = 0.031150\n",
      "Epoch: 19\tideal_train = 0.736337\tnoisy_train = 0.923383\tideal_mevec = 0.986228\tKL_Divergence = 0.032257\n",
      "Epoch: 20\tideal_train = 0.747446\tnoisy_train = 0.926353\tideal_mevec = 0.975760\tKL_Divergence = 0.033721\n",
      "Epoch: 21\tideal_train = 0.767674\tnoisy_train = 0.942598\tideal_mevec = 0.993504\tKL_Divergence = 0.021926\n",
      "Epoch: 22\tideal_train = 0.776802\tnoisy_train = 0.946273\tideal_mevec = 0.991208\tKL_Divergence = 0.020429\n",
      "Epoch: 23\tideal_train = 0.788259\tnoisy_train = 0.951121\tideal_mevec = 0.990693\tKL_Divergence = 0.020410\n",
      "Epoch: 24\tideal_train = 0.798212\tnoisy_train = 0.955490\tideal_mevec = 0.991224\tKL_Divergence = 0.017468\n",
      "Epoch: 25\tideal_train = 0.813417\tnoisy_train = 0.963833\tideal_mevec = 0.994220\tKL_Divergence = 0.013880\n",
      "Epoch: 26\tideal_train = 0.824964\tnoisy_train = 0.969484\tideal_mevec = 0.996437\tKL_Divergence = 0.011094\n",
      "Epoch: 27\tideal_train = 0.831018\tnoisy_train = 0.969131\tideal_mevec = 0.991415\tKL_Divergence = 0.013590\n",
      "Epoch: 28\tideal_train = 0.837410\tnoisy_train = 0.971855\tideal_mevec = 0.994224\tKL_Divergence = 0.012035\n",
      "Epoch: 29\tideal_train = 0.846509\tnoisy_train = 0.975925\tideal_mevec = 0.995986\tKL_Divergence = 0.009075\n",
      "Epoch: 30\tideal_train = 0.850541\tnoisy_train = 0.975512\tideal_mevec = 0.993298\tKL_Divergence = 0.009237\n",
      "Epoch: 31\tideal_train = 0.859767\tnoisy_train = 0.980772\tideal_mevec = 0.997874\tKL_Divergence = 0.006224\n",
      "Epoch: 32\tideal_train = 0.858349\tnoisy_train = 0.974938\tideal_mevec = 0.989079\tKL_Divergence = 0.011920\n",
      "Epoch: 33\tideal_train = 0.868888\tnoisy_train = 0.982484\tideal_mevec = 0.998082\tKL_Divergence = 0.005049\n",
      "Epoch: 34\tideal_train = 0.873945\tnoisy_train = 0.983741\tideal_mevec = 0.998398\tKL_Divergence = 0.004454\n",
      "Epoch: 35\tideal_train = 0.877552\tnoisy_train = 0.983502\tideal_mevec = 0.996469\tKL_Divergence = 0.005325\n",
      "Epoch: 36\tideal_train = 0.879708\tnoisy_train = 0.982223\tideal_mevec = 0.994346\tKL_Divergence = 0.007603\n",
      "Epoch: 37\tideal_train = 0.877680\tnoisy_train = 0.978050\tideal_mevec = 0.988327\tKL_Divergence = 0.007223\n",
      "Epoch: 38\tideal_train = 0.883902\tnoisy_train = 0.980719\tideal_mevec = 0.990889\tKL_Divergence = 0.007210\n",
      "Epoch: 39\tideal_train = 0.888826\tnoisy_train = 0.983135\tideal_mevec = 0.993650\tKL_Divergence = 0.005444\n",
      "Epoch: 40\tideal_train = 0.893126\tnoisy_train = 0.985568\tideal_mevec = 0.997020\tKL_Divergence = 0.003189\n",
      "Epoch: 41\tideal_train = 0.896079\tnoisy_train = 0.985907\tideal_mevec = 0.996568\tKL_Divergence = 0.004520\n"
     ]
    }
   ],
   "source": [
    "nn_state.fit(\n",
    "    data = meas_result,\n",
    "    input_bases = meas_label,\n",
    "    epochs = epoch,\n",
    "    pos_batch_size = pbs,\n",
    "    neg_batch_size = nbs,\n",
    "    lr = lr,\n",
    "    k = n_gibbs_step,\n",
    "    bases = meas_pattern,\n",
    "    callbacks = callbacks,\n",
    "    time = True,\n",
    "    optimizer = torch.optim.Adadelta,\n",
    "    scheduler = torch.optim.lr_scheduler.StepLR,\n",
    "    scheduler_args = {\"step_size\": lr_drop_epoch, \"gamma\": lr_drop_factor},\n",
    ")"
   ]
  },
  {
   "cell_type": "markdown",
   "id": "3221eb9e-7d57-4b0f-892d-364b660dfda6",
   "metadata": {},
   "source": [
    "## save train log"
   ]
  },
  {
   "cell_type": "code",
   "execution_count": null,
   "id": "5997bda9-975b-46cd-92c6-b0ba942e83e9",
   "metadata": {},
   "outputs": [],
   "source": [
    "os.makedirs(train_log_path, exist_ok = True)\n",
    "train_log_df = pd.DataFrame()\n",
    "train_log_df[\"epoch\"] = np.arange(1, epoch+1, period)\n",
    "train_log_df[\"F_ideal_train\"] = callbacks[0][\"F_ideal_train\"]\n",
    "train_log_df[\"F_noisy_train\"] = callbacks[0][\"F_noisy_train\"]\n",
    "train_log_df[\"F_ideal_meve\"] = callbacks[0][\"F_ideal_mevec\"]\n",
    "train_log_df[\"KL_Divergence\"] = callbacks[0][\"KL_Divergence\"]\n",
    "train_log_df.to_csv(train_log_path + \"train_log.csv\", index=False)"
   ]
  }
 ],
 "metadata": {
  "kernelspec": {
   "display_name": "Python 3 (ipykernel)",
   "language": "python",
   "name": "python3"
  },
  "language_info": {
   "codemirror_mode": {
    "name": "ipython",
    "version": 3
   },
   "file_extension": ".py",
   "mimetype": "text/x-python",
   "name": "python",
   "nbconvert_exporter": "python",
   "pygments_lexer": "ipython3",
   "version": "3.9.10"
  }
 },
 "nbformat": 4,
 "nbformat_minor": 5
}

{
 "cells": [
  {
   "cell_type": "markdown",
   "id": "220187f1-f67e-4390-9def-91a328c6847b",
   "metadata": {},
   "source": [
    "## import module"
   ]
  },
  {
   "cell_type": "code",
   "execution_count": 1,
   "id": "0b813e39-af7b-4a4f-b811-20a61cab25b8",
   "metadata": {},
   "outputs": [
    {
     "data": {
      "text/plain": [
       "<module 'train' from '/content/GitHub/NQS4QEM/train.py'>"
      ]
     },
     "execution_count": 1,
     "metadata": {},
     "output_type": "execute_result"
    }
   ],
   "source": [
    "import os\n",
    "import subprocess\n",
    "import random\n",
    "import warnings\n",
    "import numpy as np\n",
    "from scipy.linalg import sqrtm\n",
    "from scipy.stats import unitary_group\n",
    "import pandas as pd\n",
    "import yaml\n",
    "from tqdm.notebook import tqdm\n",
    "import itertools\n",
    "\n",
    "import torch\n",
    "from qucumber.nn_states import DensityMatrix\n",
    "from qucumber.callbacks import MetricEvaluator\n",
    "import qucumber.utils.unitaries as unitaries\n",
    "import qucumber.utils.training_statistics as ts\n",
    "import qucumber.utils.cplx as cplx\n",
    "import qucumber.utils.data as data\n",
    "from qucumber.observables import ObservableBase, to_pm1\n",
    "from qucumber.observables.pauli import flip_spin\n",
    "import qucumber\n",
    "\n",
    "from qulacs.gate import Pauli\n",
    "\n",
    "%load_ext autoreload\n",
    "%autoreload 2\n",
    "import utils\n",
    "import gate\n",
    "import measurement\n",
    "import target_circuit\n",
    "import dataset\n",
    "import train\n",
    "\n",
    "import importlib\n",
    "importlib.reload(utils)\n",
    "importlib.reload(gate)\n",
    "importlib.reload(measurement)\n",
    "importlib.reload(target_circuit)\n",
    "importlib.reload(dataset)\n",
    "importlib.reload(train)"
   ]
  },
  {
   "cell_type": "markdown",
   "id": "7e13042f-d19c-417f-9629-e154331b65da",
   "metadata": {},
   "source": [
    "## setting params"
   ]
  },
  {
   "cell_type": "code",
   "execution_count": 2,
   "id": "367edbdf-1b70-4984-aa85-02ef129ba80f",
   "metadata": {},
   "outputs": [],
   "source": [
    "with open('./params_setting.yaml', 'r') as yml:\n",
    "    params = yaml.safe_load(yml)\n",
    "    \n",
    "# quantum circuit parameter\n",
    "circuit_name = params[\"circuit_info\"][\"circuit_name\"]\n",
    "n_qubit = params[\"circuit_info\"][\"n_qubit\"]\n",
    "state_class = params[\"circuit_info\"][\"state_class\"]\n",
    "error_model = params[\"circuit_info\"][\"error_model\"]\n",
    "error_rate = params[\"circuit_info\"][\"error_rate\"]\n",
    "each_n_shot = params[\"circuit_info\"][\"each_n_shot\"]\n",
    "\n",
    "# RBM architecture parameter\n",
    "n_visible_unit = params[\"architecture_info\"][\"n_visible_unit\"]\n",
    "n_hidden_unit = params[\"architecture_info\"][\"n_hidden_unit\"] \n",
    "n_aux_unit = params[\"architecture_info\"][\"n_aux_unit\"]\n",
    "\n",
    "# train parameter\n",
    "lr = params[\"train_info\"][\"lr\"]\n",
    "pbs = params[\"train_info\"][\"positive_batch_size\"]\n",
    "nbs = params[\"train_info\"][\"negative_batch_size\"]\n",
    "n_gibbs_step = params[\"train_info\"][\"n_gibbs_step\"]\n",
    "period = 1\n",
    "epoch = params[\"train_info\"][\"n_epoch\"]\n",
    "lr_drop_epoch = params[\"train_info\"][\"lr_drop_epoch\"]\n",
    "lr_drop_factor = params[\"train_info\"][\"lr_drop_factor\"]\n",
    "use_gpu = params[\"train_info\"][\"use_gpu\"]\n",
    "seed = params[\"train_info\"][\"seed\"]\n",
    "\n",
    "# sampling parameter\n",
    "n_sampling = params[\"sampling_info\"][\"n_sample\"]\n",
    "n_copy = params[\"sampling_info\"][\"n_copy\"]\n",
    "\n",
    "# data path info\n",
    "environment = \"local\"\n",
    "if environment == \"local\":\n",
    "    train_data_path = f\"./{circuit_name}/data/{n_qubit}-qubit/{error_model}/p={100*error_rate}%/each_{each_n_shot}_shot/\"\n",
    "    target_state_path = f\"./{circuit_name}/target_state/{state_class}/{n_qubit}-qubit/{error_model}/p={100*error_rate}%/\"\n",
    "    model_path = f\"./{circuit_name}/model/{state_class}/{n_qubit}-qubit/{error_model}/p={100*error_rate}%/each_{each_n_shot}_shot/\"\n",
    "    train_log_path = f\"./{circuit_name}/train_log/{n_qubit}-qubit/{error_model}/p={100*error_rate}%/each_{each_n_shot}_shot/\"\n",
    "if environment == \"colab\":\n",
    "    from google.colab import drive\n",
    "    drive.mount(\"/content/drive/\")\n",
    "    drive_path = \"/content/drive/MyDrive/NQS4VD/GHZ\"\n",
    "    train_data_path = drive_path + f\"/{circuit_name}/data/{n_qubit}-qubit/{error_model}/p={100*error_rate}%/each_{each_n_shot}_shot/\"\n",
    "    target_state_path = drive_path + f\"/{circuit_name}/target_state/{state_class}/{n_qubit}-qubit/{error_model}/p={100*error_rate}%/\"\n",
    "    model_path = drive_path + f\"/{circuit_name}/model/{state_class}/{n_qubit}-qubit/{error_model}/p={100*error_rate}%/each_{each_n_shot}_shot/\"\n",
    "    train_log_path = drive_path + f\"/{circuit_name}/train_log/{n_qubit}-qubit/{error_model}/p={100*error_rate}%/each_{each_n_shot}_shot/\"\n",
    "\n",
    "\n",
    "def seed_settings(seed=42):\n",
    "    random.seed(seed)\n",
    "    os.environ['PYTHONHASHSEED'] = str(seed)\n",
    "    np.random.seed(seed)\n",
    "    torch.manual_seed(seed)\n",
    "    qucumber.set_random_seed(seed, cpu=True, gpu=False)\n",
    "\n",
    "seed_settings(seed=seed)"
   ]
  },
  {
   "cell_type": "markdown",
   "id": "f74264d6-bf22-4ece-834d-8e9d530781d3",
   "metadata": {},
   "source": [
    "## generate dataset"
   ]
  },
  {
   "cell_type": "code",
   "execution_count": 3,
   "id": "8c4f1e5c-e0a1-4657-96ac-e9fe2d733de4",
   "metadata": {
    "scrolled": true,
    "tags": []
   },
   "outputs": [
    {
     "name": "stderr",
     "output_type": "stream",
     "text": [
      "0it [00:00, ?it/s]"
     ]
    },
    {
     "name": "stdout",
     "output_type": "stream",
     "text": [
      "measurement pattern 1/9 : ('X', 'X')\n"
     ]
    },
    {
     "name": "stderr",
     "output_type": "stream",
     "text": [
      "\n",
      "100%|████████████████████████████████████████████████████████████████████| 100/100 [00:00<00:00, 4766.80it/s]\u001b[A\n"
     ]
    },
    {
     "name": "stdout",
     "output_type": "stream",
     "text": [
      "measurement pattern 2/9 : ('X', 'Y')\n"
     ]
    },
    {
     "name": "stderr",
     "output_type": "stream",
     "text": [
      "\n",
      "100%|████████████████████████████████████████████████████████████████████| 100/100 [00:00<00:00, 4870.13it/s]\u001b[A\n"
     ]
    },
    {
     "name": "stdout",
     "output_type": "stream",
     "text": [
      "measurement pattern 3/9 : ('X', 'Z')\n"
     ]
    },
    {
     "name": "stderr",
     "output_type": "stream",
     "text": [
      "\n",
      "100%|████████████████████████████████████████████████████████████████████| 100/100 [00:00<00:00, 4646.50it/s]\u001b[A\n"
     ]
    },
    {
     "name": "stdout",
     "output_type": "stream",
     "text": [
      "measurement pattern 4/9 : ('Y', 'X')\n"
     ]
    },
    {
     "name": "stderr",
     "output_type": "stream",
     "text": [
      "\n",
      "100%|████████████████████████████████████████████████████████████████████| 100/100 [00:00<00:00, 4886.81it/s]\u001b[A\n"
     ]
    },
    {
     "name": "stdout",
     "output_type": "stream",
     "text": [
      "measurement pattern 5/9 : ('Y', 'Y')\n"
     ]
    },
    {
     "name": "stderr",
     "output_type": "stream",
     "text": [
      "\n",
      "100%|████████████████████████████████████████████████████████████████████| 100/100 [00:00<00:00, 5029.93it/s]\u001b[A\n",
      "5it [00:00, 41.86it/s]"
     ]
    },
    {
     "name": "stdout",
     "output_type": "stream",
     "text": [
      "measurement pattern 6/9 : ('Y', 'Z')\n"
     ]
    },
    {
     "name": "stderr",
     "output_type": "stream",
     "text": [
      "\n",
      "100%|████████████████████████████████████████████████████████████████████| 100/100 [00:00<00:00, 4791.19it/s]\u001b[A\n"
     ]
    },
    {
     "name": "stdout",
     "output_type": "stream",
     "text": [
      "measurement pattern 7/9 : ('Z', 'X')\n"
     ]
    },
    {
     "name": "stderr",
     "output_type": "stream",
     "text": [
      "\n",
      "100%|████████████████████████████████████████████████████████████████████| 100/100 [00:00<00:00, 5407.26it/s]\u001b[A\n"
     ]
    },
    {
     "name": "stdout",
     "output_type": "stream",
     "text": [
      "measurement pattern 8/9 : ('Z', 'Y')\n"
     ]
    },
    {
     "name": "stderr",
     "output_type": "stream",
     "text": [
      "\n",
      "100%|████████████████████████████████████████████████████████████████████| 100/100 [00:00<00:00, 4027.45it/s]\u001b[A\n"
     ]
    },
    {
     "name": "stdout",
     "output_type": "stream",
     "text": [
      "measurement pattern 9/9 : ('Z', 'Z')\n"
     ]
    },
    {
     "name": "stderr",
     "output_type": "stream",
     "text": [
      "\n",
      "100%|████████████████████████████████████████████████████████████████████| 100/100 [00:00<00:00, 4713.55it/s]\u001b[A\n",
      "9it [00:00, 41.32it/s]\n"
     ]
    }
   ],
   "source": [
    "target_state = target_circuit.GHZ(n_qubit, state_class, error_model, error_rate)\n",
    "utils.save_density_matrix(target_state, target_state_path)\n",
    "meas_pattern_df, train_df = dataset.generate(target_state, n_qubit, error_model, each_n_shot)\n",
    "dataset.save(meas_pattern_df, train_df, train_data_path)"
   ]
  },
  {
   "cell_type": "markdown",
   "id": "f8b6974f-1e2f-4bd4-a3ae-c534528d78a6",
   "metadata": {},
   "source": [
    "## load dataset"
   ]
  },
  {
   "cell_type": "code",
   "execution_count": 4,
   "id": "40b334d2-343a-4a92-b37a-229e0a470d71",
   "metadata": {},
   "outputs": [
    {
     "ename": "NameError",
     "evalue": "name 'target_state_path' is not defined",
     "output_type": "error",
     "traceback": [
      "\u001b[0;31m---------------------------------------------------------------------------\u001b[0m",
      "\u001b[0;31mNameError\u001b[0m                                 Traceback (most recent call last)",
      "Input \u001b[0;32mIn [4]\u001b[0m, in \u001b[0;36m<cell line: 1>\u001b[0;34m()\u001b[0m\n\u001b[0;32m----> 1\u001b[0m meas_result, target_rho, meas_label, meas_pattern \u001b[38;5;241m=\u001b[39m \u001b[43mtrain\u001b[49m\u001b[38;5;241;43m.\u001b[39;49m\u001b[43mload_dataset_DM\u001b[49m\u001b[43m(\u001b[49m\u001b[43mtrain_data_path\u001b[49m\u001b[43m)\u001b[49m\n",
      "File \u001b[0;32m/content/GitHub/NQS4QEM/train.py:25\u001b[0m, in \u001b[0;36mload_dataset_DM\u001b[0;34m(train_data_path)\u001b[0m\n\u001b[1;32m     23\u001b[0m meas_label_path \u001b[38;5;241m=\u001b[39m train_data_path \u001b[38;5;241m+\u001b[39m \u001b[38;5;124m\"\u001b[39m\u001b[38;5;124mmeasurement_label.txt\u001b[39m\u001b[38;5;124m\"\u001b[39m\n\u001b[1;32m     24\u001b[0m meas_result_path \u001b[38;5;241m=\u001b[39m train_data_path \u001b[38;5;241m+\u001b[39m \u001b[38;5;124m\"\u001b[39m\u001b[38;5;124mmeasurement_result.txt\u001b[39m\u001b[38;5;124m\"\u001b[39m\n\u001b[0;32m---> 25\u001b[0m target_rho_re_path \u001b[38;5;241m=\u001b[39m \u001b[43mtarget_state_path\u001b[49m \u001b[38;5;241m+\u001b[39m \u001b[38;5;124m\"\u001b[39m\u001b[38;5;124mrho_real.txt\u001b[39m\u001b[38;5;124m\"\u001b[39m\n\u001b[1;32m     26\u001b[0m target_rho_im_path \u001b[38;5;241m=\u001b[39m target_state_path \u001b[38;5;241m+\u001b[39m \u001b[38;5;124m\"\u001b[39m\u001b[38;5;124mrho_imag.txt\u001b[39m\u001b[38;5;124m\"\u001b[39m\n\u001b[1;32m     27\u001b[0m meas_result, target_rho, meas_label, meas_pattern \u001b[38;5;241m=\u001b[39m data\u001b[38;5;241m.\u001b[39mload_data_DM(meas_result_path, target_rho_re_path, target_rho_im_path, meas_label_path, meas_pattern_path)\n",
      "\u001b[0;31mNameError\u001b[0m: name 'target_state_path' is not defined"
     ]
    }
   ],
   "source": [
    "meas_result, target_rho, meas_label, meas_pattern = train.load_dataset_DM(train_data_path, target_state_path)"
   ]
  },
  {
   "cell_type": "markdown",
   "id": "f675ad15-85c7-4de4-a52e-2d8572b7046b",
   "metadata": {},
   "source": [
    "## train"
   ]
  },
  {
   "cell_type": "code",
   "execution_count": null,
   "id": "b4967b7b-9b10-469e-99b4-c0bf72d6f0ab",
   "metadata": {},
   "outputs": [],
   "source": [
    "nn_state = DensityMatrix(num_visible = num_visible, \n",
    "                         num_hidden = num_hidden, \n",
    "                         num_aux = n_aux_unit, \n",
    "                         unitary_dict = unitaries.create_dict(),\n",
    "                         gpu = use_gpu)"
   ]
  }
 ],
 "metadata": {
  "kernelspec": {
   "display_name": "Python 3 (ipykernel)",
   "language": "python",
   "name": "python3"
  },
  "language_info": {
   "codemirror_mode": {
    "name": "ipython",
    "version": 3
   },
   "file_extension": ".py",
   "mimetype": "text/x-python",
   "name": "python",
   "nbconvert_exporter": "python",
   "pygments_lexer": "ipython3",
   "version": "3.9.10"
  }
 },
 "nbformat": 4,
 "nbformat_minor": 5
}

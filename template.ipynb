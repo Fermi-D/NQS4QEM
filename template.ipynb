{
 "cells": [
  {
   "cell_type": "markdown",
   "id": "6893744e-c8ee-4068-bb71-2e93cfbd1d6d",
   "metadata": {},
   "source": [
    "## import library"
   ]
  },
  {
   "cell_type": "code",
   "execution_count": 2,
   "id": "cd0bd3c1-df61-479d-9e35-12944c454945",
   "metadata": {},
   "outputs": [
    {
     "ename": "ModuleNotFoundError",
     "evalue": "No module named 'error_model'",
     "output_type": "error",
     "traceback": [
      "\u001b[0;31m---------------------------------------------------------------------------\u001b[0m",
      "\u001b[0;31mModuleNotFoundError\u001b[0m                       Traceback (most recent call last)",
      "Input \u001b[0;32mIn [2]\u001b[0m, in \u001b[0;36m<cell line: 10>\u001b[0;34m()\u001b[0m\n\u001b[1;32m      7\u001b[0m \u001b[38;5;28;01mimport\u001b[39;00m \u001b[38;5;21;01mseaborn\u001b[39;00m \u001b[38;5;28;01mas\u001b[39;00m \u001b[38;5;21;01msns\u001b[39;00m\n\u001b[1;32m      8\u001b[0m \u001b[38;5;28;01mimport\u001b[39;00m \u001b[38;5;21;01myaml\u001b[39;00m\n\u001b[0;32m---> 10\u001b[0m \u001b[38;5;28;01mfrom\u001b[39;00m \u001b[38;5;21;01mPyQNE\u001b[39;00m \u001b[38;5;28;01mimport\u001b[39;00m target_circuit \u001b[38;5;28;01mas\u001b[39;00m circuit\n\u001b[1;32m     11\u001b[0m \u001b[38;5;28;01mfrom\u001b[39;00m \u001b[38;5;21;01mPyQNE\u001b[39;00m \u001b[38;5;28;01mimport\u001b[39;00m error_model \u001b[38;5;28;01mas\u001b[39;00m error\n\u001b[1;32m     12\u001b[0m \u001b[38;5;28;01mfrom\u001b[39;00m \u001b[38;5;21;01mPyQNE\u001b[39;00m \u001b[38;5;28;01mimport\u001b[39;00m measurement\n",
      "File \u001b[0;32m/content/GitHub/NQS4QEM/PyQNE/target_circuit.py:2\u001b[0m, in \u001b[0;36m<module>\u001b[0;34m\u001b[0m\n\u001b[1;32m      1\u001b[0m \u001b[38;5;28;01mimport\u001b[39;00m \u001b[38;5;21;01mnumpy\u001b[39;00m \u001b[38;5;28;01mas\u001b[39;00m \u001b[38;5;21;01mnp\u001b[39;00m\n\u001b[0;32m----> 2\u001b[0m \u001b[38;5;28;01mimport\u001b[39;00m \u001b[38;5;21;01merror_model\u001b[39;00m \u001b[38;5;28;01mas\u001b[39;00m \u001b[38;5;21;01merror\u001b[39;00m\n\u001b[1;32m      3\u001b[0m \u001b[38;5;28;01mimport\u001b[39;00m \u001b[38;5;21;01mquantum_gate\u001b[39;00m \u001b[38;5;28;01mas\u001b[39;00m \u001b[38;5;21;01mgate\u001b[39;00m\n\u001b[1;32m      5\u001b[0m \u001b[38;5;28;01mdef\u001b[39;00m \u001b[38;5;21minit_state\u001b[39m(n_qubit, state_name):\n",
      "\u001b[0;31mModuleNotFoundError\u001b[0m: No module named 'error_model'"
     ]
    }
   ],
   "source": [
    "import os\n",
    "import random\n",
    "import warnings\n",
    "import numpy as np\n",
    "import pandas as pd\n",
    "import matplotlib.pyplot as plt\n",
    "import seaborn as sns\n",
    "import yaml\n",
    "\n",
    "from PyQNE import target_circuit as circuit\n",
    "from PyQNE import error_model as error\n",
    "from PyQNE import measurement\n",
    "from PyQNE import projection_operator as projection\n",
    "from PyQNE import quantum_gate as gate\n",
    "from PyQNE import train"
   ]
  },
  {
   "cell_type": "markdown",
   "id": "98e50650-06b6-4b14-bfdc-5c54aa865ebc",
   "metadata": {},
   "source": [
    "## load parameter's file(yaml) & settings"
   ]
  },
  {
   "cell_type": "code",
   "execution_count": null,
   "id": "b3853317-3685-443a-ad48-0b5cca2351e9",
   "metadata": {},
   "outputs": [],
   "source": [
    "with open('./params_setting_template.yaml', 'r') as yml:\n",
    "    params = yaml.safe_load(yml)"
   ]
  },
  {
   "cell_type": "code",
   "execution_count": 1,
   "id": "ee32903f-68e7-49a5-9148-a1d66a2e6ced",
   "metadata": {},
   "outputs": [
    {
     "ename": "SyntaxError",
     "evalue": "EOL while scanning string literal (3214890716.py, line 10)",
     "output_type": "error",
     "traceback": [
      "\u001b[0;36m  Input \u001b[0;32mIn [1]\u001b[0;36m\u001b[0m\n\u001b[0;31m    n_aux_unit = params[\"architecture_info\"]['n_aux_unit]\u001b[0m\n\u001b[0m                                                         ^\u001b[0m\n\u001b[0;31mSyntaxError\u001b[0m\u001b[0;31m:\u001b[0m EOL while scanning string literal\n"
     ]
    }
   ],
   "source": [
    "# quantum circuit parameter\n",
    "n_qubit = params[\"circuit_info\"][\"n_qubit\"]\n",
    "n_shot = params[\"circuit_info\"][\"n_shot\"]\n",
    "state_name = params[\"circuit_info\"][\"state_name\"]\n",
    "noise_model = params[\"circuit_info\"][\"noise_model\"]\n",
    "error_rate = params[\"circuit_info\"][\"error_rate\"]\n",
    "# RBM architecture parameter\n",
    "n_visible_unit = params[\"architecture_info\"][\"n_visible_unit\"]\n",
    "n_hidden_unit = params[\"architecture_info\"][\"n_hidden_unit\"] \n",
    "n_aux_unit = params[\"architecture_info\"][\"n_aux_unit\"]\n",
    "# train parameter\n",
    "lr = params[\"train_info\"][\"lr\"]\n",
    "pbs = params[\"train_info\"][\"positive_batch_size\"]\n",
    "nbs = params[\"train_info\"][\"negative_batch_size\"]\n",
    "n_gibbs_step = params[\"train_info\"][\"n_gibbs_step\"]\n",
    "period = 1\n",
    "epochs = params[\"train_info\"][\"n_epoch\"]\n",
    "lr_drop_epoch = params[\"train_info\"][\"lr_drop_epoch\"]\n",
    "lr_drop_factor = params[\"train_info\"][\"lr_drop_factor\"]\n",
    "# sampling parameter\n",
    "n_sampling = params[\"sampling_info\"][\"n_sample\"]\n",
    "n_copy = params[\"sampling_info\"][\"n_copy\"]\n",
    "seed = 42"
   ]
  },
  {
   "cell_type": "code",
   "execution_count": null,
   "id": "ec8ab5e4-da70-4935-8e16-a6c7ac77f668",
   "metadata": {},
   "outputs": [],
   "source": [
    "# settings\n",
    "## warnings\n",
    "warnings.simplefilter('ignore')\n",
    "\n",
    "## seaborn layout\n",
    "sns.set()\n",
    "sns.set_style(\"white\")\n",
    "\n",
    "## seed\n",
    "def seed_settings(seed=42):\n",
    "    random.seed(seed)\n",
    "    os.environ['PYTHONHASHSEED'] = str(seed)\n",
    "    np.random.seed(seed)\n",
    "    torch.manual_seed(seed)\n",
    "    qucumber.set_random_seed(seed, cpu=True, gpu=False)\n",
    "\n",
    "seed_settings(seed = seed)"
   ]
  },
  {
   "cell_type": "markdown",
   "id": "8a304c4a-8ee6-491d-810e-24412e6cffca",
   "metadata": {},
   "source": [
    "## generate train data"
   ]
  },
  {
   "cell_type": "code",
   "execution_count": null,
   "id": "363fb1e8-594a-4dde-bf60-3b061ad82ceb",
   "metadata": {},
   "outputs": [],
   "source": []
  },
  {
   "cell_type": "markdown",
   "id": "c5022661-5dfd-4e0d-b0ce-d3c4910a20f1",
   "metadata": {},
   "source": [
    "## load train data & target state"
   ]
  },
  {
   "cell_type": "code",
   "execution_count": null,
   "id": "1db54d06-9acf-4c63-a318-ece09914a903",
   "metadata": {},
   "outputs": [],
   "source": []
  },
  {
   "cell_type": "markdown",
   "id": "abf8354a-f92e-410d-830c-4be1e4726254",
   "metadata": {},
   "source": [
    "## build RBM model"
   ]
  },
  {
   "cell_type": "markdown",
   "id": "ab5f5bc4-842b-46d0-9d08-3360e4d546dd",
   "metadata": {},
   "source": [
    "### state vector"
   ]
  },
  {
   "cell_type": "code",
   "execution_count": null,
   "id": "98d66792-bd29-486f-9df4-e277469260b4",
   "metadata": {},
   "outputs": [],
   "source": []
  },
  {
   "cell_type": "markdown",
   "id": "76bbbd11-419a-4879-8dcf-b1a879320d6d",
   "metadata": {},
   "source": [
    "### density matrix"
   ]
  },
  {
   "cell_type": "code",
   "execution_count": null,
   "id": "7735b960-d728-4dd1-985a-b4bc41ae26ee",
   "metadata": {},
   "outputs": [],
   "source": []
  },
  {
   "cell_type": "markdown",
   "id": "d152527c-6ee4-4cad-bdd3-98ea53cef39d",
   "metadata": {},
   "source": [
    "### max eigen vector"
   ]
  },
  {
   "cell_type": "code",
   "execution_count": null,
   "id": "a9412ce1-6e47-4cfb-ba6a-f788dc7b2d8e",
   "metadata": {},
   "outputs": [],
   "source": []
  },
  {
   "cell_type": "markdown",
   "id": "8a8d1812-7dd3-4857-8362-1374dfdfac0f",
   "metadata": {},
   "source": [
    "## train"
   ]
  },
  {
   "cell_type": "code",
   "execution_count": null,
   "id": "8cb49466-556f-42aa-b90d-6775371a9d6f",
   "metadata": {},
   "outputs": [],
   "source": []
  },
  {
   "cell_type": "markdown",
   "id": "9f6bc1b0-bd99-4424-9b48-7d1925a39b0c",
   "metadata": {},
   "source": [
    "## evaluation"
   ]
  },
  {
   "cell_type": "code",
   "execution_count": null,
   "id": "fe965690-8b43-4451-a197-95d77c0afc59",
   "metadata": {},
   "outputs": [],
   "source": []
  }
 ],
 "metadata": {
  "kernelspec": {
   "display_name": "Python 3 (ipykernel)",
   "language": "python",
   "name": "python3"
  },
  "language_info": {
   "codemirror_mode": {
    "name": "ipython",
    "version": 3
   },
   "file_extension": ".py",
   "mimetype": "text/x-python",
   "name": "python",
   "nbconvert_exporter": "python",
   "pygments_lexer": "ipython3",
   "version": "3.9.10"
  }
 },
 "nbformat": 4,
 "nbformat_minor": 5
}

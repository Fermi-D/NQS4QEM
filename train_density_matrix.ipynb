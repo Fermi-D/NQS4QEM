{
 "cells": [
  {
   "cell_type": "markdown",
   "id": "220187f1-f67e-4390-9def-91a328c6847b",
   "metadata": {},
   "source": [
    "## import module"
   ]
  },
  {
   "cell_type": "code",
   "execution_count": 1,
   "id": "0b813e39-af7b-4a4f-b811-20a61cab25b8",
   "metadata": {},
   "outputs": [],
   "source": [
    "import os\n",
    "import subprocess\n",
    "import random\n",
    "import warnings\n",
    "import numpy as np\n",
    "from scipy.linalg import sqrtm\n",
    "from scipy.stats import unitary_group\n",
    "import pandas as pd\n",
    "import yaml\n",
    "from tqdm.notebook import tqdm\n",
    "import itertools\n",
    "\n",
    "import torch\n",
    "from qucumber.nn_states import DensityMatrix\n",
    "from qucumber.callbacks import MetricEvaluator\n",
    "import qucumber.utils.unitaries as unitaries\n",
    "import qucumber.utils.training_statistics as ts\n",
    "import qucumber.utils.cplx as cplx\n",
    "import qucumber.utils.data as data\n",
    "from qucumber.observables import ObservableBase, to_pm1\n",
    "from qucumber.observables.pauli import flip_spin\n",
    "import qucumber\n",
    "\n",
    "from qulacs.gate import Pauli\n",
    "\n",
    "%load_ext autoreload\n",
    "%autoreload 2\n",
    "import utils\n",
    "import gate\n",
    "import measurement\n",
    "import target_circuit\n",
    "import dataset"
   ]
  },
  {
   "cell_type": "markdown",
   "id": "7e13042f-d19c-417f-9629-e154331b65da",
   "metadata": {},
   "source": [
    "## setting params"
   ]
  },
  {
   "cell_type": "code",
   "execution_count": 2,
   "id": "367edbdf-1b70-4984-aa85-02ef129ba80f",
   "metadata": {},
   "outputs": [],
   "source": [
    "with open('./params_setting.yaml', 'r') as yml:\n",
    "    params = yaml.safe_load(yml)\n",
    "    \n",
    "# quantum circuit parameter\n",
    "circuit_name = params[\"circuit_info\"][\"circuit_name\"]\n",
    "n_qubit = params[\"circuit_info\"][\"n_qubit\"]\n",
    "state_class = params[\"circuit_info\"][\"state_class\"]\n",
    "error_model = params[\"circuit_info\"][\"error_model\"]\n",
    "error_rate = params[\"circuit_info\"][\"error_rate\"]\n",
    "each_n_shot = params[\"circuit_info\"][\"each_n_shot\"]\n",
    "\n",
    "# RBM architecture parameter\n",
    "num_visible = params[\"architecture_info\"][\"n_visible_unit\"]\n",
    "num_hidden = params[\"architecture_info\"][\"n_hidden_unit\"] \n",
    "num_aux = params[\"architecture_info\"][\"n_aux_unit\"]\n",
    "\n",
    "# train parameter\n",
    "lr = params[\"train_info\"][\"lr\"]\n",
    "pbs = params[\"train_info\"][\"positive_batch_size\"]\n",
    "nbs = params[\"train_info\"][\"negative_batch_size\"]\n",
    "n_gibbs_step = params[\"train_info\"][\"n_gibbs_step\"]\n",
    "period = 1\n",
    "epoch = params[\"train_info\"][\"n_epoch\"]\n",
    "lr_drop_epoch = params[\"train_info\"][\"lr_drop_epoch\"]\n",
    "lr_drop_factor = params[\"train_info\"][\"lr_drop_factor\"]\n",
    "use_gpu = params[\"train_info\"][\"use_gpu\"]\n",
    "seed = params[\"train_info\"][\"seed\"]\n",
    "\n",
    "# sampling parameter\n",
    "n_sampling = params[\"sampling_info\"][\"n_sample\"]\n",
    "n_copy = params[\"sampling_info\"][\"n_copy\"]\n",
    "\n",
    "# data path info\n",
    "environment = \"local\"\n",
    "if environment == \"local\":\n",
    "    train_data_path = f\"./{circuit_name}/data/{n_qubit}-qubit/{error_model}/p={100*error_rate}%/each_{each_n_shot}_shot/\"\n",
    "    target_state_path = f\"./{circuit_name}/target_state/{state_class}/{n_qubit}-qubit/{error_model}/p={100*error_rate}%/\"\n",
    "    model_path = f\"./{circuit_name}/model/{state_class}/{n_qubit}-qubit/{error_model}/p={100*error_rate}%/each_{each_n_shot}_shot/\"\n",
    "    train_log_path = f\"./{circuit_name}/train_log/{n_qubit}-qubit/{error_model}/p={100*error_rate}%/each_{each_n_shot}_shot/\"\n",
    "if environment == \"colab\":\n",
    "    from google.colab import drive\n",
    "    drive.mount(\"/content/drive/\")\n",
    "    drive_path = \"/content/drive/MyDrive/NQS4VD/GHZ\"\n",
    "    train_data_path = drive_path + f\"/{circuit_name}/data/{n_qubit}-qubit/{error_model}/p={100*error_rate}%/each_{each_n_shot}_shot/\"\n",
    "    target_state_path = drive_path + f\"/{circuit_name}/target_state/{state_class}/{n_qubit}-qubit/{error_model}/p={100*error_rate}%/\"\n",
    "    model_path = drive_path + f\"/{circuit_name}/model/{state_class}/{n_qubit}-qubit/{error_model}/p={100*error_rate}%/each_{each_n_shot}_shot/\"\n",
    "    train_log_path = drive_path + f\"/{circuit_name}/train_log/{n_qubit}-qubit/{error_model}/p={100*error_rate}%/each_{each_n_shot}_shot/\"\n",
    "\n",
    "\n",
    "def seed_settings(seed=42):\n",
    "    random.seed(seed)\n",
    "    os.environ['PYTHONHASHSEED'] = str(seed)\n",
    "    np.random.seed(seed)\n",
    "    torch.manual_seed(seed)\n",
    "    qucumber.set_random_seed(seed, cpu=True, gpu=False)\n",
    "\n",
    "seed_settings(seed=seed)"
   ]
  },
  {
   "cell_type": "markdown",
   "id": "f74264d6-bf22-4ece-834d-8e9d530781d3",
   "metadata": {},
   "source": [
    "## generate dataset"
   ]
  },
  {
   "cell_type": "code",
   "execution_count": 3,
   "id": "8c4f1e5c-e0a1-4657-96ac-e9fe2d733de4",
   "metadata": {
    "scrolled": true,
    "tags": []
   },
   "outputs": [
    {
     "data": {
      "application/vnd.jupyter.widget-view+json": {
       "model_id": "e6304881ed314dc5bd00cf4f5704ce5c",
       "version_major": 2,
       "version_minor": 0
      },
      "text/plain": [
       "0it [00:00, ?it/s]"
      ]
     },
     "metadata": {},
     "output_type": "display_data"
    },
    {
     "name": "stdout",
     "output_type": "stream",
     "text": [
      "measurement pattern 1/59049 : ('X', 'X', 'X', 'X', 'X', 'X', 'X', 'X', 'X', 'X')\n"
     ]
    },
    {
     "data": {
      "application/vnd.jupyter.widget-view+json": {
       "model_id": "dedd572e33ad4157a1e8d7824d486cc4",
       "version_major": 2,
       "version_minor": 0
      },
      "text/plain": [
       "  0%|          | 0/1000 [00:00<?, ?it/s]"
      ]
     },
     "metadata": {},
     "output_type": "display_data"
    },
    {
     "name": "stdout",
     "output_type": "stream",
     "text": [
      "measurement pattern 2/59049 : ('X', 'X', 'X', 'X', 'X', 'X', 'X', 'X', 'X', 'Y')\n"
     ]
    },
    {
     "data": {
      "application/vnd.jupyter.widget-view+json": {
       "model_id": "a21a74f8a2d64fad89c211d48aaf1227",
       "version_major": 2,
       "version_minor": 0
      },
      "text/plain": [
       "  0%|          | 0/1000 [00:00<?, ?it/s]"
      ]
     },
     "metadata": {},
     "output_type": "display_data"
    },
    {
     "name": "stdout",
     "output_type": "stream",
     "text": [
      "measurement pattern 3/59049 : ('X', 'X', 'X', 'X', 'X', 'X', 'X', 'X', 'X', 'Z')\n"
     ]
    },
    {
     "data": {
      "application/vnd.jupyter.widget-view+json": {
       "model_id": "28b48669cbed41589c089bfc722e6af4",
       "version_major": 2,
       "version_minor": 0
      },
      "text/plain": [
       "  0%|          | 0/1000 [00:00<?, ?it/s]"
      ]
     },
     "metadata": {},
     "output_type": "display_data"
    },
    {
     "name": "stdout",
     "output_type": "stream",
     "text": [
      "measurement pattern 4/59049 : ('X', 'X', 'X', 'X', 'X', 'X', 'X', 'X', 'Y', 'X')\n"
     ]
    },
    {
     "data": {
      "application/vnd.jupyter.widget-view+json": {
       "model_id": "7ced637ee636489c9d87e3b76f94d4b5",
       "version_major": 2,
       "version_minor": 0
      },
      "text/plain": [
       "  0%|          | 0/1000 [00:00<?, ?it/s]"
      ]
     },
     "metadata": {},
     "output_type": "display_data"
    },
    {
     "name": "stdout",
     "output_type": "stream",
     "text": [
      "measurement pattern 5/59049 : ('X', 'X', 'X', 'X', 'X', 'X', 'X', 'X', 'Y', 'Y')\n"
     ]
    },
    {
     "data": {
      "application/vnd.jupyter.widget-view+json": {
       "model_id": "2d53b30bc1964ffaa87be443016f60c1",
       "version_major": 2,
       "version_minor": 0
      },
      "text/plain": [
       "  0%|          | 0/1000 [00:00<?, ?it/s]"
      ]
     },
     "metadata": {},
     "output_type": "display_data"
    },
    {
     "name": "stdout",
     "output_type": "stream",
     "text": [
      "measurement pattern 6/59049 : ('X', 'X', 'X', 'X', 'X', 'X', 'X', 'X', 'Y', 'Z')\n"
     ]
    },
    {
     "data": {
      "application/vnd.jupyter.widget-view+json": {
       "model_id": "c7f5d547eb3545d98653c1f425bb7686",
       "version_major": 2,
       "version_minor": 0
      },
      "text/plain": [
       "  0%|          | 0/1000 [00:00<?, ?it/s]"
      ]
     },
     "metadata": {},
     "output_type": "display_data"
    },
    {
     "ename": "KeyboardInterrupt",
     "evalue": "",
     "output_type": "error",
     "traceback": [
      "\u001b[0;31m---------------------------------------------------------------------------\u001b[0m",
      "\u001b[0;31mKeyboardInterrupt\u001b[0m                         Traceback (most recent call last)",
      "Input \u001b[0;32mIn [3]\u001b[0m, in \u001b[0;36m<cell line: 4>\u001b[0;34m()\u001b[0m\n\u001b[1;32m      1\u001b[0m target_state \u001b[38;5;241m=\u001b[39m target_circuit\u001b[38;5;241m.\u001b[39mGHZ(n_qubit, state_class, error_model, error_rate)\n\u001b[1;32m      2\u001b[0m utils\u001b[38;5;241m.\u001b[39msave_density_matrix(target_state, target_state_path)\n\u001b[0;32m----> 4\u001b[0m meas_pattern_df, train_df \u001b[38;5;241m=\u001b[39m \u001b[43mdataset\u001b[49m\u001b[38;5;241;43m.\u001b[39;49m\u001b[43mgenerate\u001b[49m\u001b[43m(\u001b[49m\u001b[43mtarget_state\u001b[49m\u001b[43m,\u001b[49m\u001b[43m \u001b[49m\u001b[43mn_qubit\u001b[49m\u001b[43m,\u001b[49m\u001b[43m \u001b[49m\u001b[43merror_model\u001b[49m\u001b[43m,\u001b[49m\u001b[43m \u001b[49m\u001b[43meach_n_shot\u001b[49m\u001b[43m)\u001b[49m\n\u001b[1;32m      5\u001b[0m dataset\u001b[38;5;241m.\u001b[39msave(meas_pattern_df, train_df, train_data_path)\n",
      "File \u001b[0;32m/content/GitHub/NQS4QEM/dataset.py:22\u001b[0m, in \u001b[0;36mgenerate\u001b[0;34m(state, n_qubit, error_model, each_n_shot)\u001b[0m\n\u001b[1;32m     19\u001b[0m \u001b[38;5;28mprint\u001b[39m(\u001b[38;5;124mf\u001b[39m\u001b[38;5;124m\"\u001b[39m\u001b[38;5;124mmeasurement pattern \u001b[39m\u001b[38;5;132;01m{\u001b[39;00mi\u001b[38;5;241m+\u001b[39m\u001b[38;5;241m1\u001b[39m\u001b[38;5;132;01m}\u001b[39;00m\u001b[38;5;124m/\u001b[39m\u001b[38;5;132;01m{\u001b[39;00m\u001b[38;5;241m3\u001b[39m\u001b[38;5;241m*\u001b[39m\u001b[38;5;241m*\u001b[39mn_qubit\u001b[38;5;132;01m}\u001b[39;00m\u001b[38;5;124m : \u001b[39m\u001b[38;5;132;01m{\u001b[39;00mmeas_pattern\u001b[38;5;132;01m}\u001b[39;00m\u001b[38;5;124m\"\u001b[39m)\n\u001b[1;32m     21\u001b[0m \u001b[38;5;28;01mfor\u001b[39;00m j \u001b[38;5;129;01min\u001b[39;00m tqdm(\u001b[38;5;28mrange\u001b[39m(each_n_shot)):\n\u001b[0;32m---> 22\u001b[0m     label, result \u001b[38;5;241m=\u001b[39m \u001b[43mmeasurement\u001b[49m\u001b[38;5;241;43m.\u001b[39;49m\u001b[43mpauli\u001b[49m\u001b[43m(\u001b[49m\u001b[43mstate\u001b[49m\u001b[43m,\u001b[49m\u001b[43m \u001b[49m\u001b[43mn_qubit\u001b[49m\u001b[43m,\u001b[49m\u001b[43m \u001b[49m\u001b[43merror_model\u001b[49m\u001b[43m,\u001b[49m\u001b[43m \u001b[49m\u001b[43mmeas_pattern\u001b[49m\u001b[43m)\u001b[49m\n\u001b[1;32m     23\u001b[0m     meas_label_list\u001b[38;5;241m.\u001b[39mappend(label)\n\u001b[1;32m     24\u001b[0m     meas_result_list\u001b[38;5;241m.\u001b[39mappend(result)\n",
      "File \u001b[0;32m/content/GitHub/NQS4QEM/measurement.py:40\u001b[0m, in \u001b[0;36mpauli\u001b[0;34m(state, n_qubit, error_model, pauli_str_list)\u001b[0m\n\u001b[1;32m     38\u001b[0m \u001b[38;5;28;01mfor\u001b[39;00m target_qubit_idx, pauli_str \u001b[38;5;129;01min\u001b[39;00m \u001b[38;5;28mzip\u001b[39m(target_qubit_idx_list, pauli_str_list):\n\u001b[1;32m     39\u001b[0m     operator0, operator1 \u001b[38;5;241m=\u001b[39m pauli_meas_dict[pauli_str](n_qubit, target_qubit_idx)\n\u001b[0;32m---> 40\u001b[0m     p0 \u001b[38;5;241m=\u001b[39m np\u001b[38;5;241m.\u001b[39mreal(np\u001b[38;5;241m.\u001b[39mtrace(\u001b[43moperator0\u001b[49m\u001b[38;5;241;43m.\u001b[39;49m\u001b[43mT\u001b[49m\u001b[38;5;241;43m.\u001b[39;49m\u001b[43mconjugate\u001b[49m\u001b[43m(\u001b[49m\u001b[43m)\u001b[49m\u001b[43m \u001b[49m\u001b[38;5;241;43m@\u001b[39;49m\u001b[43m \u001b[49m\u001b[43moperator0\u001b[49m\u001b[43m \u001b[49m\u001b[38;5;241;43m@\u001b[39;49m\u001b[43m \u001b[49m\u001b[43mrho\u001b[49m))\n\u001b[1;32m     41\u001b[0m     p1 \u001b[38;5;241m=\u001b[39m np\u001b[38;5;241m.\u001b[39mreal(np\u001b[38;5;241m.\u001b[39mtrace(operator1\u001b[38;5;241m.\u001b[39mT\u001b[38;5;241m.\u001b[39mconjugate() \u001b[38;5;241m@\u001b[39m operator1 \u001b[38;5;241m@\u001b[39m rho))\n\u001b[1;32m     43\u001b[0m     measurement_result_list\u001b[38;5;241m.\u001b[39mappend(np\u001b[38;5;241m.\u001b[39mrandom\u001b[38;5;241m.\u001b[39mchoice([\u001b[38;5;124m\"\u001b[39m\u001b[38;5;124m0\u001b[39m\u001b[38;5;124m\"\u001b[39m, \u001b[38;5;124m\"\u001b[39m\u001b[38;5;124m1\u001b[39m\u001b[38;5;124m\"\u001b[39m], p\u001b[38;5;241m=\u001b[39m[p0, p1]))\n",
      "\u001b[0;31mKeyboardInterrupt\u001b[0m: "
     ]
    }
   ],
   "source": [
    "target_state = target_circuit.GHZ(n_qubit, state_class, error_model, error_rate)\n",
    "utils.save_density_matrix(target_state, target_state_path)\n",
    "\n",
    "meas_pattern_df, train_df = dataset.generate(target_state, n_qubit, error_model, each_n_shot)\n",
    "dataset.save(meas_pattern_df, train_df, train_data_path)"
   ]
  },
  {
   "cell_type": "markdown",
   "id": "f8b6974f-1e2f-4bd4-a3ae-c534528d78a6",
   "metadata": {},
   "source": [
    "## load dataset"
   ]
  },
  {
   "cell_type": "code",
   "execution_count": null,
   "id": "40b334d2-343a-4a92-b37a-229e0a470d71",
   "metadata": {},
   "outputs": [],
   "source": [
    "meas_result, target_rho, meas_label, meas_pattern = utils.load_dataset_DM(train_data_path, target_state_path)"
   ]
  },
  {
   "cell_type": "markdown",
   "id": "262d49c8-188a-49d4-8749-d72b1079200a",
   "metadata": {},
   "source": [
    "## callback settings"
   ]
  },
  {
   "cell_type": "code",
   "execution_count": null,
   "id": "559d3a71-cdde-4b8a-8ea6-357d8eb8d076",
   "metadata": {},
   "outputs": [],
   "source": [
    "n_on_epoch = 1\n",
    "def save_model(nn_state, **kwargs):\n",
    "    global n_on_epoch\n",
    "    os.makedirs(model_path, exist_ok = True)\n",
    "    nn_state.save(model_path + f\"epoch{n_on_epoch}_model.pt\")\n",
    "    n_on_epoch = n_on_epoch + 1\n",
    "\n",
    "def F_ideal_train(nn_state, **kwargs):\n",
    "    save_model(nn_state)\n",
    "    ideal_state = target_circuit.GHZ(n_qubit, state_class, \"ideal\", error_rate)\n",
    "    train_state = utils.get_density_matrix(nn_state)\n",
    "    F = np.trace(sqrtm(sqrtm(ideal_state)@train_state@sqrtm(ideal_state)))\n",
    "    \n",
    "    return (F.real)**2\n",
    "\n",
    "def F_noisy_train(nn_state, **kwargs):\n",
    "    noisy_state = target_circuit.GHZ(n_qubit, state_class, error_model, error_rate)\n",
    "    train_state = utils.get_density_matrix(nn_state)\n",
    "    F = np.trace(sqrtm(sqrtm(noisy_state)@train_state@sqrtm(noisy_state)))\n",
    "    \n",
    "    return (F.real)**2\n",
    "    \n",
    "def F_ideal_mevec(nn_state, **kwargs):\n",
    "    ideal_state = target_circuit.GHZ(n_qubit, state_class, \"ideal\", error_rate)\n",
    "    train_state = utils.get_density_matrix(nn_state)\n",
    "    max_eigen_state = utils.get_max_eigen_vector(train_state)\n",
    "    F = max_eigen_state.T.conjugate()@ideal_state@max_eigen_state\n",
    "    \n",
    "    return F.real\n",
    "\n",
    "def create_callback(nn_state):\n",
    "    metric_dict = {\n",
    "        \"ideal_train\": F_ideal_train,\n",
    "        \"noisy_train\": F_noisy_train,\n",
    "        \"ideal_mevec\": F_ideal_mevec,\n",
    "        \"KL_Divergence\": ts.KL,\n",
    "    }\n",
    "    space = nn_state.generate_hilbert_space()\n",
    "    callbacks = [\n",
    "        MetricEvaluator(\n",
    "            period,\n",
    "            metric_dict,\n",
    "            target = target_rho,\n",
    "            bases = meas_pattern,\n",
    "            verbose = True,\n",
    "            space = space,\n",
    "        )\n",
    "    ]\n",
    "    \n",
    "    return callbacks"
   ]
  },
  {
   "cell_type": "code",
   "execution_count": null,
   "id": "0ff1fa02-aeb5-49fb-8fbc-6370c49f19d8",
   "metadata": {},
   "outputs": [],
   "source": [
    "nn_state = DensityMatrix(num_visible = num_visible, num_hidden = num_hidden, num_aux = num_aux, unitary_dict = unitaries.create_dict(), gpu = use_gpu)\n",
    "callbacks = create_callback(nn_state)"
   ]
  },
  {
   "cell_type": "markdown",
   "id": "f675ad15-85c7-4de4-a52e-2d8572b7046b",
   "metadata": {},
   "source": [
    "## train"
   ]
  },
  {
   "cell_type": "code",
   "execution_count": null,
   "id": "b4967b7b-9b10-469e-99b4-c0bf72d6f0ab",
   "metadata": {
    "scrolled": true,
    "tags": []
   },
   "outputs": [],
   "source": [
    "nn_state.fit(\n",
    "    data = meas_result,\n",
    "    input_bases = meas_label,\n",
    "    epochs = epoch,\n",
    "    pos_batch_size = pbs,\n",
    "    neg_batch_size = nbs,\n",
    "    lr = lr,\n",
    "    k = n_gibbs_step,\n",
    "    bases = meas_pattern,\n",
    "    callbacks = callbacks,\n",
    "    time = True,\n",
    "    optimizer = torch.optim.Adadelta,\n",
    "    scheduler = torch.optim.lr_scheduler.StepLR,\n",
    "    scheduler_args = {\"step_size\": lr_drop_epoch, \"gamma\": lr_drop_factor},\n",
    ")"
   ]
  },
  {
   "cell_type": "markdown",
   "id": "3221eb9e-7d57-4b0f-892d-364b660dfda6",
   "metadata": {},
   "source": [
    "## save train log"
   ]
  },
  {
   "cell_type": "code",
   "execution_count": null,
   "id": "5997bda9-975b-46cd-92c6-b0ba942e83e9",
   "metadata": {},
   "outputs": [],
   "source": [
    "os.makedirs(train_log_path, exist_ok = True)\n",
    "train_log_df = pd.DataFrame()\n",
    "train_log_df[\"epoch\"] = np.arange(1, epoch+1, period)\n",
    "train_log_df[\"F_ideal_train\"] = callbacks[0][\"ideal_train\"]\n",
    "train_log_df[\"F_noisy_train\"] = callbacks[0][\"noisy_train\"]\n",
    "train_log_df[\"F_ideal_mevec\"] = callbacks[0][\"ideal_mevec\"]\n",
    "train_log_df[\"KL_Divergence\"] = callbacks[0][\"KL_Divergence\"]\n",
    "train_log_df.to_csv(train_log_path + \"train_log.csv\", index=False)"
   ]
  },
  {
   "cell_type": "code",
   "execution_count": null,
   "id": "eb4e5d6b-cc1c-4af2-a7f2-26b4f665920f",
   "metadata": {},
   "outputs": [],
   "source": []
  }
 ],
 "metadata": {
  "kernelspec": {
   "display_name": "Python 3 (ipykernel)",
   "language": "python",
   "name": "python3"
  },
  "language_info": {
   "codemirror_mode": {
    "name": "ipython",
    "version": 3
   },
   "file_extension": ".py",
   "mimetype": "text/x-python",
   "name": "python",
   "nbconvert_exporter": "python",
   "pygments_lexer": "ipython3",
   "version": "3.9.10"
  }
 },
 "nbformat": 4,
 "nbformat_minor": 5
}
